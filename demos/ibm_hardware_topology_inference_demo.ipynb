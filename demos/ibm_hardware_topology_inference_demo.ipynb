{
 "cells": [
  {
   "cell_type": "code",
   "execution_count": 1,
   "metadata": {},
   "outputs": [],
   "source": [
    "import pennylane as qml\n",
    "from pennylane import numpy as qnp\n",
    "\n",
    "from qiskit import IBMQ"
   ]
  },
  {
   "attachments": {},
   "cell_type": "markdown",
   "metadata": {},
   "source": [
    "## Load your IBM Q Account\n",
    "\n",
    "An IBM Q account and secret API token are needed to execute quantum circuits on IBM’s hardware and remote simulators. To obtain your IBM Q API token follow these steps:\n",
    "\n",
    "1. Sign in or create an IBM Quantum account at https://quantum-computing.ibm.com/.\n",
    "2. Copy the secret IBM Q API token from the welcome page of your profile.\n",
    "3. Below the token, select `View account Details`, scroll to the `Providers` section and make note of the `hub`, `group`, and `project`. These details are needed to \n",
    "4. Uncomment the first chunk of the following code and edit the `token`, `hub`, `group`, and `project` fields with the correct information. The examples show how the open-access or the DOE/ORNL accounts are set up.\n",
    "\n",
    "You only need to save your account once. Afterwards, it'll be stored locally, and you can simply run `provider = IBMQ.load_account()`.  Note that the `overwrite=True` argument is needed if you have already stored a configuration and  you want to overwrite it with the new account."
   ]
  },
  {
   "cell_type": "code",
   "execution_count": 2,
   "metadata": {},
   "outputs": [],
   "source": [
    "# NOTE : uncomment the following if setting up your account for the first time.\n",
    "\n",
    "# token = \"XYZ\"   # secret IBM Q API token from above\n",
    "# IBMQ.save_account(\n",
    "#     token=token, hub=\"ibm-q\", group=\"open\", project=\"main\", overwrite=True    # open-access account\n",
    "#     # token=token, hub=\"ibm-q-ornl\", group=\"ornl\", project=\"chm185\"    # DOE/ORNL account\n",
    "# )\n",
    "\n",
    "# NOTE : use the next line if you have previously enabled your account using the above lines\n",
    "\n",
    "provider = IBMQ.load_account()"
   ]
  },
  {
   "cell_type": "markdown",
   "metadata": {},
   "source": [
    "## Setting up a Simple Quantum Circuit\n",
    "\n",
    "The first step is to construct a PennyLane device that will run our circuit.\n",
    "To start, we'll use IBM's remote `ibmq_qasm_simulator` device.\n",
    "This device simulates IBM's quantum computers, but without the queuing wait times and significant noise on quantum hardware.\n",
    "A successful run on IBM's simulator means that quantum hardware can be also be run with success."
   ]
  },
  {
   "cell_type": "code",
   "execution_count": 3,
   "metadata": {},
   "outputs": [],
   "source": [
    "sim_dev_kwargs = {\n",
    "    \"name\": \"qiskit.ibmq\",\n",
    "    \"wires\": [0, 1],\n",
    "    \"shots\": 1000,\n",
    "    \"backend\": \"ibmq_qasm_simulator\",\n",
    "    \"provider\": provider,\n",
    "}\n",
    "sim_dev = qml.device(**sim_dev_kwargs)"
   ]
  },
  {
   "cell_type": "markdown",
   "metadata": {},
   "source": [
    "Now, we will construct a simple circuit to run on IBM's simulator device.\n",
    "We'll create a Bell state with local qubit rotations on it.\n",
    "The `diff_method=\"parameter-shift\"` argument specifies that when the gradient is evaluated for the quantum circuit PennyLane will use the parameter-shift rule to evaluate analytical gradients on quantum hardware."
   ]
  },
  {
   "cell_type": "code",
   "execution_count": 4,
   "metadata": {},
   "outputs": [],
   "source": [
    "@qml.qnode(sim_dev, diff_method=\"parameter-shift\")\n",
    "def bell_state_circ(settings):\n",
    "    qml.Hadamard(wires=sim_dev.wires[0])\n",
    "    qml.CNOT(wires=sim_dev.wires[0:2])\n",
    "\n",
    "    qml.RY(settings[0], wires=sim_dev.wires[0])\n",
    "    qml.RY(settings[1], wires=sim_dev.wires[1])\n",
    "\n",
    "    return qml.probs(wires=sim_dev.wires[0:2])"
   ]
  },
  {
   "cell_type": "markdown",
   "metadata": {},
   "source": [
    "Next, we will run the circuit for two different settings.\n",
    "The next cell will take a few seconds to run because of the latency of remote execution.\n",
    "If everything is setup correctly, a probability distribution close to `[0.5, 0, 0, 0.5]` will be returned for the first case, and in the second case, `[0.25, 0.25, 0.25, 0.25]`.\n",
    "You can then `view all` jobs in your IBM Q account and verify that the circuit was run.\n",
    "Selecting the job will show more info such as the circuit executed by IBM, the output data, and a timeline of execution including validation, wait time, and execution time."
   ]
  },
  {
   "cell_type": "code",
   "execution_count": 5,
   "metadata": {},
   "outputs": [
    {
     "name": "stdout",
     "output_type": "stream",
     "text": [
      "bell_state_probs1 =  [0.481 0.    0.    0.519]\n",
      "bell_state_probs2 =  [0.246 0.252 0.261 0.241]\n"
     ]
    }
   ],
   "source": [
    "bell_state_probs1 = bell_state_circ([0, 0])\n",
    "print(\"bell_state_probs1 = \", bell_state_probs1)\n",
    "\n",
    "bell_state_probs2 = bell_state_circ([qnp.pi / 2, 0])\n",
    "print(\"bell_state_probs2 = \", bell_state_probs2)"
   ]
  },
  {
   "cell_type": "markdown",
   "metadata": {},
   "source": [
    "Finally, we can process the data to evaluate a qubit covariance matrix that we can use to infer network topology.\n",
    "Note that the covariance matrices of each case are quite distinct although both cases are maximally entangled states.\n",
    "This shows measurement dependence of the qubit covariance matrix."
   ]
  },
  {
   "cell_type": "code",
   "execution_count": 6,
   "metadata": {},
   "outputs": [
    {
     "name": "stdout",
     "output_type": "stream",
     "text": [
      "covariance matrix 1 : \n",
      "[[0.998556 0.998556]\n",
      " [0.998556 0.998556]]\n",
      "covariance matrix 2 : \n",
      "[[ 0.999984 -0.025944]\n",
      " [-0.025944  0.999804]]\n"
     ]
    }
   ],
   "source": [
    "cov_mat1 = qml.math.cov_matrix(\n",
    "    bell_state_probs1,\n",
    "    obs=[qml.PauliZ(0), qml.PauliZ(1)],\n",
    ")\n",
    "\n",
    "print(\"covariance matrix 1 : \")\n",
    "print(cov_mat1)\n",
    "\n",
    "cov_mat2 = qml.math.cov_matrix(\n",
    "    bell_state_probs2,\n",
    "    obs=[qml.PauliZ(0), qml.PauliZ(1)],\n",
    ")\n",
    "\n",
    "print(\"covariance matrix 2 : \")\n",
    "print(cov_mat2)"
   ]
  },
  {
   "cell_type": "markdown",
   "metadata": {},
   "source": [
    "## Optimizing the Covariance Matrix for Topology Inference\n",
    "\n",
    "In this section, we will use the Bell state example to show how the parameter-shift rule can be used to optimize quantum circuits run on quatum hardware.\n",
    "We first construct a `cost` function that when minimized, will maximize the square of the distance between the covariance matrix and the origin, *i.e.*, we boost the off-diagonals of the matrix to yield visibility into correlative structure of the network."
   ]
  },
  {
   "cell_type": "code",
   "execution_count": 7,
   "metadata": {},
   "outputs": [],
   "source": [
    "def cost(*settings):\n",
    "    probs = bell_state_circ(settings)\n",
    "    cov_mat = qml.math.cov_matrix(probs, obs=[qml.PauliZ(0), qml.PauliZ(1)])\n",
    "\n",
    "    return -qnp.trace(cov_mat.T @ cov_mat)"
   ]
  },
  {
   "cell_type": "markdown",
   "metadata": {},
   "source": [
    "Now, we will set up a basic gradient descent routine and run it on IBM's quantum computer simulator.\n",
    "Note that this may take some time because we'll evaluate the cost in each step alongside the gradient. I count 2 executions in each optimization step.\n",
    "First, we set some variables."
   ]
  },
  {
   "cell_type": "code",
   "execution_count": 8,
   "metadata": {},
   "outputs": [
    {
     "data": {
      "text/plain": [
       "tensor([-2.44028305, -2.99673164], requires_grad=True)"
      ]
     },
     "execution_count": 8,
     "metadata": {},
     "output_type": "execute_result"
    }
   ],
   "source": [
    "init_settings = 2 * qnp.pi * (0.5 - qnp.random.rand(2, requires_grad=True))\n",
    "opt = qml.GradientDescentOptimizer(stepsize=0.1)\n",
    "\n",
    "settings_list = []\n",
    "cost_vals = []\n",
    "\n",
    "init_settings"
   ]
  },
  {
   "cell_type": "markdown",
   "metadata": {},
   "source": [
    "Now we run the optimization!"
   ]
  },
  {
   "cell_type": "code",
   "execution_count": 9,
   "metadata": {},
   "outputs": [
    {
     "name": "stdout",
     "output_type": "stream",
     "text": [
      "\n",
      "gradient descent iteration :  0\n",
      "cost val :  -3.5136905923999997\n",
      "settings :  [tensor(-2.62411611, requires_grad=True), tensor(-2.81053726, requires_grad=True)]\n",
      "\n",
      "gradient descent iteration :  1\n",
      "cost val :  -3.8907746883999996\n",
      "settings :  [tensor(-2.69347892, requires_grad=True), tensor(-2.73628287, requires_grad=True)]\n",
      "\n",
      "gradient descent iteration :  2\n",
      "cost val :  -3.983089909824\n",
      "settings :  [tensor(-2.71838771, requires_grad=True), tensor(-2.72671755, requires_grad=True)]\n",
      "\n",
      "gradient descent iteration :  3\n",
      "cost val :  -3.993730458624\n",
      "settings :  [tensor(-2.70984401, requires_grad=True), tensor(-2.72490138, requires_grad=True)]\n",
      "\n",
      "gradient descent iteration :  4\n",
      "cost val :  -3.9783972464639996\n",
      "settings :  [tensor(-2.72180518, requires_grad=True), tensor(-2.71147219, requires_grad=True)]\n",
      "\n",
      "gradient descent iteration :  5\n",
      "cost val :  -3.988456340544\n",
      "settings :  [tensor(-2.71455486, requires_grad=True), tensor(-2.70494083, requires_grad=True)]\n"
     ]
    }
   ],
   "source": [
    "settings = init_settings\n",
    "for i in range(6):\n",
    "    settings, cost_val = opt.step_and_cost(cost, *settings)\n",
    "\n",
    "    settings_list += [settings]\n",
    "    cost_vals += [cost_val]\n",
    "\n",
    "    print(\"\\ngradient descent iteration : \", i)\n",
    "    print(\"cost val : \", cost_val)\n",
    "    print(\"settings : \", settings)"
   ]
  },
  {
   "cell_type": "markdown",
   "metadata": {},
   "source": [
    "Overall, what you should see in the optimization is two things.\n",
    "1. The cost value approaches `-4` which is the optimal value for the given circuit (each element of the covariance matrix is $\\pm$ 1).\n",
    "2. The optimal settings are arbitrary, but at optimality, `settings[0] == settings[1]`.\n",
    "\n",
    "For validation, we also return the optimal covariance matrix, which is evaluate from the probabilities obtaained by executing `bell_state_circ(opt_settings)`  on the remote IBM simulator."
   ]
  },
  {
   "cell_type": "code",
   "execution_count": 10,
   "metadata": {},
   "outputs": [
    {
     "name": "stdout",
     "output_type": "stream",
     "text": [
      "minimal cost :  -3.993730458624\n",
      "optimal settings :  [tensor(-2.70984401, requires_grad=True), tensor(-2.72490138, requires_grad=True)]\n",
      "optimal covariance matrix : \n",
      "[[0.9996 0.9996]\n",
      " [0.9996 0.9996]]\n"
     ]
    }
   ],
   "source": [
    "min_id = qnp.argmin(cost_vals)\n",
    "min_cost = cost_vals[min_id]\n",
    "\n",
    "opt_settings = settings_list[min_id]\n",
    "\n",
    "print(\"minimal cost : \", min_cost)\n",
    "print(\"optimal settings : \", opt_settings)\n",
    "print(\"optimal covariance matrix : \")\n",
    "print(\n",
    "    qml.math.cov_matrix(\n",
    "        bell_state_circ(opt_settings),\n",
    "        obs=[qml.PauliZ(0), qml.PauliZ(1)],\n",
    "    )\n",
    ")"
   ]
  },
  {
   "cell_type": "code",
   "execution_count": null,
   "metadata": {},
   "outputs": [],
   "source": []
  }
 ],
 "metadata": {
  "kernelspec": {
   "display_name": "Python 3 (ipykernel)",
   "language": "python",
   "name": "python3"
  },
  "language_info": {
   "codemirror_mode": {
    "name": "ipython",
    "version": 3
   },
   "file_extension": ".py",
   "mimetype": "text/x-python",
   "name": "python",
   "nbconvert_exporter": "python",
   "pygments_lexer": "ipython3",
   "version": "3.8.16"
  },
  "vscode": {
   "interpreter": {
    "hash": "846536a23776736bc0845be6c32b9ee9c375f2c4c95b8defe18cef9bdc15dde6"
   }
  }
 },
 "nbformat": 4,
 "nbformat_minor": 2
}
