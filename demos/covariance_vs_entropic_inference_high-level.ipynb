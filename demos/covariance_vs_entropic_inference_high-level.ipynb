{
 "cells": [
  {
   "attachments": {},
   "cell_type": "markdown",
   "metadata": {},
   "source": [
    "# High-level Comparison Between the Network Covariance and Characteristic Matrices\n",
    "\n",
    "In this notebook, we provide a rough comparison between covariance-based and entropy-based topology inference methods.\n",
    "The goal is to test each method across a range of entangled states to get an idea of their relative performance.\n",
    "\n",
    "\n",
    "## Key Differences\n",
    "\n",
    "### Covariance Matrix Advantages\n",
    "\n",
    "There is a significant performance advantage over the characteristic matrix:\n",
    "* This can easily be observed by noting the cell execution times, especially when more qubits are considered. \n",
    "* The covariance is evaluated from one circuit evaluation $O(1)$, whereas the charcteristic matrix requires a minimum of $O(n^2)$ circuit evaluations where $n$ is the number of qubits. Given clever parallelization in quantum circuits, the characteristic matrix may be evaluated in $O(n)$.\n",
    "* Optimizing the covariance matrix seems to require significantly fewer steps than needed to successfully infer topology using the characteristic matrix. This means that fewer circuits need to be run.\n",
    "* The optimization appears to be more robust and less susceptible to local minima. We see this in the fact that the characteristic matrix often fails to infer the GHZ states with more than 3 qubits.\n",
    "\n",
    "\n",
    "### Characteristic Matrix Advantages\n",
    "\n",
    "A key difference between the covariance and characteristic matrices is that the covariance matrix seems to always have ones along the diagonal, even if the measured qubit is not correlated with any other qubits. On the contrary, the characteristic matrix measures a zero von neumann entropy if there is no correlation whatsoever."
   ]
  },
  {
   "cell_type": "code",
   "execution_count": null,
   "metadata": {},
   "outputs": [],
   "source": [
    "import qnetti\n",
    "import pennylane as qml\n",
    "from pennylane import numpy as qnp\n",
    "import qnetvo\n",
    "\n",
    "print(qnetvo.__version__)\n",
    "print(qml.__version__)"
   ]
  },
  {
   "cell_type": "code",
   "execution_count": null,
   "metadata": {},
   "outputs": [],
   "source": [
    "def decision_matrix(mat, atol=0.1):\n",
    "    return qnp.where(qnp.abs(mat) > atol, 1, 0)\n",
    "\n",
    "\n",
    "def matrix_distance(mat1, mat2):\n",
    "    return qnp.linalg.norm(qnp.array(mat1) - qnp.abs(qnp.array(mat2)))\n",
    "\n",
    "\n",
    "def characteristic_matrix_inference(prep_node, expected_mat, **kwargs):\n",
    "    char_mat = qnetti.qubit_characteristic_matrix(prep_node, **kwargs)\n",
    "    dec_mat = decision_matrix(char_mat)\n",
    "    char_dist = matrix_distance(expected_mat, char_mat)\n",
    "\n",
    "    print(\"characteristic matrix :\\n\", char_mat)\n",
    "    print(\"decision matrix :\\n\", dec_mat)\n",
    "    print(\"expected matrix :\\n\", expected_mat)\n",
    "    print(\"distance to expected : \", char_dist)\n",
    "\n",
    "\n",
    "def covariance_matrix_inference(prep_node, num_qubits, expected_mat, meas_wires=None, **kwargs):\n",
    "    opt_dict = qnetvo.gradient_descent(\n",
    "        qnetti.qubit_covariance_cost_fn(prep_node, meas_wires=meas_wires),\n",
    "        qnp.random.rand(3 * num_qubits, requires_grad=True),\n",
    "        **kwargs,\n",
    "    )\n",
    "\n",
    "    cov_mat = qnetti.qubit_covariance_matrix_fn(prep_node, meas_wires=meas_wires)(\n",
    "        opt_dict[\"opt_settings\"]\n",
    "    )\n",
    "    dec_mat = decision_matrix(cov_mat)\n",
    "    cov_dist = matrix_distance(expected_mat, cov_mat)\n",
    "\n",
    "    print(\"covariance matrix :\\n\", cov_mat)\n",
    "    print(\"decision matrix :\\n\", dec_mat)\n",
    "    print(\"expected matrix :\\n\", expected_mat)\n",
    "    print(\"distance to expected : \", cov_dist)"
   ]
  },
  {
   "attachments": {},
   "cell_type": "markdown",
   "metadata": {},
   "source": [
    "## Two-Qubit GHZ State"
   ]
  },
  {
   "cell_type": "code",
   "execution_count": null,
   "metadata": {},
   "outputs": [],
   "source": [
    "ghz2_mat = qnp.ones((2, 2))\n",
    "\n",
    "\n",
    "def rot_bell_state(settings, wires):\n",
    "    qnetvo.ghz_state(settings, wires)\n",
    "    qml.ArbitraryUnitary([qnp.pi / 4, 0.3, -1.5], wires=[wires[0]])\n",
    "    qml.ArbitraryUnitary([-0.7, 2.9, 1.2], wires=[wires[1]])\n",
    "\n",
    "\n",
    "bell_state_prep_node = qnetvo.PrepareNode(wires=[0, 1], ansatz_fn=rot_bell_state)"
   ]
  },
  {
   "cell_type": "code",
   "execution_count": null,
   "metadata": {},
   "outputs": [],
   "source": [
    "characteristic_matrix_inference(bell_state_prep_node, ghz2_mat, num_steps=10, step_size=0.1)"
   ]
  },
  {
   "cell_type": "code",
   "execution_count": null,
   "metadata": {},
   "outputs": [],
   "source": [
    "covariance_matrix_inference(\n",
    "    bell_state_prep_node,\n",
    "    2,\n",
    "    ghz2_mat,\n",
    "    step_size=0.2,\n",
    "    num_steps=6,\n",
    "    sample_width=1,\n",
    "    verbose=False,\n",
    ")"
   ]
  },
  {
   "attachments": {},
   "cell_type": "markdown",
   "metadata": {},
   "source": [
    "## 3-Qubit GHZ state"
   ]
  },
  {
   "cell_type": "code",
   "execution_count": null,
   "metadata": {},
   "outputs": [],
   "source": [
    "ghz3_mat = qnp.ones((3, 3))\n",
    "\n",
    "\n",
    "def rot_ghz3_state(settings, wires):\n",
    "    qnetvo.ghz_state(settings, wires)\n",
    "    qml.ArbitraryUnitary([qnp.pi / 4, 0.3, -1.5], wires=[wires[0]])\n",
    "    qml.ArbitraryUnitary([-0.7, 2.9, 1.2], wires=[wires[1]])\n",
    "    qml.ArbitraryUnitary([-0.9, 0.9, 0.12], wires=[wires[2]])\n",
    "\n",
    "\n",
    "ghz3_state_prep_node = qnetvo.PrepareNode(wires=[0, 1, 2], ansatz_fn=rot_ghz3_state)"
   ]
  },
  {
   "cell_type": "code",
   "execution_count": null,
   "metadata": {},
   "outputs": [],
   "source": [
    "characteristic_matrix_inference(ghz3_state_prep_node, ghz3_mat, num_steps=10, step_size=0.1)"
   ]
  },
  {
   "cell_type": "code",
   "execution_count": null,
   "metadata": {},
   "outputs": [],
   "source": [
    "covariance_matrix_inference(\n",
    "    ghz3_state_prep_node,\n",
    "    3,\n",
    "    ghz3_mat,\n",
    "    step_size=0.1,\n",
    "    num_steps=10,\n",
    "    sample_width=1,\n",
    "    verbose=False,\n",
    ")"
   ]
  },
  {
   "attachments": {},
   "cell_type": "markdown",
   "metadata": {},
   "source": [
    "## 4-Qubit GHZ"
   ]
  },
  {
   "cell_type": "code",
   "execution_count": null,
   "metadata": {},
   "outputs": [],
   "source": [
    "ghz4_mat = qnp.ones((4, 4))\n",
    "\n",
    "\n",
    "def rot_ghz4_state(settings, wires):\n",
    "    qnetvo.ghz_state(settings, wires)\n",
    "    qml.ArbitraryUnitary([qnp.pi / 4, 0.3, -1.5], wires=[wires[0]])\n",
    "    qml.ArbitraryUnitary([-0.7, 2.9, 1.2], wires=[wires[1]])\n",
    "    qml.ArbitraryUnitary([-0.9, 0.9, 0.12], wires=[wires[2]])\n",
    "    qml.ArbitraryUnitary([2, 2, 2], wires=[wires[3]])\n",
    "\n",
    "\n",
    "ghz4_state_prep_node = qnetvo.PrepareNode(wires=[0, 1, 2, 3], ansatz_fn=rot_ghz4_state)"
   ]
  },
  {
   "cell_type": "code",
   "execution_count": null,
   "metadata": {},
   "outputs": [],
   "source": [
    "characteristic_matrix_inference(ghz4_state_prep_node, ghz4_mat, num_steps=30, step_size=0.1)"
   ]
  },
  {
   "cell_type": "code",
   "execution_count": null,
   "metadata": {},
   "outputs": [],
   "source": [
    "covariance_matrix_inference(\n",
    "    ghz4_state_prep_node,\n",
    "    4,\n",
    "    ghz4_mat,\n",
    "    step_size=0.2,\n",
    "    num_steps=6,\n",
    "    sample_width=1,\n",
    "    verbose=False,\n",
    ")"
   ]
  },
  {
   "attachments": {},
   "cell_type": "markdown",
   "metadata": {},
   "source": [
    "# 5-Qubit GHZ"
   ]
  },
  {
   "cell_type": "code",
   "execution_count": null,
   "metadata": {},
   "outputs": [],
   "source": [
    "ghz5_mat = qnp.ones((5, 5))\n",
    "\n",
    "\n",
    "def rot_ghz5_state(settings, wires):\n",
    "    qnetvo.ghz_state(settings, wires)\n",
    "    qml.ArbitraryUnitary([qnp.pi / 4, 0.3, -1.5], wires=[wires[0]])\n",
    "    qml.ArbitraryUnitary([-0.7, 2.9, 1.2], wires=[wires[1]])\n",
    "    qml.ArbitraryUnitary([-0.9, 0.9, 0.12], wires=[wires[2]])\n",
    "    qml.ArbitraryUnitary([2, 2, 2], wires=[wires[3]])\n",
    "    qml.ArbitraryUnitary([1, 2.3, 0.4], wires=[wires[4]])\n",
    "\n",
    "\n",
    "ghz5_state_prep_node = qnetvo.PrepareNode(wires=[0, 1, 2, 3, 4], ansatz_fn=rot_ghz5_state)"
   ]
  },
  {
   "cell_type": "code",
   "execution_count": null,
   "metadata": {},
   "outputs": [],
   "source": [
    "characteristic_matrix_inference(ghz5_state_prep_node, ghz5_mat, num_steps=30, step_size=0.1)"
   ]
  },
  {
   "cell_type": "code",
   "execution_count": null,
   "metadata": {},
   "outputs": [],
   "source": [
    "covariance_matrix_inference(\n",
    "    ghz5_state_prep_node, 5, ghz5_mat, step_size=0.1, num_steps=10, sample_width=1, verbose=False\n",
    ")"
   ]
  },
  {
   "attachments": {},
   "cell_type": "markdown",
   "metadata": {},
   "source": [
    "# 8-qubit GHZ state"
   ]
  },
  {
   "cell_type": "code",
   "execution_count": null,
   "metadata": {},
   "outputs": [],
   "source": [
    "ghz8_mat = qnp.ones((8, 8))\n",
    "\n",
    "\n",
    "def rot_ghz8_state(settings, wires):\n",
    "    qnetvo.ghz_state(settings, wires)\n",
    "    qml.ArbitraryUnitary([qnp.pi / 4, 0.3, -1.5], wires=[wires[0]])\n",
    "    qml.ArbitraryUnitary([-0.7, 2.9, 1.2], wires=[wires[1]])\n",
    "    qml.ArbitraryUnitary([-0.9, 0.9, 0.12], wires=[wires[2]])\n",
    "    qml.ArbitraryUnitary([2, 2, 2], wires=[wires[3]])\n",
    "    qml.ArbitraryUnitary([1, 2.3, 0.4], wires=[wires[4]])\n",
    "    qml.ArbitraryUnitary([-0.9, 0.9, 0.12], wires=[wires[5]])\n",
    "    qml.ArbitraryUnitary([2, 2, 2], wires=[wires[6]])\n",
    "    qml.ArbitraryUnitary([1, 2.3, 0.4], wires=[wires[7]])\n",
    "\n",
    "\n",
    "ghz8_state_prep_node = qnetvo.PrepareNode(\n",
    "    num_in=1,\n",
    "    wires=[0, 1, 2, 3, 4, 5, 6, 7],\n",
    "    ansatz_fn=rot_ghz8_state,\n",
    "    num_settings=0,\n",
    ")"
   ]
  },
  {
   "cell_type": "code",
   "execution_count": null,
   "metadata": {},
   "outputs": [],
   "source": [
    "characteristic_matrix_inference(ghz8_state_prep_node, ghz8_mat, num_steps=30, step_size=0.1)"
   ]
  },
  {
   "cell_type": "code",
   "execution_count": null,
   "metadata": {},
   "outputs": [],
   "source": [
    "covariance_matrix_inference(\n",
    "    ghz8_state_prep_node,\n",
    "    8,\n",
    "    ghz8_mat,\n",
    "    step_size=0.1,\n",
    "    num_steps=10,\n",
    "    sample_width=1,\n",
    "    verbose=False,\n",
    ")"
   ]
  },
  {
   "attachments": {},
   "cell_type": "markdown",
   "metadata": {},
   "source": [
    "# 8 qubit graph state"
   ]
  },
  {
   "cell_type": "code",
   "execution_count": null,
   "metadata": {},
   "outputs": [],
   "source": [
    "# This expected matrix is not known with certainty, but agrees with results\n",
    "graph8_mat = qnp.array(\n",
    "    [\n",
    "        [1, 0, 0, 1, 0, 0, 0, 0],\n",
    "        [0, 1, 1, 0, 0, 0, 0, 0],\n",
    "        [0, 1, 1, 0, 0, 0, 0, 0],\n",
    "        [1, 0, 0, 1, 0, 0, 0, 0],\n",
    "        [0, 0, 0, 0, 1, 0, 0, 0],\n",
    "        [0, 0, 0, 0, 0, 1, 0, 0],\n",
    "        [0, 0, 0, 0, 0, 0, 1, 1],\n",
    "        [0, 0, 0, 0, 0, 0, 1, 1],\n",
    "    ]\n",
    ")\n",
    "\n",
    "graph8_state_prep_node = qnetvo.PrepareNode(\n",
    "    wires=[0, 1, 2, 3, 4, 5, 6, 7],\n",
    "    ansatz_fn=qnetvo.graph_state_fn([[0, 1], [1, 2], [0, 3], [6, 7]]),\n",
    ")"
   ]
  },
  {
   "cell_type": "code",
   "execution_count": null,
   "metadata": {},
   "outputs": [],
   "source": [
    "characteristic_matrix_inference(graph8_state_prep_node, graph8_mat, num_steps=60, step_size=0.02)"
   ]
  },
  {
   "cell_type": "code",
   "execution_count": null,
   "metadata": {},
   "outputs": [],
   "source": [
    "covariance_matrix_inference(\n",
    "    graph8_state_prep_node,\n",
    "    8,\n",
    "    graph8_mat,\n",
    "    step_size=0.05,\n",
    "    num_steps=30,\n",
    "    sample_width=1,\n",
    "    verbose=False,\n",
    ")"
   ]
  },
  {
   "attachments": {},
   "cell_type": "markdown",
   "metadata": {},
   "source": [
    "## 8-Qubit Graph State with Frustrated CNOT arrangement"
   ]
  },
  {
   "cell_type": "code",
   "execution_count": null,
   "metadata": {},
   "outputs": [],
   "source": [
    "# This expected matrix is not known with certainty, but agrees with results\n",
    "graph8_cyclic_mat = qnp.array(\n",
    "    [\n",
    "        [1, 1, 1, 0, 0, 0, 0, 0],\n",
    "        [1, 1, 1, 0, 0, 0, 0, 0],\n",
    "        [1, 1, 1, 0, 0, 0, 0, 0],\n",
    "        [0, 0, 0, 1, 0, 0, 0, 0],\n",
    "        [0, 0, 0, 0, 1, 0, 0, 0],\n",
    "        [0, 0, 0, 0, 0, 1, 0, 0],\n",
    "        [0, 0, 0, 0, 0, 0, 1, 1],\n",
    "        [0, 0, 0, 0, 0, 0, 1, 1],\n",
    "    ]\n",
    ")\n",
    "\n",
    "graph8_cyclic_state_prep_node = qnetvo.PrepareNode(\n",
    "    wires=[0, 1, 2, 3, 4, 5, 6, 7],\n",
    "    ansatz_fn=qnetvo.graph_state_fn([[0, 1], [1, 2], [2, 0], [6, 7]]),\n",
    ")"
   ]
  },
  {
   "cell_type": "code",
   "execution_count": null,
   "metadata": {},
   "outputs": [],
   "source": [
    "characteristic_matrix_inference(\n",
    "    graph8_cyclic_state_prep_node, graph8_cyclic_mat, num_steps=60, step_size=0.02\n",
    ")"
   ]
  },
  {
   "cell_type": "code",
   "execution_count": null,
   "metadata": {},
   "outputs": [],
   "source": [
    "covariance_matrix_inference(\n",
    "    graph8_cyclic_state_prep_node,\n",
    "    8,\n",
    "    graph8_cyclic_mat,\n",
    "    step_size=0.05,\n",
    "    num_steps=30,\n",
    "    sample_width=1,\n",
    "    verbose=False,\n",
    ")"
   ]
  },
  {
   "attachments": {},
   "cell_type": "markdown",
   "metadata": {},
   "source": [
    "## 12-Qubit Graph State"
   ]
  },
  {
   "cell_type": "code",
   "execution_count": null,
   "metadata": {},
   "outputs": [],
   "source": [
    "graph12_mat = qnp.array(\n",
    "    [\n",
    "        [1, 1, 1, 0, 0, 0, 0, 0, 0, 0, 0, 0],\n",
    "        [1, 1, 1, 0, 0, 0, 0, 0, 0, 0, 0, 0],\n",
    "        [1, 1, 1, 0, 0, 0, 0, 0, 0, 0, 0, 0],\n",
    "        [0, 0, 0, 1, 0, 0, 0, 0, 0, 0, 0, 0],\n",
    "        [0, 0, 0, 0, 1, 1, 0, 0, 0, 1, 0, 0],\n",
    "        [0, 0, 0, 0, 1, 1, 0, 0, 0, 1, 0, 0],\n",
    "        [0, 0, 0, 0, 0, 0, 1, 1, 0, 0, 0, 0],\n",
    "        [0, 0, 0, 0, 0, 0, 1, 1, 0, 0, 0, 0],\n",
    "        [0, 0, 0, 0, 0, 0, 0, 0, 1, 0, 0, 0],\n",
    "        [0, 0, 0, 0, 1, 1, 0, 0, 0, 1, 0, 0],\n",
    "        [0, 0, 0, 0, 0, 0, 0, 0, 0, 0, 1, 1],\n",
    "        [0, 0, 0, 0, 0, 0, 0, 0, 0, 0, 1, 1],\n",
    "    ]\n",
    ")\n",
    "graph12_state_prep_node = qnetvo.PrepareNode(\n",
    "    wires=[0, 1, 2, 3, 4, 5, 6, 7, 8, 9, 10, 11],\n",
    "    ansatz_fn=qnetvo.graph_state_fn([[0, 1], [1, 2], [6, 7], [4, 5], [4, 9], [4, 11], [11, 10]]),\n",
    ")"
   ]
  },
  {
   "cell_type": "code",
   "execution_count": null,
   "metadata": {},
   "outputs": [],
   "source": [
    "characteristic_matrix_inference(graph12_state_prep_node, graph12_mat, num_steps=60, step_size=0.02)"
   ]
  },
  {
   "cell_type": "code",
   "execution_count": null,
   "metadata": {},
   "outputs": [],
   "source": [
    "covariance_matrix_inference(\n",
    "    graph12_state_prep_node,\n",
    "    12,\n",
    "    graph12_mat,\n",
    "    num_steps=20,\n",
    "    step_size=0.05,\n",
    "    verbose=False,\n",
    "    sample_width=1,\n",
    ")"
   ]
  },
  {
   "attachments": {},
   "cell_type": "markdown",
   "metadata": {},
   "source": [
    "## A bunch of different entangled states"
   ]
  },
  {
   "cell_type": "code",
   "execution_count": null,
   "metadata": {},
   "outputs": [],
   "source": [
    "multi_ent_mat_full = qnp.zeros((8, 8))\n",
    "multi_ent_mat = qnp.array(\n",
    "    [\n",
    "        [1, 1, 0, 0, 0, 0, 0],\n",
    "        [1, 1, 0, 0, 0, 0, 0],\n",
    "        [0, 0, 1, 1, 0, 0, 0],\n",
    "        [0, 0, 1, 1, 0, 0, 0],\n",
    "        [0, 0, 0, 0, 1, 1, 1],\n",
    "        [0, 0, 0, 0, 1, 1, 1],\n",
    "        [0, 0, 0, 0, 1, 1, 1],\n",
    "    ]\n",
    ")\n",
    "\n",
    "\n",
    "def fn(settings, wires):\n",
    "    qnetvo.shared_coin_flip_state([qnp.pi / 3], wires=[wires[0], wires[1], wires[7]])\n",
    "    qnetvo.ghz_state([], wires=wires[2:4])\n",
    "    qnetvo.W_state([], wires=wires[4:7])\n",
    "\n",
    "\n",
    "multi_ent_prep_node = qnetvo.PrepareNode(\n",
    "    wires=[0, 1, 2, 3, 4, 5, 6, 7],\n",
    "    ansatz_fn=fn,\n",
    ")"
   ]
  },
  {
   "cell_type": "code",
   "execution_count": null,
   "metadata": {},
   "outputs": [],
   "source": [
    "characteristic_matrix_inference(\n",
    "    multi_ent_prep_node, multi_ent_mat_full, num_steps=50, step_size=0.1\n",
    ")"
   ]
  },
  {
   "cell_type": "code",
   "execution_count": null,
   "metadata": {},
   "outputs": [],
   "source": [
    "covariance_matrix_inference(\n",
    "    multi_ent_prep_node,\n",
    "    7,\n",
    "    multi_ent_mat,\n",
    "    meas_wires=[0, 1, 2, 3, 4, 5, 6],\n",
    "    num_steps=20,\n",
    "    step_size=0.05,\n",
    "    verbose=False,\n",
    "    sample_width=1,\n",
    ")"
   ]
  },
  {
   "cell_type": "code",
   "execution_count": null,
   "metadata": {},
   "outputs": [],
   "source": []
  }
 ],
 "metadata": {
  "kernelspec": {
   "display_name": "qnetti-dev",
   "language": "python",
   "name": "python3"
  },
  "language_info": {
   "codemirror_mode": {
    "name": "ipython",
    "version": 3
   },
   "file_extension": ".py",
   "mimetype": "text/x-python",
   "name": "python",
   "nbconvert_exporter": "python",
   "pygments_lexer": "ipython3",
   "version": "3.8.16"
  },
  "orig_nbformat": 4,
  "vscode": {
   "interpreter": {
    "hash": "846536a23776736bc0845be6c32b9ee9c375f2c4c95b8defe18cef9bdc15dde6"
   }
  }
 },
 "nbformat": 4,
 "nbformat_minor": 2
}
