{
 "cells": [
  {
   "attachments": {},
   "cell_type": "markdown",
   "metadata": {},
   "source": [
    "# High-level Comparison Between the Network Covariance and Characteristic Matrices\n",
    "\n",
    "In this notebook, we provide a rough comparison between covariance-based and entropy-based topology inference methods.\n",
    "The goal is to test each method across a range of entangled states to get an idea of their relative performance.\n",
    "\n",
    "\n",
    "## Key Differences\n",
    "\n",
    "### Covariance Matrix Advantages\n",
    "\n",
    "There is a significant performance advantage over the characteristic matrix:\n",
    "* This can easily be observed by noting the cell execution times, especially when more qubits are considered. \n",
    "* The covariance is evaluated from one circuit evaluation $O(1)$, whereas the charcteristic matrix requires a minimum of $O(n^2)$ circuit evaluations where $n$ is the number of qubits. Given clever parallelization in quantum circuits, the characteristic matrix may be evaluated in $O(n)$.\n",
    "* Optimizing the covariance matrix seems to require significantly fewer steps than needed to successfully infer topology using the characteristic matrix. This means that fewer circuits need to be run.\n",
    "* The optimization appears to be more robust and less susceptible to local minima. We see this in the fact that the characteristic matrix often fails to infer the GHZ states with more than 3 qubits.\n",
    "\n",
    "\n",
    "### Characteristic Matrix Advantages\n",
    "\n",
    "A key difference between the covariance and characteristic matrices is that the covariance matrix seems to always have ones along the diagonal, even if the measured qubit is not correlated with any other qubits. On the contrary, the characteristic matrix measures a zero von neumann entropy if there is no correlation whatsoever.\n",
    "\n",
    "The threshold of deciding if a correlation exists needs to be raised as the number of shots decreases.\n",
    "The rate at which covariance methods need to be raised seems to more than characteristic matrices.\n",
    "This may mean, that the variance of the entropic quantities in the low shot regime are improved over those of the covariance matrix."
   ]
  },
  {
   "cell_type": "code",
   "execution_count": 1,
   "metadata": {},
   "outputs": [
    {
     "name": "stdout",
     "output_type": "stream",
     "text": [
      "0.4.1\n",
      "0.28.0\n"
     ]
    }
   ],
   "source": [
    "import qnetti\n",
    "import pennylane as qml\n",
    "from pennylane import numpy as qnp\n",
    "import qnetvo\n",
    "\n",
    "print(qnetvo.__version__)\n",
    "print(qml.__version__)"
   ]
  },
  {
   "cell_type": "code",
   "execution_count": 2,
   "metadata": {},
   "outputs": [],
   "source": [
    "def decision_matrix(mat, atol=0.1):\n",
    "    return qnp.where(qnp.abs(mat) > atol, 1, 0)\n",
    "\n",
    "\n",
    "def matrix_distance(mat1, mat2):\n",
    "    return qnp.linalg.norm(qnp.array(mat1) - qnp.abs(qnp.array(mat2)))\n",
    "\n",
    "\n",
    "def characteristic_matrix_inference(prep_node, expected_mat, **kwargs):\n",
    "    char_mat, mi_opt_dict, vn_opt_dict = qnetti.optimize_characteristic_matrix(prep_node, **kwargs)\n",
    "    dec_mat = decision_matrix(char_mat)\n",
    "    char_dist = matrix_distance(expected_mat, char_mat)\n",
    "\n",
    "    print(\"characteristic matrix :\\n\", char_mat)\n",
    "    print(\"decision matrix :\\n\", dec_mat)\n",
    "    print(\"expected matrix :\\n\", expected_mat)\n",
    "    print(\"distance to expected : \", char_dist)\n",
    "\n",
    "\n",
    "def covariance_matrix_inference(\n",
    "    prep_node,\n",
    "    expected_mat,\n",
    "    **kwargs,\n",
    "):\n",
    "    # settings = qnp.random.rand(3 * num_qubits, requires_grad=True)\n",
    "    # cov_cost = qnetti.qubit_covariance_cost_fn(\n",
    "    #     prep_node, meas_wires=meas_wires, shots=shots, qnode_kwargs=qnode_kwargs\n",
    "    # )\n",
    "\n",
    "    # settings_list = [settings]\n",
    "    # cost_vals = [cov_cost(settings)]\n",
    "\n",
    "    # opt = qml.GradientDescentOptimizer(stepsize=step_size)\n",
    "    # for i in range(num_steps):\n",
    "    #     settings, cost_val = opt.step_and_cost(cov_cost, settings)\n",
    "\n",
    "    #     cost_vals += [cost_val]\n",
    "    #     settings_list += [settings]\n",
    "\n",
    "    # min_id = qnp.argmin(cost_vals)\n",
    "    # min_cost = cost_vals[min_id]\n",
    "    # opt_settings = settings_list[min_id]\n",
    "\n",
    "    # cov_mat = qnetti.qubit_covariance_matrix_fn(\n",
    "    #     prep_node, meas_wires=meas_wires, shots=shots, qnode_kwargs=qnode_kwargs\n",
    "    # )(opt_settings)\n",
    "    # dec_mat = decision_matrix(cov_mat, atol=atol)\n",
    "    # cov_dist = matrix_distance(expected_mat, cov_mat)\n",
    "\n",
    "    cov_mat, opt_dict = qnetti.optimize_covariance_matrix(prep_node, **kwargs)\n",
    "    dec_mat = decision_matrix(cov_mat)\n",
    "\n",
    "    print(\"covariance matrix :\\n\", cov_mat)\n",
    "    print(\"decision matrix :\\n\", dec_mat)\n",
    "    print(\"expected matrix :\\n\", expected_mat)"
   ]
  },
  {
   "attachments": {},
   "cell_type": "markdown",
   "metadata": {},
   "source": [
    "## Two-Qubit GHZ State"
   ]
  },
  {
   "cell_type": "code",
   "execution_count": 3,
   "metadata": {},
   "outputs": [],
   "source": [
    "ghz2_mat = qnp.ones((2, 2))\n",
    "\n",
    "\n",
    "def rot_bell_state(settings, wires):\n",
    "    qnetvo.ghz_state(settings, wires)\n",
    "    qml.ArbitraryUnitary([qnp.pi / 4, 0.3, -1.5], wires=[wires[0]])\n",
    "    qml.ArbitraryUnitary([-0.7, 2.9, 1.2], wires=[wires[1]])\n",
    "\n",
    "\n",
    "bell_state_prep_node = qnetvo.PrepareNode(wires=[0, 1], ansatz_fn=rot_bell_state)"
   ]
  },
  {
   "cell_type": "code",
   "execution_count": 4,
   "metadata": {},
   "outputs": [
    {
     "name": "stdout",
     "output_type": "stream",
     "text": [
      "characteristic matrix :\n",
      " [[1.         0.99997966]\n",
      " [0.99997966 1.        ]]\n",
      "decision matrix :\n",
      " [[1 1]\n",
      " [1 1]]\n",
      "expected matrix :\n",
      " [[1. 1.]\n",
      " [1. 1.]]\n",
      "distance to expected :  2.8771619012054495e-05\n"
     ]
    }
   ],
   "source": [
    "characteristic_matrix_inference(\n",
    "    bell_state_prep_node, ghz2_mat, mi_opt_kwargs={\"num_steps\": 15, \"step_size\": 0.1}\n",
    ")"
   ]
  },
  {
   "cell_type": "code",
   "execution_count": 5,
   "metadata": {},
   "outputs": [
    {
     "name": "stdout",
     "output_type": "stream",
     "text": [
      "covariance matrix :\n",
      " [[1.         0.99999918]\n",
      " [0.99999918 1.        ]]\n",
      "decision matrix :\n",
      " [[1 1]\n",
      " [1 1]]\n",
      "expected matrix :\n",
      " [[1. 1.]\n",
      " [1. 1.]]\n"
     ]
    }
   ],
   "source": [
    "covariance_matrix_inference(\n",
    "    bell_state_prep_node,\n",
    "    ghz2_mat,\n",
    "    step_size=0.2,\n",
    "    num_steps=6,\n",
    "    verbose=False,\n",
    ")"
   ]
  },
  {
   "attachments": {},
   "cell_type": "markdown",
   "metadata": {},
   "source": [
    "## 3-Qubit GHZ state"
   ]
  },
  {
   "cell_type": "code",
   "execution_count": 6,
   "metadata": {},
   "outputs": [],
   "source": [
    "ghz3_mat = qnp.ones((3, 3))\n",
    "\n",
    "\n",
    "def rot_ghz3_state(settings, wires):\n",
    "    qnetvo.ghz_state(settings, wires)\n",
    "    qml.ArbitraryUnitary([qnp.pi / 4, 0.3, -1.5], wires=[wires[0]])\n",
    "    qml.ArbitraryUnitary([-0.7, 2.9, 1.2], wires=[wires[1]])\n",
    "    qml.ArbitraryUnitary([-0.9, 0.9, 0.12], wires=[wires[2]])\n",
    "\n",
    "\n",
    "ghz3_state_prep_node = qnetvo.PrepareNode(wires=[0, 1, 2], ansatz_fn=rot_ghz3_state)"
   ]
  },
  {
   "cell_type": "code",
   "execution_count": 11,
   "metadata": {},
   "outputs": [
    {
     "name": "stdout",
     "output_type": "stream",
     "text": [
      "characteristic matrix :\n",
      " [[1.         0.98950007 0.99026563]\n",
      " [0.98950007 1.         0.98767853]\n",
      " [0.99026563 0.98767853 1.        ]]\n",
      "decision matrix :\n",
      " [[1 1 1]\n",
      " [1 1 1]\n",
      " [1 1 1]]\n",
      "expected matrix :\n",
      " [[1. 1. 1.]\n",
      " [1. 1. 1.]\n",
      " [1. 1. 1.]]\n",
      "distance to expected :  0.026714230804181914\n"
     ]
    }
   ],
   "source": [
    "characteristic_matrix_inference(\n",
    "    ghz3_state_prep_node,\n",
    "    ghz3_mat,\n",
    "    mi_opt_kwargs={\"num_steps\": 40, \"step_size\": 0.4},\n",
    "    use_measured_mutual_info=False,\n",
    ")"
   ]
  },
  {
   "cell_type": "code",
   "execution_count": 12,
   "metadata": {},
   "outputs": [
    {
     "name": "stdout",
     "output_type": "stream",
     "text": [
      "characteristic matrix :\n",
      " [[1.         0.98903036 0.99691531]\n",
      " [0.98903036 1.         0.98888036]\n",
      " [0.99691531 0.98888036 1.        ]]\n",
      "decision matrix :\n",
      " [[1 1 1]\n",
      " [1 1 1]\n",
      " [1 1 1]]\n",
      "expected matrix :\n",
      " [[1. 1. 1.]\n",
      " [1. 1. 1.]\n",
      " [1. 1. 1.]]\n",
      "distance to expected :  0.022516419587203233\n"
     ]
    }
   ],
   "source": [
    "characteristic_matrix_inference(\n",
    "    ghz3_state_prep_node,\n",
    "    ghz3_mat,\n",
    "    mi_opt_kwargs={\"num_steps\": 40, \"step_size\": 0.4},\n",
    "    use_measured_mutual_info=True,\n",
    ")"
   ]
  },
  {
   "cell_type": "code",
   "execution_count": 13,
   "metadata": {},
   "outputs": [
    {
     "name": "stdout",
     "output_type": "stream",
     "text": [
      "covariance matrix :\n",
      " [[ 1.          0.99999998 -0.99999998]\n",
      " [ 0.99999998  1.         -1.        ]\n",
      " [-0.99999998 -1.          1.        ]]\n",
      "decision matrix :\n",
      " [[1 1 1]\n",
      " [1 1 1]\n",
      " [1 1 1]]\n",
      "expected matrix :\n",
      " [[1. 1. 1.]\n",
      " [1. 1. 1.]\n",
      " [1. 1. 1.]]\n"
     ]
    }
   ],
   "source": [
    "covariance_matrix_inference(\n",
    "    ghz3_state_prep_node,\n",
    "    ghz3_mat,\n",
    "    step_size=0.1,\n",
    "    num_steps=15,\n",
    "    verbose=False,\n",
    ")"
   ]
  },
  {
   "attachments": {},
   "cell_type": "markdown",
   "metadata": {},
   "source": [
    "## 4-Qubit GHZ"
   ]
  },
  {
   "cell_type": "code",
   "execution_count": 14,
   "metadata": {},
   "outputs": [],
   "source": [
    "ghz4_mat = qnp.ones((4, 4))\n",
    "\n",
    "\n",
    "def rot_ghz4_state(settings, wires):\n",
    "    qnetvo.ghz_state(settings, wires)\n",
    "    qml.ArbitraryUnitary([qnp.pi / 4, 0.3, -1.5], wires=[wires[0]])\n",
    "    qml.ArbitraryUnitary([-0.7, 2.9, 1.2], wires=[wires[1]])\n",
    "    qml.ArbitraryUnitary([-0.9, 0.9, 0.12], wires=[wires[2]])\n",
    "    qml.ArbitraryUnitary([2, 2, 2], wires=[wires[3]])\n",
    "\n",
    "\n",
    "ghz4_state_prep_node = qnetvo.PrepareNode(wires=[0, 1, 2, 3], ansatz_fn=rot_ghz4_state)"
   ]
  },
  {
   "cell_type": "code",
   "execution_count": 16,
   "metadata": {},
   "outputs": [
    {
     "name": "stdout",
     "output_type": "stream",
     "text": [
      "characteristic matrix :\n",
      " [[1.         0.99997516 0.9999832  0.96370601]\n",
      " [0.99997516 1.         0.99996854 0.96370011]\n",
      " [0.9999832  0.99996854 1.         0.96370331]\n",
      " [0.96370601 0.96370011 0.96370331 1.        ]]\n",
      "decision matrix :\n",
      " [[1 1 1 1]\n",
      " [1 1 1 1]\n",
      " [1 1 1 1]\n",
      " [1 1 1 1]]\n",
      "expected matrix :\n",
      " [[1. 1. 1. 1.]\n",
      " [1. 1. 1. 1.]\n",
      " [1. 1. 1. 1.]\n",
      " [1. 1. 1. 1.]]\n",
      "distance to expected :  0.08890880260527317\n"
     ]
    }
   ],
   "source": [
    "characteristic_matrix_inference(\n",
    "    ghz4_state_prep_node,\n",
    "    ghz4_mat,\n",
    "    mi_opt_kwargs={\n",
    "        \"num_steps\": 30,\n",
    "        \"step_size\": 0.1,\n",
    "    },\n",
    ")"
   ]
  },
  {
   "cell_type": "code",
   "execution_count": 19,
   "metadata": {},
   "outputs": [
    {
     "name": "stdout",
     "output_type": "stream",
     "text": [
      "characteristic matrix :\n",
      " [[1.00000000e+00 5.96948915e-01 9.99999995e-01 9.40381800e-01]\n",
      " [5.96948915e-01 1.00000000e+00 6.88401835e-01 9.36606189e-01]\n",
      " [9.99999995e-01 6.88401835e-01 1.00000000e+00 6.35817811e-04]\n",
      " [9.40381800e-01 9.36606189e-01 6.35817811e-04 1.00000000e+00]]\n",
      "decision matrix :\n",
      " [[1 1 1 1]\n",
      " [1 1 1 1]\n",
      " [1 1 1 0]\n",
      " [1 1 0 1]]\n",
      "expected matrix :\n",
      " [[1. 1. 1. 1.]\n",
      " [1. 1. 1. 1.]\n",
      " [1. 1. 1. 1.]\n",
      " [1. 1. 1. 1.]]\n",
      "distance to expected :  1.591128823602618\n"
     ]
    }
   ],
   "source": [
    "characteristic_matrix_inference(\n",
    "    ghz4_state_prep_node,\n",
    "    ghz4_mat,\n",
    "    mi_opt_kwargs={\n",
    "        \"num_steps\": 30,\n",
    "        \"step_size\": 0.1,\n",
    "    },\n",
    "    use_measured_mutual_info=True,\n",
    ")"
   ]
  },
  {
   "cell_type": "code",
   "execution_count": 21,
   "metadata": {},
   "outputs": [
    {
     "name": "stdout",
     "output_type": "stream",
     "text": [
      "covariance matrix :\n",
      " [[ 1.          0.92092619 -0.91140803 -0.88328875]\n",
      " [ 0.92092619  1.         -0.97772161 -0.94755639]\n",
      " [-0.91140803 -0.97772161  1.          0.937763  ]\n",
      " [-0.88328875 -0.94755639  0.937763    1.        ]]\n",
      "decision matrix :\n",
      " [[1 1 1 1]\n",
      " [1 1 1 1]\n",
      " [1 1 1 1]\n",
      " [1 1 1 1]]\n",
      "expected matrix :\n",
      " [[1. 1. 1. 1.]\n",
      " [1. 1. 1. 1.]\n",
      " [1. 1. 1. 1.]\n",
      " [1. 1. 1. 1.]]\n"
     ]
    }
   ],
   "source": [
    "covariance_matrix_inference(\n",
    "    ghz4_state_prep_node,\n",
    "    ghz4_mat,\n",
    "    step_size=0.2,\n",
    "    num_steps=6,\n",
    "    verbose=False,\n",
    ")"
   ]
  },
  {
   "attachments": {},
   "cell_type": "markdown",
   "metadata": {},
   "source": [
    "# 5-Qubit GHZ"
   ]
  },
  {
   "cell_type": "code",
   "execution_count": 22,
   "metadata": {},
   "outputs": [],
   "source": [
    "ghz5_mat = qnp.ones((5, 5))\n",
    "\n",
    "\n",
    "def rot_ghz5_state(settings, wires):\n",
    "    qnetvo.ghz_state(settings, wires)\n",
    "    qml.ArbitraryUnitary([qnp.pi / 4, 0.3, -1.5], wires=[wires[0]])\n",
    "    qml.ArbitraryUnitary([-0.7, 2.9, 1.2], wires=[wires[1]])\n",
    "    qml.ArbitraryUnitary([-0.9, 0.9, 0.12], wires=[wires[2]])\n",
    "    qml.ArbitraryUnitary([2, 2, 2], wires=[wires[3]])\n",
    "    qml.ArbitraryUnitary([1, 2.3, 0.4], wires=[wires[4]])\n",
    "\n",
    "\n",
    "ghz5_state_prep_node = qnetvo.PrepareNode(wires=[0, 1, 2, 3, 4], ansatz_fn=rot_ghz5_state)"
   ]
  },
  {
   "cell_type": "code",
   "execution_count": 26,
   "metadata": {},
   "outputs": [
    {
     "name": "stdout",
     "output_type": "stream",
     "text": [
      "characteristic matrix :\n",
      " [[1.         0.99359056 1.         0.97498664 0.9940281 ]\n",
      " [0.99359056 1.         0.99359056 0.9705925  0.98862049]\n",
      " [1.         0.99359056 1.         0.97498664 0.9940281 ]\n",
      " [0.97498664 0.9705925  0.97498664 1.         0.97092549]\n",
      " [0.9940281  0.98862049 0.9940281  0.97092549 1.        ]]\n",
      "decision matrix :\n",
      " [[1 1 1 1 1]\n",
      " [1 1 1 1 1]\n",
      " [1 1 1 1 1]\n",
      " [1 1 1 1 1]\n",
      " [1 1 1 1 1]]\n",
      "expected matrix :\n",
      " [[1. 1. 1. 1. 1.]\n",
      " [1. 1. 1. 1. 1.]\n",
      " [1. 1. 1. 1. 1.]\n",
      " [1. 1. 1. 1. 1.]\n",
      " [1. 1. 1. 1. 1.]]\n",
      "distance to expected :  0.08055367245031207\n"
     ]
    }
   ],
   "source": [
    "characteristic_matrix_inference(\n",
    "    ghz5_state_prep_node,\n",
    "    ghz5_mat,\n",
    "    mi_opt_kwargs={\"num_steps\": 30, \"step_size\": 0.1},\n",
    ")"
   ]
  },
  {
   "cell_type": "code",
   "execution_count": 27,
   "metadata": {},
   "outputs": [
    {
     "name": "stdout",
     "output_type": "stream",
     "text": [
      "characteristic matrix :\n",
      " [[1.         0.15317429 1.         0.71774698 1.        ]\n",
      " [0.15317429 1.         1.         0.1161138  0.97933034]\n",
      " [1.         1.         1.         0.98942237 0.99999999]\n",
      " [0.71774698 0.1161138  0.98942237 1.         0.47251307]\n",
      " [1.         0.97933034 0.99999999 0.47251307 1.        ]]\n",
      "decision matrix :\n",
      " [[1 1 1 1 1]\n",
      " [1 1 1 1 1]\n",
      " [1 1 1 1 1]\n",
      " [1 1 1 1 1]\n",
      " [1 1 1 1 1]]\n",
      "expected matrix :\n",
      " [[1. 1. 1. 1. 1.]\n",
      " [1. 1. 1. 1. 1.]\n",
      " [1. 1. 1. 1. 1.]\n",
      " [1. 1. 1. 1. 1.]\n",
      " [1. 1. 1. 1. 1.]]\n",
      "distance to expected :  1.9270791087042223\n"
     ]
    }
   ],
   "source": [
    "characteristic_matrix_inference(\n",
    "    ghz5_state_prep_node,\n",
    "    ghz5_mat,\n",
    "    mi_opt_kwargs={\"num_steps\": 30, \"step_size\": 0.1},\n",
    "    use_measured_mutual_info=True,\n",
    ")"
   ]
  },
  {
   "cell_type": "code",
   "execution_count": 28,
   "metadata": {},
   "outputs": [
    {
     "name": "stdout",
     "output_type": "stream",
     "text": [
      "covariance matrix :\n",
      " [[ 1.          0.99999991 -0.99999999 -0.98622572  0.99999822]\n",
      " [ 0.99999991  1.         -0.99999992 -0.98622565  0.99999814]\n",
      " [-0.99999999 -0.99999992  1.          0.98622573 -0.99999822]\n",
      " [-0.98622572 -0.98622565  0.98622573  1.         -0.98622398]\n",
      " [ 0.99999822  0.99999814 -0.99999822 -0.98622398  1.        ]]\n",
      "decision matrix :\n",
      " [[1 1 1 1 1]\n",
      " [1 1 1 1 1]\n",
      " [1 1 1 1 1]\n",
      " [1 1 1 1 1]\n",
      " [1 1 1 1 1]]\n",
      "expected matrix :\n",
      " [[1. 1. 1. 1. 1.]\n",
      " [1. 1. 1. 1. 1.]\n",
      " [1. 1. 1. 1. 1.]\n",
      " [1. 1. 1. 1. 1.]\n",
      " [1. 1. 1. 1. 1.]]\n"
     ]
    }
   ],
   "source": [
    "covariance_matrix_inference(\n",
    "    ghz5_state_prep_node, ghz5_mat, step_size=0.1, num_steps=10, verbose=False\n",
    ")"
   ]
  },
  {
   "attachments": {},
   "cell_type": "markdown",
   "metadata": {},
   "source": [
    "# 8-qubit GHZ state"
   ]
  },
  {
   "cell_type": "code",
   "execution_count": 29,
   "metadata": {},
   "outputs": [],
   "source": [
    "ghz8_mat = qnp.ones((8, 8))\n",
    "\n",
    "\n",
    "def rot_ghz8_state(settings, wires):\n",
    "    qnetvo.ghz_state(settings, wires)\n",
    "    qml.ArbitraryUnitary([qnp.pi / 4, 0.3, -1.5], wires=[wires[0]])\n",
    "    qml.ArbitraryUnitary([-0.7, 2.9, 1.2], wires=[wires[1]])\n",
    "    qml.ArbitraryUnitary([-0.9, 0.9, 0.12], wires=[wires[2]])\n",
    "    qml.ArbitraryUnitary([2, 2, 2], wires=[wires[3]])\n",
    "    qml.ArbitraryUnitary([1, 2.3, 0.4], wires=[wires[4]])\n",
    "    qml.ArbitraryUnitary([-0.9, 0.9, 0.12], wires=[wires[5]])\n",
    "    qml.ArbitraryUnitary([2, 2, 2], wires=[wires[6]])\n",
    "    qml.ArbitraryUnitary([1, 2.3, 0.4], wires=[wires[7]])\n",
    "\n",
    "\n",
    "ghz8_state_prep_node = qnetvo.PrepareNode(\n",
    "    wires=[0, 1, 2, 3, 4, 5, 6, 7],\n",
    "    ansatz_fn=rot_ghz8_state,\n",
    ")"
   ]
  },
  {
   "cell_type": "code",
   "execution_count": 30,
   "metadata": {},
   "outputs": [
    {
     "name": "stdout",
     "output_type": "stream",
     "text": [
      "characteristic matrix :\n",
      " [[1.         0.99651186 0.98992905 0.91718827 0.99196228 0.98743777\n",
      "  0.93136837 0.99547558]\n",
      " [0.99651186 1.         0.99137212 0.91809538 0.99346344 0.98882488\n",
      "  0.93232561 0.997134  ]\n",
      " [0.98992905 0.99137212 1.         0.91419829 0.98725091 0.98300417\n",
      "  0.92821704 0.99045558]\n",
      " [0.91718827 0.91809538 0.91419829 1.         0.91545699 0.9126064\n",
      "  0.87021568 0.91752152]\n",
      " [0.99196228 0.99346344 0.98725091 0.91545699 1.         0.9848477\n",
      "  0.92954295 0.99250882]\n",
      " [0.98743777 0.98882488 0.98300417 0.9126064  0.9848477  1.\n",
      "  0.92654158 0.9879447 ]\n",
      " [0.93136837 0.93232561 0.92821704 0.87021568 0.92954295 0.92654158\n",
      "  1.         0.93171996]\n",
      " [0.99547558 0.997134   0.99045558 0.91752152 0.99250882 0.9879447\n",
      "  0.93171996 1.        ]]\n",
      "decision matrix :\n",
      " [[1 1 1 1 1 1 1 1]\n",
      " [1 1 1 1 1 1 1 1]\n",
      " [1 1 1 1 1 1 1 1]\n",
      " [1 1 1 1 1 1 1 1]\n",
      " [1 1 1 1 1 1 1 1]\n",
      " [1 1 1 1 1 1 1 1]\n",
      " [1 1 1 1 1 1 1 1]\n",
      " [1 1 1 1 1 1 1 1]]\n",
      "expected matrix :\n",
      " [[1. 1. 1. 1. 1. 1. 1. 1.]\n",
      " [1. 1. 1. 1. 1. 1. 1. 1.]\n",
      " [1. 1. 1. 1. 1. 1. 1. 1.]\n",
      " [1. 1. 1. 1. 1. 1. 1. 1.]\n",
      " [1. 1. 1. 1. 1. 1. 1. 1.]\n",
      " [1. 1. 1. 1. 1. 1. 1. 1.]\n",
      " [1. 1. 1. 1. 1. 1. 1. 1.]\n",
      " [1. 1. 1. 1. 1. 1. 1. 1.]]\n",
      "distance to expected :  0.4252190138265438\n"
     ]
    }
   ],
   "source": [
    "characteristic_matrix_inference(\n",
    "    ghz8_state_prep_node,\n",
    "    ghz8_mat,\n",
    "    mi_opt_kwargs={\"num_steps\": 30, \"step_size\": 0.1},\n",
    ")"
   ]
  },
  {
   "cell_type": "code",
   "execution_count": 32,
   "metadata": {},
   "outputs": [
    {
     "name": "stdout",
     "output_type": "stream",
     "text": [
      "characteristic matrix :\n",
      " [[1.00000000e+00 5.56807967e-03 7.28292798e-03 9.94677639e-01\n",
      "  9.32645707e-01 1.46698830e-02 4.32586877e-02 9.99821301e-01]\n",
      " [5.56807967e-03 1.00000000e+00 2.69601911e-01 1.46464549e-04\n",
      "  1.86266512e-01 9.99999998e-01 1.12158842e-02 4.09249013e-04]\n",
      " [7.28292798e-03 2.69601911e-01 1.00000000e+00 9.43272014e-01\n",
      "  7.49201963e-01 9.99981254e-01 9.34008060e-01 6.34812047e-02]\n",
      " [9.94677639e-01 1.46464549e-04 9.43272014e-01 1.00000000e+00\n",
      "  6.16061702e-01 9.64783739e-01 9.40512137e-01 9.33245144e-01]\n",
      " [9.32645707e-01 1.86266512e-01 7.49201963e-01 6.16061702e-01\n",
      "  1.00000000e+00 9.99999998e-01 9.33939214e-01 9.99252625e-01]\n",
      " [1.46698830e-02 9.99999998e-01 9.99981254e-01 9.64783739e-01\n",
      "  9.99999998e-01 1.00000000e+00 5.46480445e-01 1.17525280e-01]\n",
      " [4.32586877e-02 1.12158842e-02 9.34008060e-01 9.40512137e-01\n",
      "  9.33939214e-01 5.46480445e-01 1.00000000e+00 9.62028398e-01]\n",
      " [9.99821301e-01 4.09249013e-04 6.34812047e-02 9.33245144e-01\n",
      "  9.99252625e-01 1.17525280e-01 9.62028398e-01 1.00000000e+00]]\n",
      "decision matrix :\n",
      " [[1 0 0 1 1 0 0 1]\n",
      " [0 1 1 0 1 1 0 0]\n",
      " [0 1 1 1 1 1 1 0]\n",
      " [1 0 1 1 1 1 1 1]\n",
      " [1 1 1 1 1 1 1 1]\n",
      " [0 1 1 1 1 1 1 1]\n",
      " [0 0 1 1 1 1 1 1]\n",
      " [1 0 0 1 1 1 1 1]]\n",
      "expected matrix :\n",
      " [[1. 1. 1. 1. 1. 1. 1. 1.]\n",
      " [1. 1. 1. 1. 1. 1. 1. 1.]\n",
      " [1. 1. 1. 1. 1. 1. 1. 1.]\n",
      " [1. 1. 1. 1. 1. 1. 1. 1.]\n",
      " [1. 1. 1. 1. 1. 1. 1. 1.]\n",
      " [1. 1. 1. 1. 1. 1. 1. 1.]\n",
      " [1. 1. 1. 1. 1. 1. 1. 1.]\n",
      " [1. 1. 1. 1. 1. 1. 1. 1.]]\n",
      "distance to expected :  4.501518563599964\n"
     ]
    }
   ],
   "source": [
    "characteristic_matrix_inference(\n",
    "    ghz8_state_prep_node,\n",
    "    ghz8_mat,\n",
    "    mi_opt_kwargs={\"num_steps\": 30, \"step_size\": 0.1},\n",
    "    use_measured_mutual_info=True,\n",
    ")"
   ]
  },
  {
   "cell_type": "code",
   "execution_count": 34,
   "metadata": {},
   "outputs": [
    {
     "name": "stdout",
     "output_type": "stream",
     "text": [
      "covariance matrix :\n",
      " [[ 1.          0.95279916 -0.93596336  0.94349142 -0.8701739   0.91189771\n",
      "  -0.91555223 -0.95457646]\n",
      " [ 0.95279916  1.         -0.97788071  0.98574591 -0.90914485  0.95273727\n",
      "  -0.95655546 -0.9973274 ]\n",
      " [-0.93596336 -0.97788071  1.         -0.96832795  0.89308042 -0.93590257\n",
      "   0.93965329  0.9797048 ]\n",
      " [ 0.94349142  0.98574591 -0.96832795  1.         -0.90026356  0.94343014\n",
      "  -0.94721103 -0.98758467]\n",
      " [-0.8701739  -0.90914485  0.89308042 -0.90026356  1.         -0.87011738\n",
      "   0.87360447  0.91084072]\n",
      " [ 0.91189771  0.95273727 -0.93590257  0.94343014 -0.87011738  1.\n",
      "  -0.91549277 -0.95451446]\n",
      " [-0.91555223 -0.95655546  0.93965329 -0.94721103  0.87360447 -0.91549277\n",
      "   1.          0.95833977]\n",
      " [-0.95457646 -0.9973274   0.9797048  -0.98758467  0.91084072 -0.95451446\n",
      "   0.95833977  1.        ]]\n",
      "decision matrix :\n",
      " [[1 1 1 1 1 1 1 1]\n",
      " [1 1 1 1 1 1 1 1]\n",
      " [1 1 1 1 1 1 1 1]\n",
      " [1 1 1 1 1 1 1 1]\n",
      " [1 1 1 1 1 1 1 1]\n",
      " [1 1 1 1 1 1 1 1]\n",
      " [1 1 1 1 1 1 1 1]\n",
      " [1 1 1 1 1 1 1 1]]\n",
      "expected matrix :\n",
      " [[1. 1. 1. 1. 1. 1. 1. 1.]\n",
      " [1. 1. 1. 1. 1. 1. 1. 1.]\n",
      " [1. 1. 1. 1. 1. 1. 1. 1.]\n",
      " [1. 1. 1. 1. 1. 1. 1. 1.]\n",
      " [1. 1. 1. 1. 1. 1. 1. 1.]\n",
      " [1. 1. 1. 1. 1. 1. 1. 1.]\n",
      " [1. 1. 1. 1. 1. 1. 1. 1.]\n",
      " [1. 1. 1. 1. 1. 1. 1. 1.]]\n"
     ]
    }
   ],
   "source": [
    "covariance_matrix_inference(\n",
    "    ghz8_state_prep_node,\n",
    "    ghz8_mat,\n",
    "    step_size=0.1,\n",
    "    num_steps=10,\n",
    "    verbose=False,\n",
    ")"
   ]
  },
  {
   "attachments": {},
   "cell_type": "markdown",
   "metadata": {},
   "source": [
    "# 8 qubit graph state"
   ]
  },
  {
   "cell_type": "code",
   "execution_count": 35,
   "metadata": {},
   "outputs": [],
   "source": [
    "# This expected matrix is not known with certainty, but agrees with results\n",
    "graph8_mat = qnp.array(\n",
    "    [\n",
    "        [1, 0, 0, 1, 0, 0, 0, 0],\n",
    "        [0, 1, 1, 0, 0, 0, 0, 0],\n",
    "        [0, 1, 1, 0, 0, 0, 0, 0],\n",
    "        [1, 0, 0, 1, 0, 0, 0, 0],\n",
    "        [0, 0, 0, 0, 1, 0, 0, 0],\n",
    "        [0, 0, 0, 0, 0, 1, 0, 0],\n",
    "        [0, 0, 0, 0, 0, 0, 1, 1],\n",
    "        [0, 0, 0, 0, 0, 0, 1, 1],\n",
    "    ]\n",
    ")\n",
    "\n",
    "graph8_state_prep_node = qnetvo.PrepareNode(\n",
    "    wires=[0, 1, 2, 3, 4, 5, 6, 7],\n",
    "    ansatz_fn=qnetvo.graph_state_fn([[0, 1], [1, 2], [0, 3], [6, 7]]),\n",
    ")"
   ]
  },
  {
   "cell_type": "code",
   "execution_count": 36,
   "metadata": {},
   "outputs": [
    {
     "name": "stdout",
     "output_type": "stream",
     "text": [
      "characteristic matrix :\n",
      " [[1.00000000e+00 3.99680289e-15 4.21884749e-15 7.54810721e-01\n",
      "  3.99680289e-15 4.21884749e-15 4.21884749e-15 3.99680289e-15]\n",
      " [3.99680289e-15 1.00000000e+00 1.27712390e-04 4.44089210e-15\n",
      "  4.21884749e-15 3.99680289e-15 4.44089210e-15 3.99680289e-15]\n",
      " [4.21884749e-15 1.27712390e-04 1.00000000e+00 4.44089210e-15\n",
      "  3.99680289e-15 3.99680289e-15 4.21884749e-15 4.44089210e-15]\n",
      " [7.54810721e-01 4.44089210e-15 4.44089210e-15 1.00000000e+00\n",
      "  3.77475828e-15 3.99680289e-15 3.77475828e-15 3.99680289e-15]\n",
      " [3.99680289e-15 4.21884749e-15 3.99680289e-15 3.77475828e-15\n",
      "  2.99945761e-09 3.99680289e-15 4.21884749e-15 4.21884749e-15]\n",
      " [4.21884749e-15 3.99680289e-15 3.99680289e-15 3.99680289e-15\n",
      "  3.99680289e-15 3.05610876e-09 3.99680289e-15 4.21884749e-15]\n",
      " [4.21884749e-15 4.44089210e-15 4.21884749e-15 3.77475828e-15\n",
      "  4.21884749e-15 3.99680289e-15 1.00000000e+00 9.92337293e-01]\n",
      " [3.99680289e-15 3.99680289e-15 4.44089210e-15 3.99680289e-15\n",
      "  4.21884749e-15 4.21884749e-15 9.92337293e-01 1.00000000e+00]]\n",
      "decision matrix :\n",
      " [[1 0 0 1 0 0 0 0]\n",
      " [0 1 0 0 0 0 0 0]\n",
      " [0 0 1 0 0 0 0 0]\n",
      " [1 0 0 1 0 0 0 0]\n",
      " [0 0 0 0 0 0 0 0]\n",
      " [0 0 0 0 0 0 0 0]\n",
      " [0 0 0 0 0 0 1 1]\n",
      " [0 0 0 0 0 0 1 1]]\n",
      "expected matrix :\n",
      " [[1 0 0 1 0 0 0 0]\n",
      " [0 1 1 0 0 0 0 0]\n",
      " [0 1 1 0 0 0 0 0]\n",
      " [1 0 0 1 0 0 0 0]\n",
      " [0 0 0 0 1 0 0 0]\n",
      " [0 0 0 0 0 1 0 0]\n",
      " [0 0 0 0 0 0 1 1]\n",
      " [0 0 0 0 0 0 1 1]]\n",
      "distance to expected :  2.0297394341636186\n"
     ]
    }
   ],
   "source": [
    "characteristic_matrix_inference(\n",
    "    graph8_state_prep_node,\n",
    "    graph8_mat,\n",
    "    mi_opt_kwargs={\n",
    "        \"num_steps\": 60,\n",
    "        \"step_size\": 0.02,\n",
    "    },\n",
    ")"
   ]
  },
  {
   "cell_type": "code",
   "execution_count": 37,
   "metadata": {},
   "outputs": [
    {
     "name": "stdout",
     "output_type": "stream",
     "text": [
      "characteristic matrix :\n",
      " [[1.00000000e+00 3.10862447e-15 3.10862447e-15 2.45715471e-04\n",
      "  3.77475828e-15 2.22044605e-15 2.22044605e-15 3.10862447e-15]\n",
      " [3.10862447e-15 1.00000000e+00 1.61602099e-01 3.10862447e-15\n",
      "  1.99840144e-15 2.22044605e-15 4.21884749e-15 2.88657986e-15]\n",
      " [3.10862447e-15 1.61602099e-01 1.00000000e+00 2.88657986e-15\n",
      "  3.10862447e-15 2.66453526e-15 3.77475828e-15 4.44089210e-15]\n",
      " [2.45715471e-04 3.10862447e-15 2.88657986e-15 1.00000000e+00\n",
      "  2.88657986e-15 3.77475828e-15 4.44089210e-15 3.10862447e-15]\n",
      " [3.77475828e-15 1.99840144e-15 3.10862447e-15 2.88657986e-15\n",
      "  3.13465931e-01 3.77475828e-15 2.66453526e-15 1.11022302e-15]\n",
      " [2.22044605e-15 2.22044605e-15 2.66453526e-15 3.77475828e-15\n",
      "  3.77475828e-15 3.69188385e-02 1.33226763e-15 3.10862447e-15]\n",
      " [2.22044605e-15 4.21884749e-15 3.77475828e-15 4.44089210e-15\n",
      "  2.66453526e-15 1.33226763e-15 1.00000000e+00 6.73929407e-02]\n",
      " [3.10862447e-15 2.88657986e-15 4.44089210e-15 3.10862447e-15\n",
      "  1.11022302e-15 3.10862447e-15 6.73929407e-02 1.00000000e+00]]\n",
      "decision matrix :\n",
      " [[1 0 0 0 0 0 0 0]\n",
      " [0 1 1 0 0 0 0 0]\n",
      " [0 1 1 0 0 0 0 0]\n",
      " [0 0 0 1 0 0 0 0]\n",
      " [0 0 0 0 1 0 0 0]\n",
      " [0 0 0 0 0 0 0 0]\n",
      " [0 0 0 0 0 0 1 0]\n",
      " [0 0 0 0 0 0 0 1]]\n",
      "expected matrix :\n",
      " [[1 0 0 1 0 0 0 0]\n",
      " [0 1 1 0 0 0 0 0]\n",
      " [0 1 1 0 0 0 0 0]\n",
      " [1 0 0 1 0 0 0 0]\n",
      " [0 0 0 0 1 0 0 0]\n",
      " [0 0 0 0 0 1 0 0]\n",
      " [0 0 0 0 0 0 1 1]\n",
      " [0 0 0 0 0 0 1 1]]\n",
      "distance to expected :  2.557969027223226\n"
     ]
    }
   ],
   "source": [
    "characteristic_matrix_inference(\n",
    "    graph8_state_prep_node,\n",
    "    graph8_mat,\n",
    "    mi_opt_kwargs={\n",
    "        \"num_steps\": 60,\n",
    "        \"step_size\": 0.02,\n",
    "    },\n",
    "    use_measured_mutual_info=True,\n",
    ")"
   ]
  },
  {
   "cell_type": "code",
   "execution_count": 40,
   "metadata": {},
   "outputs": [
    {
     "name": "stdout",
     "output_type": "stream",
     "text": [
      "covariance matrix :\n",
      " [[ 1.00000000e+00 -1.94289029e-16 -8.32667268e-17  9.99951678e-01\n",
      "  -2.20738870e-16 -1.11068947e-16 -8.32667268e-17  1.38777878e-16]\n",
      " [-1.94289029e-16  1.00000000e+00  6.66423972e-01 -1.11022302e-16\n",
      "   1.95860170e-18 -1.11092269e-16  2.77555756e-17 -2.77555756e-17]\n",
      " [-8.32667268e-17  6.66423972e-01  1.00000000e+00 -1.66533454e-16\n",
      "  -5.35525495e-17 -6.99665807e-20 -2.77555756e-17  8.32667268e-17]\n",
      " [ 9.99951678e-01 -1.11022302e-16 -1.66533454e-16  1.00000000e+00\n",
      "  -1.11022302e-16 -5.55111512e-17 -8.32667268e-17  8.32667268e-17]\n",
      " [-2.20738870e-16  1.95860170e-18 -5.35525495e-17 -1.11022302e-16\n",
      "   2.33836997e-02 -4.85722573e-17 -1.67186321e-16  1.52022897e-18]\n",
      " [-1.11068947e-16 -1.11092269e-16 -6.99665807e-20 -5.55111512e-17\n",
      "  -4.85722573e-17  9.99999823e-01  5.55344734e-17  2.77322534e-17]\n",
      " [-8.32667268e-17  2.77555756e-17 -2.77555756e-17 -8.32667268e-17\n",
      "  -1.67186321e-16  5.55344734e-17  1.00000000e+00 -9.99999999e-01]\n",
      " [ 1.38777878e-16 -2.77555756e-17  8.32667268e-17  8.32667268e-17\n",
      "   1.52022897e-18  2.77322534e-17 -9.99999999e-01  1.00000000e+00]]\n",
      "decision matrix :\n",
      " [[1 0 0 1 0 0 0 0]\n",
      " [0 1 1 0 0 0 0 0]\n",
      " [0 1 1 0 0 0 0 0]\n",
      " [1 0 0 1 0 0 0 0]\n",
      " [0 0 0 0 0 0 0 0]\n",
      " [0 0 0 0 0 1 0 0]\n",
      " [0 0 0 0 0 0 1 1]\n",
      " [0 0 0 0 0 0 1 1]]\n",
      "expected matrix :\n",
      " [[1 0 0 1 0 0 0 0]\n",
      " [0 1 1 0 0 0 0 0]\n",
      " [0 1 1 0 0 0 0 0]\n",
      " [1 0 0 1 0 0 0 0]\n",
      " [0 0 0 0 1 0 0 0]\n",
      " [0 0 0 0 0 1 0 0]\n",
      " [0 0 0 0 0 0 1 1]\n",
      " [0 0 0 0 0 0 1 1]]\n"
     ]
    }
   ],
   "source": [
    "covariance_matrix_inference(\n",
    "    graph8_state_prep_node,\n",
    "    graph8_mat,\n",
    "    step_size=0.05,\n",
    "    num_steps=30,\n",
    "    verbose=False,\n",
    ")"
   ]
  },
  {
   "attachments": {},
   "cell_type": "markdown",
   "metadata": {},
   "source": [
    "## 8-Qubit Graph State with Frustrated CNOT arrangement"
   ]
  },
  {
   "cell_type": "code",
   "execution_count": 41,
   "metadata": {},
   "outputs": [],
   "source": [
    "graph8_cyclic_mat = qnp.array(\n",
    "    [\n",
    "        [1, 1, 1, 0, 0, 0, 0, 0],\n",
    "        [1, 1, 1, 0, 0, 0, 0, 0],\n",
    "        [1, 1, 1, 0, 0, 0, 0, 0],\n",
    "        [0, 0, 0, 1, 0, 0, 0, 0],\n",
    "        [0, 0, 0, 0, 1, 0, 0, 0],\n",
    "        [0, 0, 0, 0, 0, 1, 0, 0],\n",
    "        [0, 0, 0, 0, 0, 0, 1, 1],\n",
    "        [0, 0, 0, 0, 0, 0, 1, 1],\n",
    "    ]\n",
    ")\n",
    "\n",
    "graph8_cyclic_state_prep_node = qnetvo.PrepareNode(\n",
    "    wires=[0, 1, 2, 3, 4, 5, 6, 7],\n",
    "    ansatz_fn=qnetvo.graph_state_fn([[0, 1], [1, 2], [2, 0], [6, 7]]),\n",
    ")"
   ]
  },
  {
   "cell_type": "code",
   "execution_count": 44,
   "metadata": {},
   "outputs": [
    {
     "name": "stdout",
     "output_type": "stream",
     "text": [
      "characteristic matrix :\n",
      " [[1.00000000e+00 8.07513851e-08 2.88267330e-05 6.88338275e-15\n",
      "  6.88338275e-15 7.10542736e-15 7.32747196e-15 7.10542736e-15]\n",
      " [8.07513851e-08 1.00000000e+00 1.55064740e-04 6.88338275e-15\n",
      "  6.88338275e-15 7.10542736e-15 6.88338275e-15 7.32747196e-15]\n",
      " [2.88267330e-05 1.55064740e-04 1.00000000e+00 6.88338275e-15\n",
      "  6.88338275e-15 6.88338275e-15 7.10542736e-15 7.10542736e-15]\n",
      " [6.88338275e-15 6.88338275e-15 6.88338275e-15 1.05943751e-01\n",
      "  6.77236045e-15 6.88338275e-15 6.88338275e-15 7.10542736e-15]\n",
      " [6.88338275e-15 6.88338275e-15 6.88338275e-15 6.77236045e-15\n",
      "  1.22791150e-09 6.88338275e-15 6.88338275e-15 6.88338275e-15]\n",
      " [7.10542736e-15 7.10542736e-15 6.88338275e-15 6.88338275e-15\n",
      "  6.88338275e-15 5.23989771e-02 7.10542736e-15 7.10542736e-15]\n",
      " [7.32747196e-15 6.88338275e-15 7.10542736e-15 6.88338275e-15\n",
      "  6.88338275e-15 7.10542736e-15 1.00000000e+00 9.99999993e-01]\n",
      " [7.10542736e-15 7.32747196e-15 7.10542736e-15 7.10542736e-15\n",
      "  6.88338275e-15 7.10542736e-15 9.99999993e-01 1.00000000e+00]]\n",
      "decision matrix :\n",
      " [[1 0 0 0 0 0 0 0]\n",
      " [0 1 0 0 0 0 0 0]\n",
      " [0 0 1 0 0 0 0 0]\n",
      " [0 0 0 1 0 0 0 0]\n",
      " [0 0 0 0 0 0 0 0]\n",
      " [0 0 0 0 0 0 0 0]\n",
      " [0 0 0 0 0 0 1 1]\n",
      " [0 0 0 0 0 0 1 1]]\n",
      "expected matrix :\n",
      " [[1 1 1 0 0 0 0 0]\n",
      " [1 1 1 0 0 0 0 0]\n",
      " [1 1 1 0 0 0 0 0]\n",
      " [0 0 0 1 0 0 0 0]\n",
      " [0 0 0 0 1 0 0 0]\n",
      " [0 0 0 0 0 1 0 0]\n",
      " [0 0 0 0 0 0 1 1]\n",
      " [0 0 0 0 0 0 1 1]]\n",
      "distance to expected :  2.9489910873491176\n"
     ]
    }
   ],
   "source": [
    "characteristic_matrix_inference(\n",
    "    graph8_cyclic_state_prep_node,\n",
    "    graph8_cyclic_mat,\n",
    "    mi_opt_kwargs={\"num_steps\": 60, \"step_size\": 0.02},\n",
    ")"
   ]
  },
  {
   "cell_type": "code",
   "execution_count": 45,
   "metadata": {},
   "outputs": [
    {
     "name": "stdout",
     "output_type": "stream",
     "text": [
      "characteristic matrix :\n",
      " [[1.00000000e+00 7.18145230e-05 4.07131922e-03 2.88657986e-15\n",
      "  3.10862447e-15 3.55271368e-15 2.88657986e-15 2.66453526e-15]\n",
      " [7.18145230e-05 1.00000000e+00 1.04000346e-07 3.33066907e-15\n",
      "  3.10862447e-15 3.77475828e-15 3.10862447e-15 2.88657986e-15]\n",
      " [4.07131922e-03 1.04000346e-07 1.00000000e+00 3.55271368e-15\n",
      "  3.33066907e-15 2.44249065e-15 2.88657986e-15 2.66453526e-15]\n",
      " [2.88657986e-15 3.33066907e-15 3.55271368e-15 7.30200885e-04\n",
      "  3.10862447e-15 1.99840144e-15 4.21884749e-15 4.88498131e-15]\n",
      " [3.10862447e-15 3.10862447e-15 3.33066907e-15 3.10862447e-15\n",
      "  4.69566525e-01 3.10862447e-15 1.99840144e-15 2.66453526e-15]\n",
      " [3.55271368e-15 3.77475828e-15 2.44249065e-15 1.99840144e-15\n",
      "  3.10862447e-15 6.67997304e-02 2.66453526e-15 3.77475828e-15]\n",
      " [2.88657986e-15 3.10862447e-15 2.88657986e-15 4.21884749e-15\n",
      "  1.99840144e-15 2.66453526e-15 1.00000000e+00 9.94741824e-01]\n",
      " [2.66453526e-15 2.88657986e-15 2.66453526e-15 4.88498131e-15\n",
      "  2.66453526e-15 3.77475828e-15 9.94741824e-01 1.00000000e+00]]\n",
      "decision matrix :\n",
      " [[1 0 0 0 0 0 0 0]\n",
      " [0 1 0 0 0 0 0 0]\n",
      " [0 0 1 0 0 0 0 0]\n",
      " [0 0 0 0 0 0 0 0]\n",
      " [0 0 0 0 1 0 0 0]\n",
      " [0 0 0 0 0 0 0 0]\n",
      " [0 0 0 0 0 0 1 1]\n",
      " [0 0 0 0 0 0 1 1]]\n",
      "expected matrix :\n",
      " [[1 1 1 0 0 0 0 0]\n",
      " [1 1 1 0 0 0 0 0]\n",
      " [1 1 1 0 0 0 0 0]\n",
      " [0 0 0 1 0 0 0 0]\n",
      " [0 0 0 0 1 0 0 0]\n",
      " [0 0 0 0 0 1 0 0]\n",
      " [0 0 0 0 0 0 1 1]\n",
      " [0 0 0 0 0 0 1 1]]\n",
      "distance to expected :  2.852065576573756\n"
     ]
    }
   ],
   "source": [
    "characteristic_matrix_inference(\n",
    "    graph8_cyclic_state_prep_node,\n",
    "    graph8_cyclic_mat,\n",
    "    mi_opt_kwargs={\"num_steps\": 60, \"step_size\": 0.02},\n",
    "    use_measured_mutual_info=True,\n",
    ")"
   ]
  },
  {
   "cell_type": "code",
   "execution_count": 46,
   "metadata": {},
   "outputs": [
    {
     "name": "stdout",
     "output_type": "stream",
     "text": [
      "covariance matrix :\n",
      " [[ 1.00000000e+00 -2.24856182e-01  5.80274910e-01 -1.11022302e-16\n",
      "   5.55111512e-17  0.00000000e+00 -8.32667268e-17  2.77555756e-17]\n",
      " [-2.24856182e-01  1.00000000e+00 -2.94178694e-01  5.54818204e-17\n",
      "  -1.66625011e-16  2.76851536e-17  3.08148791e-33  8.32667268e-17]\n",
      " [ 5.80274910e-01 -2.94178694e-01  1.00000000e+00  2.93308513e-20\n",
      "  -2.76640184e-17 -2.76851536e-17 -8.32667268e-17  2.77555756e-17]\n",
      " [-1.11022302e-16  5.54818204e-17  2.93308513e-20  1.05647611e-03\n",
      "  -1.19262239e-16  1.67183975e-16 -1.10992972e-16 -5.54209329e-17]\n",
      " [ 5.55111512e-17 -1.66625011e-16 -2.76640184e-17 -1.19262239e-16\n",
      "   9.99997280e-01 -3.64986497e-18  5.56027084e-17 -1.66167225e-16]\n",
      " [ 0.00000000e+00  2.76851536e-17 -2.76851536e-17  1.67183975e-16\n",
      "  -3.64986497e-18  9.99998391e-01  1.66603876e-16 -1.10740614e-16]\n",
      " [-8.32667268e-17  3.08148791e-33 -8.32667268e-17 -1.10992972e-16\n",
      "   5.56027084e-17  1.66603876e-16  1.00000000e+00 -1.00000000e+00]\n",
      " [ 2.77555756e-17  8.32667268e-17  2.77555756e-17 -5.54209329e-17\n",
      "  -1.66167225e-16 -1.10740614e-16 -1.00000000e+00  1.00000000e+00]]\n",
      "decision matrix :\n",
      " [[1 1 1 0 0 0 0 0]\n",
      " [1 1 1 0 0 0 0 0]\n",
      " [1 1 1 0 0 0 0 0]\n",
      " [0 0 0 0 0 0 0 0]\n",
      " [0 0 0 0 1 0 0 0]\n",
      " [0 0 0 0 0 1 0 0]\n",
      " [0 0 0 0 0 0 1 1]\n",
      " [0 0 0 0 0 0 1 1]]\n",
      "expected matrix :\n",
      " [[1 1 1 0 0 0 0 0]\n",
      " [1 1 1 0 0 0 0 0]\n",
      " [1 1 1 0 0 0 0 0]\n",
      " [0 0 0 1 0 0 0 0]\n",
      " [0 0 0 0 1 0 0 0]\n",
      " [0 0 0 0 0 1 0 0]\n",
      " [0 0 0 0 0 0 1 1]\n",
      " [0 0 0 0 0 0 1 1]]\n"
     ]
    }
   ],
   "source": [
    "covariance_matrix_inference(\n",
    "    graph8_cyclic_state_prep_node,\n",
    "    graph8_cyclic_mat,\n",
    "    step_size=0.05,\n",
    "    num_steps=30,\n",
    "    verbose=False,\n",
    ")"
   ]
  },
  {
   "attachments": {},
   "cell_type": "markdown",
   "metadata": {},
   "source": [
    "## 12-Qubit Graph State"
   ]
  },
  {
   "cell_type": "code",
   "execution_count": 47,
   "metadata": {},
   "outputs": [],
   "source": [
    "graph12_mat = qnp.array(\n",
    "    [\n",
    "        [1, 1, 1, 0, 0, 0, 0, 0, 0, 0, 0, 0],\n",
    "        [1, 1, 1, 0, 0, 0, 0, 0, 0, 0, 0, 0],\n",
    "        [1, 1, 1, 0, 0, 0, 0, 0, 0, 0, 0, 0],\n",
    "        [0, 0, 0, 1, 0, 0, 0, 0, 0, 0, 0, 0],\n",
    "        [0, 0, 0, 0, 1, 1, 0, 0, 0, 1, 0, 0],\n",
    "        [0, 0, 0, 0, 1, 1, 0, 0, 0, 1, 0, 0],\n",
    "        [0, 0, 0, 0, 0, 0, 1, 1, 0, 0, 0, 0],\n",
    "        [0, 0, 0, 0, 0, 0, 1, 1, 0, 0, 0, 0],\n",
    "        [0, 0, 0, 0, 0, 0, 0, 0, 1, 0, 0, 0],\n",
    "        [0, 0, 0, 0, 1, 1, 0, 0, 0, 1, 0, 0],\n",
    "        [0, 0, 0, 0, 0, 0, 0, 0, 0, 0, 1, 1],\n",
    "        [0, 0, 0, 0, 0, 0, 0, 0, 0, 0, 1, 1],\n",
    "    ]\n",
    ")\n",
    "graph12_state_prep_node = qnetvo.PrepareNode(\n",
    "    wires=[0, 1, 2, 3, 4, 5, 6, 7, 8, 9, 10, 11],\n",
    "    ansatz_fn=qnetvo.graph_state_fn([[0, 1], [1, 2], [6, 7], [4, 5], [4, 9], [4, 11], [11, 10]]),\n",
    ")"
   ]
  },
  {
   "cell_type": "code",
   "execution_count": 48,
   "metadata": {},
   "outputs": [
    {
     "name": "stdout",
     "output_type": "stream",
     "text": [
      "characteristic matrix :\n",
      " [[1.00000000e+00 1.83151931e-03 7.06604685e-03 9.99200722e-15\n",
      "  9.99200722e-15 1.02140518e-14 9.76996262e-15 1.02140518e-14\n",
      "  9.54791801e-15 9.76996262e-15 1.06581410e-14 1.08801856e-14]\n",
      " [1.83151931e-03 1.00000000e+00 1.64638564e-02 9.76996262e-15\n",
      "  1.02140518e-14 1.02140518e-14 1.02140518e-14 9.76996262e-15\n",
      "  9.76996262e-15 1.02140518e-14 1.06581410e-14 1.13242749e-14]\n",
      " [7.06604685e-03 1.64638564e-02 1.00000000e+00 9.76996262e-15\n",
      "  9.99200722e-15 9.99200722e-15 9.76996262e-15 9.99200722e-15\n",
      "  9.76996262e-15 1.02140518e-14 1.06581410e-14 1.11022302e-14]\n",
      " [9.99200722e-15 9.76996262e-15 9.76996262e-15 8.96491503e-01\n",
      "  9.54791801e-15 9.76996262e-15 9.99200722e-15 1.02140518e-14\n",
      "  9.99200722e-15 9.76996262e-15 1.06581410e-14 1.04360964e-14]\n",
      " [9.99200722e-15 1.02140518e-14 9.99200722e-15 9.54791801e-15\n",
      "  1.00000000e+00 9.99917647e-01 9.76996262e-15 1.02140518e-14\n",
      "  9.54791801e-15 9.78622604e-01 1.06581410e-14 1.11022302e-14]\n",
      " [1.02140518e-14 1.02140518e-14 9.99200722e-15 9.76996262e-15\n",
      "  9.99917647e-01 1.00000000e+00 1.02140518e-14 1.02140518e-14\n",
      "  9.54791801e-15 9.78657613e-01 1.06581410e-14 1.11022302e-14]\n",
      " [9.76996262e-15 1.02140518e-14 9.76996262e-15 9.99200722e-15\n",
      "  9.76996262e-15 1.02140518e-14 1.00000000e+00 9.99999996e-01\n",
      "  9.54791801e-15 1.02140518e-14 1.06581410e-14 1.06581410e-14]\n",
      " [1.02140518e-14 9.76996262e-15 9.99200722e-15 1.02140518e-14\n",
      "  1.02140518e-14 1.02140518e-14 9.99999996e-01 1.00000000e+00\n",
      "  9.54791801e-15 1.02140518e-14 1.08801856e-14 1.11022302e-14]\n",
      " [9.54791801e-15 9.76996262e-15 9.76996262e-15 9.99200722e-15\n",
      "  9.54791801e-15 9.54791801e-15 9.54791801e-15 9.54791801e-15\n",
      "  1.41877565e-09 9.76996262e-15 1.15463195e-14 1.04360964e-14]\n",
      " [9.76996262e-15 1.02140518e-14 1.02140518e-14 9.76996262e-15\n",
      "  9.78622604e-01 9.78657613e-01 1.02140518e-14 1.02140518e-14\n",
      "  9.76996262e-15 1.00000000e+00 1.11022302e-14 1.17683641e-14]\n",
      " [1.06581410e-14 1.06581410e-14 1.06581410e-14 1.06581410e-14\n",
      "  1.06581410e-14 1.06581410e-14 1.06581410e-14 1.08801856e-14\n",
      "  1.15463195e-14 1.11022302e-14 1.00000000e+00 2.20587414e-03]\n",
      " [1.08801856e-14 1.13242749e-14 1.11022302e-14 1.04360964e-14\n",
      "  1.11022302e-14 1.11022302e-14 1.06581410e-14 1.11022302e-14\n",
      "  1.04360964e-14 1.17683641e-14 2.20587414e-03 1.00000000e+00]]\n",
      "decision matrix :\n",
      " [[1 0 0 0 0 0 0 0 0 0 0 0]\n",
      " [0 1 0 0 0 0 0 0 0 0 0 0]\n",
      " [0 0 1 0 0 0 0 0 0 0 0 0]\n",
      " [0 0 0 1 0 0 0 0 0 0 0 0]\n",
      " [0 0 0 0 1 1 0 0 0 1 0 0]\n",
      " [0 0 0 0 1 1 0 0 0 1 0 0]\n",
      " [0 0 0 0 0 0 1 1 0 0 0 0]\n",
      " [0 0 0 0 0 0 1 1 0 0 0 0]\n",
      " [0 0 0 0 0 0 0 0 0 0 0 0]\n",
      " [0 0 0 0 1 1 0 0 0 1 0 0]\n",
      " [0 0 0 0 0 0 0 0 0 0 1 0]\n",
      " [0 0 0 0 0 0 0 0 0 0 0 1]]\n",
      "expected matrix :\n",
      " [[1 1 1 0 0 0 0 0 0 0 0 0]\n",
      " [1 1 1 0 0 0 0 0 0 0 0 0]\n",
      " [1 1 1 0 0 0 0 0 0 0 0 0]\n",
      " [0 0 0 1 0 0 0 0 0 0 0 0]\n",
      " [0 0 0 0 1 1 0 0 0 1 0 0]\n",
      " [0 0 0 0 1 1 0 0 0 1 0 0]\n",
      " [0 0 0 0 0 0 1 1 0 0 0 0]\n",
      " [0 0 0 0 0 0 1 1 0 0 0 0]\n",
      " [0 0 0 0 0 0 0 0 1 0 0 0]\n",
      " [0 0 0 0 1 1 0 0 0 1 0 0]\n",
      " [0 0 0 0 0 0 0 0 0 0 1 1]\n",
      " [0 0 0 0 0 0 0 0 0 0 1 1]]\n",
      "distance to expected :  2.9837775101329926\n"
     ]
    }
   ],
   "source": [
    "characteristic_matrix_inference(\n",
    "    graph12_state_prep_node, graph12_mat, mi_opt_kwargs={\"num_steps\": 60, \"step_size\": 0.02}\n",
    ")"
   ]
  },
  {
   "cell_type": "code",
   "execution_count": 52,
   "metadata": {},
   "outputs": [
    {
     "name": "stdout",
     "output_type": "stream",
     "text": [
      "characteristic matrix :\n",
      " [[ 1.00000000e+00  1.70850332e-01  5.24042271e-02  3.10862447e-15\n",
      "   4.44089210e-15  4.44089210e-15  4.44089210e-15  4.44089210e-15\n",
      "   7.54951657e-15  1.77635684e-15  2.22044605e-14  1.73194792e-14]\n",
      " [ 1.70850332e-01  1.00000000e+00  8.45939026e-02  4.21884749e-15\n",
      "   4.44089210e-15  3.10862447e-15  4.44089210e-15  5.77315973e-15\n",
      "   3.10862447e-15  2.88657986e-15  8.88178420e-16  2.17603713e-14]\n",
      " [ 5.24042271e-02  8.45939026e-02  1.00000000e+00  4.44089210e-15\n",
      "   4.44089210e-15  3.10862447e-15  3.10862447e-15  2.88657986e-15\n",
      "   4.44089210e-15  1.77635684e-15  2.08721929e-14 -1.42108547e-14]\n",
      " [ 3.10862447e-15  4.21884749e-15  4.44089210e-15  1.51597539e-02\n",
      "   4.21884749e-15  4.21884749e-15  4.66293670e-15  3.77475828e-15\n",
      "   6.66133815e-16  1.33226763e-15  1.64313008e-14 -6.43929354e-15]\n",
      " [ 4.44089210e-15  4.44089210e-15  4.44089210e-15  4.21884749e-15\n",
      "   1.00000000e+00  7.50452954e-01  4.66293670e-15  4.44089210e-15\n",
      "   6.43929354e-15  4.17005473e-02  1.55431223e-15  2.66453526e-15]\n",
      " [ 4.44089210e-15  3.10862447e-15  3.10862447e-15  4.21884749e-15\n",
      "   7.50452954e-01  1.00000000e+00  4.88498131e-15  4.44089210e-15\n",
      "   3.99680289e-15  1.97751003e-05  4.44089210e-16  2.62012634e-14]\n",
      " [ 4.44089210e-15  4.44089210e-15  3.10862447e-15  4.66293670e-15\n",
      "   4.66293670e-15  4.88498131e-15  1.00000000e+00  8.77357715e-01\n",
      "   5.10702591e-15  8.88178420e-16  1.55431223e-15  5.77315973e-15]\n",
      " [ 4.44089210e-15  5.77315973e-15  2.88657986e-15  3.77475828e-15\n",
      "   4.44089210e-15  4.44089210e-15  8.77357715e-01  1.00000000e+00\n",
      "   1.77635684e-15  2.44249065e-15  1.55431223e-15  2.08721929e-14]\n",
      " [ 7.54951657e-15  3.10862447e-15  4.44089210e-15  6.66133815e-16\n",
      "   6.43929354e-15  3.99680289e-15  5.10702591e-15  1.77635684e-15\n",
      "   1.14300164e-09  2.66453526e-15  1.35447209e-14  1.62092562e-14]\n",
      " [ 1.77635684e-15  2.88657986e-15  1.77635684e-15  1.33226763e-15\n",
      "   4.17005473e-02  1.97751003e-05  8.88178420e-16  2.44249065e-15\n",
      "   2.66453526e-15  1.00000000e+00  5.10702591e-15  1.77635684e-15]\n",
      " [ 2.22044605e-14  8.88178420e-16  2.08721929e-14  1.64313008e-14\n",
      "   1.55431223e-15  4.44089210e-16  1.55431223e-15  1.55431223e-15\n",
      "   1.35447209e-14  5.10702591e-15  1.00000000e+00  2.35583562e-01]\n",
      " [ 1.73194792e-14  2.17603713e-14 -1.42108547e-14 -6.43929354e-15\n",
      "   2.66453526e-15  2.62012634e-14  5.77315973e-15  2.08721929e-14\n",
      "   1.62092562e-14  1.77635684e-15  2.35583562e-01  1.00000000e+00]]\n",
      "decision matrix :\n",
      " [[1 1 0 0 0 0 0 0 0 0 0 0]\n",
      " [1 1 0 0 0 0 0 0 0 0 0 0]\n",
      " [0 0 1 0 0 0 0 0 0 0 0 0]\n",
      " [0 0 0 0 0 0 0 0 0 0 0 0]\n",
      " [0 0 0 0 1 1 0 0 0 0 0 0]\n",
      " [0 0 0 0 1 1 0 0 0 0 0 0]\n",
      " [0 0 0 0 0 0 1 1 0 0 0 0]\n",
      " [0 0 0 0 0 0 1 1 0 0 0 0]\n",
      " [0 0 0 0 0 0 0 0 0 0 0 0]\n",
      " [0 0 0 0 0 0 0 0 0 1 0 0]\n",
      " [0 0 0 0 0 0 0 0 0 0 1 1]\n",
      " [0 0 0 0 0 0 0 0 0 0 1 1]]\n",
      "expected matrix :\n",
      " [[1 1 1 0 0 0 0 0 0 0 0 0]\n",
      " [1 1 1 0 0 0 0 0 0 0 0 0]\n",
      " [1 1 1 0 0 0 0 0 0 0 0 0]\n",
      " [0 0 0 1 0 0 0 0 0 0 0 0]\n",
      " [0 0 0 0 1 1 0 0 0 1 0 0]\n",
      " [0 0 0 0 1 1 0 0 0 1 0 0]\n",
      " [0 0 0 0 0 0 1 1 0 0 0 0]\n",
      " [0 0 0 0 0 0 1 1 0 0 0 0]\n",
      " [0 0 0 0 0 0 0 0 1 0 0 0]\n",
      " [0 0 0 0 1 1 0 0 0 1 0 0]\n",
      " [0 0 0 0 0 0 0 0 0 0 1 1]\n",
      " [0 0 0 0 0 0 0 0 0 0 1 1]]\n",
      "distance to expected :  3.460721323225401\n"
     ]
    }
   ],
   "source": [
    "characteristic_matrix_inference(\n",
    "    graph12_state_prep_node,\n",
    "    graph12_mat,\n",
    "    mi_opt_kwargs={\"num_steps\": 60, \"step_size\": 0.02},\n",
    "    use_measured_mutual_info=True,\n",
    ")"
   ]
  },
  {
   "cell_type": "code",
   "execution_count": 53,
   "metadata": {},
   "outputs": [
    {
     "name": "stdout",
     "output_type": "stream",
     "text": [
      "covariance matrix :\n",
      " [[ 1.00000000e+00 -7.95319387e-01  8.57655404e-01 -2.23473252e-19\n",
      "   1.66533454e-16  2.77555756e-17  2.77555756e-17 -5.55111512e-17\n",
      "  -1.75685059e-16  2.77555756e-17  0.00000000e+00  1.05471187e-15]\n",
      " [-7.95319387e-01  1.00000000e+00 -8.63641516e-01  2.23473252e-19\n",
      "  -1.38777878e-16 -5.55111512e-17  1.11022302e-16  0.00000000e+00\n",
      "  -3.23915302e-16 -8.32667268e-17 -8.32667268e-17  6.66133815e-16]\n",
      " [ 8.57655404e-01 -8.63641516e-01  1.00000000e+00  2.74203657e-17\n",
      "   1.38777878e-16  5.55111512e-17 -8.32667268e-17 -2.77555756e-17\n",
      "   1.25050471e-16 -2.77555756e-17  0.00000000e+00  8.88178420e-16]\n",
      " [-2.23473252e-19  2.23473252e-19  2.74203657e-17  9.99995948e-01\n",
      "  -1.11736626e-19  5.56228879e-17  2.77555756e-17 -2.77555756e-17\n",
      "  -3.44261295e-16  1.38889615e-16  2.77555756e-17  8.89854469e-16]\n",
      " [ 1.66533454e-16 -1.38777878e-16  1.38777878e-16 -1.11736626e-19\n",
      "   1.00000000e+00  8.26821620e-02 -8.32667268e-17  0.00000000e+00\n",
      "  -4.57580247e-18  6.90736229e-02 -2.49800181e-16  3.60822483e-16]\n",
      " [ 2.77555756e-17 -5.55111512e-17  5.55111512e-17  5.56228879e-17\n",
      "   8.26821620e-02  1.00000000e+00  5.55111512e-17 -2.77555756e-17\n",
      "  -2.31797731e-17  5.68847737e-01  1.38777878e-16  4.99600361e-16]\n",
      " [ 2.77555756e-17  1.11022302e-16 -8.32667268e-17  2.77555756e-17\n",
      "  -8.32667268e-17  5.55111512e-17  1.00000000e+00  4.33836772e-03\n",
      "  -8.32667268e-17  0.00000000e+00 -8.32667268e-17  2.77555756e-17]\n",
      " [-5.55111512e-17  0.00000000e+00 -2.77555756e-17 -2.77555756e-17\n",
      "   0.00000000e+00 -2.77555756e-17  4.33836772e-03  1.00000000e+00\n",
      "   2.77555756e-17  1.11022302e-16  2.77555756e-17  0.00000000e+00]\n",
      " [-1.75685059e-16 -3.23915302e-16  1.25050471e-16 -3.44261295e-16\n",
      "  -4.57580247e-18 -2.31797731e-17 -8.32667268e-17  2.77555756e-17\n",
      "   9.93205241e-01  6.00869537e-17  1.11022302e-16  8.45793154e-16]\n",
      " [ 2.77555756e-17 -8.32667268e-17 -2.77555756e-17  1.38889615e-16\n",
      "   6.90736229e-02  5.68847737e-01  0.00000000e+00  1.11022302e-16\n",
      "   6.00869537e-17  1.00000000e+00 -3.05311332e-16  2.22044605e-16]\n",
      " [ 0.00000000e+00 -8.32667268e-17  0.00000000e+00  2.77555756e-17\n",
      "  -2.49800181e-16  1.38777878e-16 -8.32667268e-17  2.77555756e-17\n",
      "   1.11022302e-16 -3.05311332e-16  1.00000000e+00  9.99109885e-01]\n",
      " [ 1.05471187e-15  6.66133815e-16  8.88178420e-16  8.89854469e-16\n",
      "   3.60822483e-16  4.99600361e-16  2.77555756e-17  0.00000000e+00\n",
      "   8.45793154e-16  2.22044605e-16  9.99109885e-01  1.00000000e+00]]\n",
      "decision matrix :\n",
      " [[1 1 1 0 0 0 0 0 0 0 0 0]\n",
      " [1 1 1 0 0 0 0 0 0 0 0 0]\n",
      " [1 1 1 0 0 0 0 0 0 0 0 0]\n",
      " [0 0 0 1 0 0 0 0 0 0 0 0]\n",
      " [0 0 0 0 1 0 0 0 0 0 0 0]\n",
      " [0 0 0 0 0 1 0 0 0 1 0 0]\n",
      " [0 0 0 0 0 0 1 0 0 0 0 0]\n",
      " [0 0 0 0 0 0 0 1 0 0 0 0]\n",
      " [0 0 0 0 0 0 0 0 1 0 0 0]\n",
      " [0 0 0 0 0 1 0 0 0 1 0 0]\n",
      " [0 0 0 0 0 0 0 0 0 0 1 1]\n",
      " [0 0 0 0 0 0 0 0 0 0 1 1]]\n",
      "expected matrix :\n",
      " [[1 1 1 0 0 0 0 0 0 0 0 0]\n",
      " [1 1 1 0 0 0 0 0 0 0 0 0]\n",
      " [1 1 1 0 0 0 0 0 0 0 0 0]\n",
      " [0 0 0 1 0 0 0 0 0 0 0 0]\n",
      " [0 0 0 0 1 1 0 0 0 1 0 0]\n",
      " [0 0 0 0 1 1 0 0 0 1 0 0]\n",
      " [0 0 0 0 0 0 1 1 0 0 0 0]\n",
      " [0 0 0 0 0 0 1 1 0 0 0 0]\n",
      " [0 0 0 0 0 0 0 0 1 0 0 0]\n",
      " [0 0 0 0 1 1 0 0 0 1 0 0]\n",
      " [0 0 0 0 0 0 0 0 0 0 1 1]\n",
      " [0 0 0 0 0 0 0 0 0 0 1 1]]\n"
     ]
    }
   ],
   "source": [
    "covariance_matrix_inference(\n",
    "    graph12_state_prep_node,\n",
    "    graph12_mat,\n",
    "    num_steps=20,\n",
    "    step_size=0.05,\n",
    "    verbose=False,\n",
    ")"
   ]
  },
  {
   "attachments": {},
   "cell_type": "markdown",
   "metadata": {},
   "source": [
    "## A bunch of different entangled states"
   ]
  },
  {
   "cell_type": "code",
   "execution_count": 54,
   "metadata": {},
   "outputs": [],
   "source": [
    "multi_ent_mat_full = qnp.zeros((8, 8))\n",
    "multi_ent_mat = qnp.array(\n",
    "    [\n",
    "        [1, 1, 0, 0, 0, 0, 0],\n",
    "        [1, 1, 0, 0, 0, 0, 0],\n",
    "        [0, 0, 1, 1, 0, 0, 0],\n",
    "        [0, 0, 1, 1, 0, 0, 0],\n",
    "        [0, 0, 0, 0, 1, 1, 1],\n",
    "        [0, 0, 0, 0, 1, 1, 1],\n",
    "        [0, 0, 0, 0, 1, 1, 1],\n",
    "    ]\n",
    ")\n",
    "\n",
    "\n",
    "def fn(settings, wires):\n",
    "    qnetvo.shared_coin_flip_state([qnp.pi / 3], wires=[wires[0], wires[1], wires[7]])\n",
    "    qnetvo.ghz_state([], wires=wires[2:4])\n",
    "    qnetvo.W_state([], wires=wires[4:7])\n",
    "\n",
    "\n",
    "multi_ent_prep_node = qnetvo.PrepareNode(\n",
    "    wires=[0, 1, 2, 3, 4, 5, 6, 7],\n",
    "    ansatz_fn=fn,\n",
    ")"
   ]
  },
  {
   "cell_type": "markdown",
   "metadata": {},
   "source": []
  },
  {
   "cell_type": "code",
   "execution_count": 55,
   "metadata": {},
   "outputs": [
    {
     "name": "stdout",
     "output_type": "stream",
     "text": [
      "characteristic matrix :\n",
      " [[9.83916066e-01 8.11278124e-01 3.55271368e-15 3.77475828e-15\n",
      "  3.77475828e-15 3.55271368e-15 3.99680289e-15 8.11266327e-01]\n",
      " [8.11278124e-01 9.51707902e-01 3.55271368e-15 3.77475828e-15\n",
      "  3.77475828e-15 3.55271368e-15 3.99680289e-15 8.11266327e-01]\n",
      " [3.55271368e-15 3.55271368e-15 1.00000000e+00 9.99999999e-01\n",
      "  3.77475828e-15 3.99680289e-15 3.77475828e-15 3.55271368e-15]\n",
      " [3.77475828e-15 3.77475828e-15 9.99999999e-01 1.00000000e+00\n",
      "  3.77475828e-15 3.99680289e-15 3.77475828e-15 3.55271368e-15]\n",
      " [3.77475828e-15 3.77475828e-15 3.77475828e-15 3.77475828e-15\n",
      "  9.99181425e-01 3.46466678e-01 3.33943277e-01 3.77475828e-15]\n",
      " [3.55271368e-15 3.55271368e-15 3.99680289e-15 3.99680289e-15\n",
      "  3.46466678e-01 9.29144337e-01 3.32109251e-01 3.55271368e-15]\n",
      " [3.99680289e-15 3.99680289e-15 3.77475828e-15 3.77475828e-15\n",
      "  3.33943277e-01 3.32109251e-01 9.30448460e-01 3.99680289e-15]\n",
      " [8.11266327e-01 8.11266327e-01 3.55271368e-15 3.55271368e-15\n",
      "  3.77475828e-15 3.55271368e-15 3.99680289e-15 9.82829654e-01]]\n",
      "decision matrix :\n",
      " [[1 1 0 0 0 0 0 1]\n",
      " [1 1 0 0 0 0 0 1]\n",
      " [0 0 1 1 0 0 0 0]\n",
      " [0 0 1 1 0 0 0 0]\n",
      " [0 0 0 0 1 1 1 0]\n",
      " [0 0 0 0 1 1 1 0]\n",
      " [0 0 0 0 1 1 1 0]\n",
      " [1 1 0 0 0 0 0 1]]\n",
      "expected matrix :\n",
      " [[0. 0. 0. 0. 0. 0. 0. 0.]\n",
      " [0. 0. 0. 0. 0. 0. 0. 0.]\n",
      " [0. 0. 0. 0. 0. 0. 0. 0.]\n",
      " [0. 0. 0. 0. 0. 0. 0. 0.]\n",
      " [0. 0. 0. 0. 0. 0. 0. 0.]\n",
      " [0. 0. 0. 0. 0. 0. 0. 0.]\n",
      " [0. 0. 0. 0. 0. 0. 0. 0.]\n",
      " [0. 0. 0. 0. 0. 0. 0. 0.]]\n",
      "distance to expected :  3.7682707156852695\n"
     ]
    }
   ],
   "source": [
    "characteristic_matrix_inference(\n",
    "    multi_ent_prep_node,\n",
    "    multi_ent_mat_full,\n",
    "    mi_opt_kwargs={\n",
    "        \"num_steps\": 50,\n",
    "        \"step_size\": 0.1,\n",
    "    },\n",
    ")"
   ]
  },
  {
   "cell_type": "code",
   "execution_count": 57,
   "metadata": {},
   "outputs": [
    {
     "name": "stdout",
     "output_type": "stream",
     "text": [
      "characteristic matrix :\n",
      " [[9.59802863e-01 8.11569634e-03 1.55431223e-15 1.55431223e-15\n",
      "  1.33226763e-15 1.33226763e-15 1.77635684e-15 6.33485473e-03]\n",
      " [8.11569634e-03 8.58852782e-01 1.11022302e-15 1.77635684e-15\n",
      "  1.55431223e-15 2.44249065e-15 1.55431223e-15 6.22399526e-05]\n",
      " [1.55431223e-15 1.11022302e-15 1.00000000e+00 9.98787715e-01\n",
      "  1.33226763e-15 1.99840144e-15 1.77635684e-15 6.66133815e-16]\n",
      " [1.55431223e-15 1.77635684e-15 9.98787715e-01 1.00000000e+00\n",
      "  1.77635684e-15 1.77635684e-15 2.44249065e-15 1.33226763e-15]\n",
      " [1.33226763e-15 1.55431223e-15 1.33226763e-15 1.77635684e-15\n",
      "  9.81626845e-01 3.47024754e-01 3.49967464e-01 2.44249065e-15]\n",
      " [1.33226763e-15 2.44249065e-15 1.99840144e-15 1.77635684e-15\n",
      "  3.47024754e-01 9.80696615e-01 3.49216547e-01 1.33226763e-15]\n",
      " [1.77635684e-15 1.55431223e-15 1.77635684e-15 2.44249065e-15\n",
      "  3.49967464e-01 3.49216547e-01 9.91767144e-01 2.44249065e-15]\n",
      " [6.33485473e-03 6.22399526e-05 6.66133815e-16 1.33226763e-15\n",
      "  2.44249065e-15 1.33226763e-15 2.44249065e-15 9.95890437e-01]]\n",
      "decision matrix :\n",
      " [[1 0 0 0 0 0 0 0]\n",
      " [0 1 0 0 0 0 0 0]\n",
      " [0 0 1 1 0 0 0 0]\n",
      " [0 0 1 1 0 0 0 0]\n",
      " [0 0 0 0 1 1 1 0]\n",
      " [0 0 0 0 1 1 1 0]\n",
      " [0 0 0 0 1 1 1 0]\n",
      " [0 0 0 0 0 0 0 1]]\n",
      "expected matrix :\n",
      " [[0. 0. 0. 0. 0. 0. 0. 0.]\n",
      " [0. 0. 0. 0. 0. 0. 0. 0.]\n",
      " [0. 0. 0. 0. 0. 0. 0. 0.]\n",
      " [0. 0. 0. 0. 0. 0. 0. 0.]\n",
      " [0. 0. 0. 0. 0. 0. 0. 0.]\n",
      " [0. 0. 0. 0. 0. 0. 0. 0.]\n",
      " [0. 0. 0. 0. 0. 0. 0. 0.]\n",
      " [0. 0. 0. 0. 0. 0. 0. 0.]]\n",
      "distance to expected :  3.2069742097253897\n"
     ]
    }
   ],
   "source": [
    "characteristic_matrix_inference(\n",
    "    multi_ent_prep_node,\n",
    "    multi_ent_mat_full,\n",
    "    mi_opt_kwargs={\n",
    "        \"num_steps\": 50,\n",
    "        \"step_size\": 0.1,\n",
    "    },\n",
    "    use_measured_mutual_info=True,\n",
    ")"
   ]
  },
  {
   "cell_type": "code",
   "execution_count": 56,
   "metadata": {},
   "outputs": [
    {
     "name": "stdout",
     "output_type": "stream",
     "text": [
      "covariance matrix :\n",
      " [[ 9.99993914e-01  1.98301183e-03  2.81664161e-17  2.74816820e-17\n",
      "  -2.96356976e-17  5.73542949e-17 -7.86385388e-18]\n",
      " [ 1.98301183e-03  9.28209883e-01 -3.86462899e-17  2.57641933e-17\n",
      "  -1.22518234e-16 -4.79217360e-17  1.30971622e-16]\n",
      " [ 2.81664161e-17 -3.86462899e-17  1.00000000e+00 -9.99999993e-01\n",
      "  -4.44501684e-21  1.12076662e-16  2.67801137e-17]\n",
      " [ 2.74816820e-17  2.57641933e-17 -9.99999993e-01  1.00000000e+00\n",
      "   2.77585390e-17  8.25638205e-17  8.39170348e-17]\n",
      " [-2.96356976e-17 -1.22518234e-16 -4.44501684e-21  2.77585390e-17\n",
      "   9.99999999e-01  6.66546893e-01  6.66546069e-01]\n",
      " [ 5.73542949e-17 -4.79217360e-17  1.12076662e-16  8.25638205e-17\n",
      "   6.66546893e-01  9.99959916e-01  6.66578150e-01]\n",
      " [-7.86385388e-18  1.30971622e-16  2.67801137e-17  8.39170348e-17\n",
      "   6.66546069e-01  6.66578150e-01  9.99965690e-01]]\n",
      "decision matrix :\n",
      " [[1 0 0 0 0 0 0]\n",
      " [0 1 0 0 0 0 0]\n",
      " [0 0 1 1 0 0 0]\n",
      " [0 0 1 1 0 0 0]\n",
      " [0 0 0 0 1 1 1]\n",
      " [0 0 0 0 1 1 1]\n",
      " [0 0 0 0 1 1 1]]\n",
      "expected matrix :\n",
      " [[1 1 0 0 0 0 0]\n",
      " [1 1 0 0 0 0 0]\n",
      " [0 0 1 1 0 0 0]\n",
      " [0 0 1 1 0 0 0]\n",
      " [0 0 0 0 1 1 1]\n",
      " [0 0 0 0 1 1 1]\n",
      " [0 0 0 0 1 1 1]]\n"
     ]
    }
   ],
   "source": [
    "covariance_matrix_inference(\n",
    "    multi_ent_prep_node,\n",
    "    multi_ent_mat,\n",
    "    meas_wires=[0, 1, 2, 3, 4, 5, 6],\n",
    "    num_steps=20,\n",
    "    step_size=0.05,\n",
    "    verbose=False,\n",
    ")"
   ]
  },
  {
   "attachments": {},
   "cell_type": "markdown",
   "metadata": {},
   "source": [
    "## Finite Shot Examples"
   ]
  },
  {
   "cell_type": "code",
   "execution_count": 58,
   "metadata": {},
   "outputs": [],
   "source": [
    "graph5_mat = qnp.array(\n",
    "    [\n",
    "        [1, 1, 1, 0, 0],\n",
    "        [1, 1, 1, 0, 0],\n",
    "        [1, 1, 1, 0, 0],\n",
    "        [0, 0, 0, 1, 1],\n",
    "        [0, 0, 0, 1, 1],\n",
    "    ]\n",
    ")\n",
    "\n",
    "qnode_kwargs = {\n",
    "    \"diff_method\": \"parameter-shift\",\n",
    "}\n",
    "\n",
    "graph5_state_prep_node = qnetvo.PrepareNode(\n",
    "    wires=[0, 1, 2, 3, 4],\n",
    "    ansatz_fn=qnetvo.graph_state_fn([[0, 1], [1, 2], [2, 0], [3, 4]]),\n",
    ")"
   ]
  },
  {
   "attachments": {},
   "cell_type": "markdown",
   "metadata": {},
   "source": [
    "## 1000 Shots"
   ]
  },
  {
   "cell_type": "code",
   "execution_count": 61,
   "metadata": {},
   "outputs": [
    {
     "name": "stdout",
     "output_type": "stream",
     "text": [
      "characteristic matrix :\n",
      " [[9.98958123e-01 5.09038418e-04 4.31651129e-04 1.00734747e-03\n",
      "  1.00734747e-03]\n",
      " [5.09038418e-04 9.99927864e-01 3.80784938e-04 1.47526962e-06\n",
      "  1.47526962e-06]\n",
      " [4.31651129e-04 3.80784938e-04 9.99711442e-01 2.20299521e-03\n",
      "  2.20299521e-03]\n",
      " [1.00734747e-03 1.47526962e-06 2.20299521e-03 9.99927864e-01\n",
      "  9.98727169e-01]\n",
      " [1.00734747e-03 1.47526962e-06 2.20299521e-03 9.98727169e-01\n",
      "  9.99953833e-01]]\n",
      "decision matrix :\n",
      " [[1 0 0 0 0]\n",
      " [0 1 0 0 0]\n",
      " [0 0 1 0 0]\n",
      " [0 0 0 1 1]\n",
      " [0 0 0 1 1]]\n",
      "expected matrix :\n",
      " [[1 1 1 0 0]\n",
      " [1 1 1 0 0]\n",
      " [1 1 1 0 0]\n",
      " [0 0 0 1 1]\n",
      " [0 0 0 1 1]]\n",
      "distance to expected :  2.448416462983034\n"
     ]
    }
   ],
   "source": [
    "characteristic_matrix_inference(\n",
    "    graph5_state_prep_node,\n",
    "    graph5_mat,\n",
    "    qnode_kwargs=qnode_kwargs,\n",
    "    dev_kwargs={\"shots\": 1000},\n",
    "    mi_opt_kwargs={\n",
    "        \"num_steps\": 60,\n",
    "        \"step_size\": 0.02,\n",
    "    },\n",
    ")"
   ]
  },
  {
   "cell_type": "code",
   "execution_count": 63,
   "metadata": {},
   "outputs": [
    {
     "name": "stdout",
     "output_type": "stream",
     "text": [
      "covariance matrix :\n",
      " [[ 0.999804 -0.999804 -0.999804 -0.025944 -0.025944]\n",
      " [-0.999804  0.999804  0.999804  0.025944  0.025944]\n",
      " [-0.999804  0.999804  0.999804  0.025944  0.025944]\n",
      " [-0.025944  0.025944  0.025944  0.999984  0.999984]\n",
      " [-0.025944  0.025944  0.025944  0.999984  0.999984]]\n",
      "decision matrix :\n",
      " [[1 1 1 0 0]\n",
      " [1 1 1 0 0]\n",
      " [1 1 1 0 0]\n",
      " [0 0 0 1 1]\n",
      " [0 0 0 1 1]]\n",
      "expected matrix :\n",
      " [[1 1 1 0 0]\n",
      " [1 1 1 0 0]\n",
      " [1 1 1 0 0]\n",
      " [0 0 0 1 1]\n",
      " [0 0 0 1 1]]\n"
     ]
    }
   ],
   "source": [
    "covariance_matrix_inference(\n",
    "    graph5_state_prep_node,\n",
    "    graph5_mat,\n",
    "    step_size=0.2,\n",
    "    num_steps=6,\n",
    "    dev_kwargs={\"shots\": 1000},\n",
    "    qnode_kwargs=qnode_kwargs,\n",
    ")"
   ]
  },
  {
   "attachments": {},
   "cell_type": "markdown",
   "metadata": {},
   "source": [
    "## 500 Shots"
   ]
  },
  {
   "cell_type": "code",
   "execution_count": 64,
   "metadata": {},
   "outputs": [
    {
     "name": "stdout",
     "output_type": "stream",
     "text": [
      "characteristic matrix :\n",
      " [[0.99971144 0.99958446 0.99958446 0.00234693 0.00234693]\n",
      " [0.99958446 0.99334181 0.99958446 0.00234693 0.00234693]\n",
      " [0.99958446 0.99958446 0.99666191 0.00234693 0.00234693]\n",
      " [0.00234693 0.00234693 0.00234693 0.99884554 0.99884554]\n",
      " [0.00234693 0.00234693 0.00234693 0.99884554 0.99943439]]\n",
      "decision matrix :\n",
      " [[1 1 1 0 0]\n",
      " [1 1 1 0 0]\n",
      " [1 1 1 0 0]\n",
      " [0 0 0 1 1]\n",
      " [0 0 0 1 1]]\n",
      "expected matrix :\n",
      " [[1 1 1 0 0]\n",
      " [1 1 1 0 0]\n",
      " [1 1 1 0 0]\n",
      " [0 0 0 1 1]\n",
      " [0 0 0 1 1]]\n",
      "distance to expected :  0.011269812189724933\n"
     ]
    }
   ],
   "source": [
    "characteristic_matrix_inference(\n",
    "    graph5_state_prep_node,\n",
    "    graph5_mat,\n",
    "    mi_opt_kwargs={\n",
    "        \"num_steps\": 40,\n",
    "        \"step_size\": 0.1,\n",
    "    },\n",
    "    dev_kwargs={\"shots\": 500},\n",
    "    qnode_kwargs=qnode_kwargs,\n",
    ")"
   ]
  },
  {
   "cell_type": "code",
   "execution_count": 66,
   "metadata": {},
   "outputs": [
    {
     "name": "stdout",
     "output_type": "stream",
     "text": [
      "covariance matrix :\n",
      " [[ 0.995904  0.983648 -0.995904 -0.050048  0.050048]\n",
      " [ 0.983648  0.995376 -0.983648 -0.054176  0.054176]\n",
      " [-0.995904 -0.983648  0.995904  0.050048 -0.050048]\n",
      " [-0.050048 -0.054176  0.050048  0.998976 -0.998976]\n",
      " [ 0.050048  0.054176 -0.050048 -0.998976  0.998976]]\n",
      "decision matrix :\n",
      " [[1 1 1 0 0]\n",
      " [1 1 1 0 0]\n",
      " [1 1 1 0 0]\n",
      " [0 0 0 1 1]\n",
      " [0 0 0 1 1]]\n",
      "expected matrix :\n",
      " [[1 1 1 0 0]\n",
      " [1 1 1 0 0]\n",
      " [1 1 1 0 0]\n",
      " [0 0 0 1 1]\n",
      " [0 0 0 1 1]]\n"
     ]
    }
   ],
   "source": [
    "covariance_matrix_inference(\n",
    "    graph5_state_prep_node,\n",
    "    graph5_mat,\n",
    "    step_size=0.2,\n",
    "    num_steps=10,\n",
    "    dev_kwargs={\"shots\": 500},\n",
    "    qnode_kwargs=qnode_kwargs,\n",
    ")"
   ]
  },
  {
   "attachments": {},
   "cell_type": "markdown",
   "metadata": {},
   "source": [
    "## 100 Shots"
   ]
  },
  {
   "cell_type": "code",
   "execution_count": 67,
   "metadata": {},
   "outputs": [
    {
     "name": "stdout",
     "output_type": "stream",
     "text": [
      "characteristic matrix :\n",
      " [[0.98581504 1.         1.         0.01048037 0.01048037]\n",
      " [1.         0.99971144 1.         0.01048037 0.01048037]\n",
      " [1.         1.         1.         0.01048037 0.01048037]\n",
      " [0.01048037 0.01048037 0.01048037 0.99537844 0.99537844]\n",
      " [0.01048037 0.01048037 0.01048037 0.99537844 0.99277445]]\n",
      "decision matrix :\n",
      " [[1 1 1 0 0]\n",
      " [1 1 1 0 0]\n",
      " [1 1 1 0 0]\n",
      " [0 0 0 1 1]\n",
      " [0 0 0 1 1]]\n",
      "expected matrix :\n",
      " [[1 1 1 0 0]\n",
      " [1 1 1 0 0]\n",
      " [1 1 1 0 0]\n",
      " [0 0 0 1 1]\n",
      " [0 0 0 1 1]]\n",
      "distance to expected :  0.04044304888172123\n"
     ]
    }
   ],
   "source": [
    "characteristic_matrix_inference(\n",
    "    graph5_state_prep_node,\n",
    "    graph5_mat,\n",
    "    mi_opt_kwargs={\n",
    "        \"num_steps\": 40,\n",
    "        \"step_size\": 0.1,\n",
    "    },\n",
    "    dev_kwargs={\"shots\": 100},\n",
    "    qnode_kwargs=qnode_kwargs,\n",
    ")"
   ]
  },
  {
   "cell_type": "code",
   "execution_count": 69,
   "metadata": {},
   "outputs": [
    {
     "name": "stdout",
     "output_type": "stream",
     "text": [
      "covariance matrix :\n",
      " [[ 0.96   -0.96    0.96   -0.128  -0.128 ]\n",
      " [-0.96    0.96   -0.96    0.128   0.128 ]\n",
      " [ 0.96   -0.96    0.96   -0.128  -0.128 ]\n",
      " [-0.128   0.128  -0.128   0.9984  0.9984]\n",
      " [-0.128   0.128  -0.128   0.9984  0.9984]]\n",
      "decision matrix :\n",
      " [[1 1 1 1 1]\n",
      " [1 1 1 1 1]\n",
      " [1 1 1 1 1]\n",
      " [1 1 1 1 1]\n",
      " [1 1 1 1 1]]\n",
      "expected matrix :\n",
      " [[1 1 1 0 0]\n",
      " [1 1 1 0 0]\n",
      " [1 1 1 0 0]\n",
      " [0 0 0 1 1]\n",
      " [0 0 0 1 1]]\n"
     ]
    }
   ],
   "source": [
    "covariance_matrix_inference(\n",
    "    graph5_state_prep_node,\n",
    "    graph5_mat,\n",
    "    step_size=0.1,\n",
    "    num_steps=40,\n",
    "    dev_kwargs={\"shots\": 100},\n",
    "    qnode_kwargs=qnode_kwargs,\n",
    ")"
   ]
  },
  {
   "attachments": {},
   "cell_type": "markdown",
   "metadata": {},
   "source": [
    "## 50 Shots"
   ]
  },
  {
   "cell_type": "code",
   "execution_count": 71,
   "metadata": {},
   "outputs": [
    {
     "name": "stdout",
     "output_type": "stream",
     "text": [
      "characteristic matrix :\n",
      " [[0.9814539  0.98958752 0.98958752 0.02809002 0.02809002]\n",
      " [0.98958752 0.98958752 0.98958752 0.02809002 0.02809002]\n",
      " [0.98958752 0.98958752 0.99884554 0.02809002 0.02809002]\n",
      " [0.02809002 0.02809002 0.02809002 0.9814539  0.99884554]\n",
      " [0.02809002 0.02809002 0.02809002 0.99884554 0.9814539 ]]\n",
      "decision matrix :\n",
      " [[1 1 1 0 0]\n",
      " [1 1 1 0 0]\n",
      " [1 1 1 0 0]\n",
      " [0 0 0 1 1]\n",
      " [0 0 0 1 1]]\n",
      "expected matrix :\n",
      " [[1 1 1 0 0]\n",
      " [1 1 1 0 0]\n",
      " [1 1 1 0 0]\n",
      " [0 0 0 1 1]\n",
      " [0 0 0 1 1]]\n",
      "distance to expected :  0.10612916066379295\n"
     ]
    }
   ],
   "source": [
    "characteristic_matrix_inference(\n",
    "    graph5_state_prep_node,\n",
    "    graph5_mat,\n",
    "    mi_opt_kwargs={\n",
    "        \"num_steps\": 40,\n",
    "        \"step_size\": 0.1,\n",
    "    },\n",
    "    dev_kwargs={\"shots\": 50},\n",
    "    qnode_kwargs=qnode_kwargs,\n",
    ")"
   ]
  },
  {
   "cell_type": "code",
   "execution_count": 72,
   "metadata": {},
   "outputs": [
    {
     "name": "stdout",
     "output_type": "stream",
     "text": [
      "covariance matrix :\n",
      " [[ 0.9744  0.0144  0.0144  0.0144  0.0144]\n",
      " [ 0.0144  0.9744  0.9744 -0.1456 -0.1456]\n",
      " [ 0.0144  0.9744  0.9744 -0.1456 -0.1456]\n",
      " [ 0.0144 -0.1456 -0.1456  0.9744  0.9744]\n",
      " [ 0.0144 -0.1456 -0.1456  0.9744  0.9744]]\n",
      "decision matrix :\n",
      " [[1 0 0 0 0]\n",
      " [0 1 1 1 1]\n",
      " [0 1 1 1 1]\n",
      " [0 1 1 1 1]\n",
      " [0 1 1 1 1]]\n",
      "expected matrix :\n",
      " [[1 1 1 0 0]\n",
      " [1 1 1 0 0]\n",
      " [1 1 1 0 0]\n",
      " [0 0 0 1 1]\n",
      " [0 0 0 1 1]]\n"
     ]
    }
   ],
   "source": [
    "covariance_matrix_inference(\n",
    "    graph5_state_prep_node,\n",
    "    graph5_mat,\n",
    "    step_size=0.1,\n",
    "    num_steps=40,\n",
    "    dev_kwargs={\"shots\": 50},\n",
    "    qnode_kwargs=qnode_kwargs,\n",
    ")"
   ]
  },
  {
   "attachments": {},
   "cell_type": "markdown",
   "metadata": {},
   "source": [
    "## 10 Shots"
   ]
  },
  {
   "cell_type": "code",
   "execution_count": 73,
   "metadata": {},
   "outputs": [
    {
     "name": "stdout",
     "output_type": "stream",
     "text": [
      "characteristic matrix :\n",
      " [[0.8812909  0.12451125 0.12451125 0.03485155 0.12451125]\n",
      " [0.12451125 0.97095059 0.04643934 0.00580215 0.01997309]\n",
      " [0.12451125 0.04643934 0.97095059 0.00580215 0.01997309]\n",
      " [0.03485155 0.00580215 0.00580215 0.97095059 0.55677965]\n",
      " [0.12451125 0.01997309 0.01997309 0.55677965 0.8812909 ]]\n",
      "decision matrix :\n",
      " [[1 1 1 0 1]\n",
      " [1 1 0 0 0]\n",
      " [1 0 1 0 0]\n",
      " [0 0 0 1 1]\n",
      " [1 0 0 1 1]]\n",
      "expected matrix :\n",
      " [[1 1 1 0 0]\n",
      " [1 1 1 0 0]\n",
      " [1 1 1 0 0]\n",
      " [0 0 0 1 1]\n",
      " [0 0 0 1 1]]\n",
      "distance to expected :  2.3115465903198498\n"
     ]
    }
   ],
   "source": [
    "characteristic_matrix_inference(\n",
    "    graph5_state_prep_node,\n",
    "    graph5_mat,\n",
    "    mi_opt_kwargs={\n",
    "        \"num_steps\": 40,\n",
    "        \"step_size\": 0.1,\n",
    "    },\n",
    "    dev_kwargs={\"shots\": 10},\n",
    "    qnode_kwargs=qnode_kwargs,\n",
    ")"
   ]
  },
  {
   "cell_type": "code",
   "execution_count": 74,
   "metadata": {},
   "outputs": [
    {
     "name": "stdout",
     "output_type": "stream",
     "text": [
      "covariance matrix :\n",
      " [[ 1.   -1.   -0.4  -0.6  -0.6 ]\n",
      " [-1.    1.    0.4   0.6   0.6 ]\n",
      " [-0.4   0.4   0.96  0.8   0.8 ]\n",
      " [-0.6   0.6   0.8   1.    1.  ]\n",
      " [-0.6   0.6   0.8   1.    1.  ]]\n",
      "decision matrix :\n",
      " [[1 1 1 1 1]\n",
      " [1 1 1 1 1]\n",
      " [1 1 1 1 1]\n",
      " [1 1 1 1 1]\n",
      " [1 1 1 1 1]]\n",
      "expected matrix :\n",
      " [[1 1 1 0 0]\n",
      " [1 1 1 0 0]\n",
      " [1 1 1 0 0]\n",
      " [0 0 0 1 1]\n",
      " [0 0 0 1 1]]\n"
     ]
    }
   ],
   "source": [
    "covariance_matrix_inference(\n",
    "    graph5_state_prep_node,\n",
    "    graph5_mat,\n",
    "    step_size=0.1,\n",
    "    num_steps=40,\n",
    "    dev_kwargs={\"shots\": 10},\n",
    "    qnode_kwargs=qnode_kwargs,\n",
    ")"
   ]
  },
  {
   "attachments": {},
   "cell_type": "markdown",
   "metadata": {},
   "source": [
    "## 5 Shots\n"
   ]
  },
  {
   "cell_type": "code",
   "execution_count": 75,
   "metadata": {},
   "outputs": [
    {
     "name": "stdout",
     "output_type": "stream",
     "text": [
      "characteristic matrix :\n",
      " [[0.97095059 0.41997309 0.32192809 0.01997309 0.01997309]\n",
      " [0.41997309 0.97095059 0.17095059 0.01997309 0.01997309]\n",
      " [0.32192809 0.17095059 0.97095059 0.32192809 0.32192809]\n",
      " [0.01997309 0.01997309 0.32192809 0.72192809 0.97095059]\n",
      " [0.01997309 0.01997309 0.32192809 0.97095059 0.97095059]]\n",
      "decision matrix :\n",
      " [[1 1 1 0 0]\n",
      " [1 1 1 0 0]\n",
      " [1 1 1 1 1]\n",
      " [0 0 1 1 1]\n",
      " [0 0 1 1 1]]\n",
      "expected matrix :\n",
      " [[1 1 1 0 0]\n",
      " [1 1 1 0 0]\n",
      " [1 1 1 0 0]\n",
      " [0 0 0 1 1]\n",
      " [0 0 0 1 1]]\n",
      "distance to expected :  1.8620420658973\n"
     ]
    }
   ],
   "source": [
    "characteristic_matrix_inference(\n",
    "    graph5_state_prep_node,\n",
    "    graph5_mat,\n",
    "    mi_opt_kwargs={\n",
    "        \"num_steps\": 40,\n",
    "        \"step_size\": 0.1,\n",
    "    },\n",
    "    dev_kwargs={\"shots\": 5},\n",
    "    qnode_kwargs=qnode_kwargs,\n",
    ")"
   ]
  },
  {
   "cell_type": "code",
   "execution_count": 76,
   "metadata": {},
   "outputs": [
    {
     "name": "stdout",
     "output_type": "stream",
     "text": [
      "covariance matrix :\n",
      " [[ 0.96 -0.64  0.32 -0.48 -0.16]\n",
      " [-0.64  0.96  0.32  0.32 -0.16]\n",
      " [ 0.32  0.32  0.64 -0.16 -0.32]\n",
      " [-0.48  0.32 -0.16  0.64  0.48]\n",
      " [-0.16 -0.16 -0.32  0.48  0.96]]\n",
      "decision matrix :\n",
      " [[1 1 1 1 1]\n",
      " [1 1 1 1 1]\n",
      " [1 1 1 1 1]\n",
      " [1 1 1 1 1]\n",
      " [1 1 1 1 1]]\n",
      "expected matrix :\n",
      " [[1 1 1 0 0]\n",
      " [1 1 1 0 0]\n",
      " [1 1 1 0 0]\n",
      " [0 0 0 1 1]\n",
      " [0 0 0 1 1]]\n"
     ]
    }
   ],
   "source": [
    "covariance_matrix_inference(\n",
    "    graph5_state_prep_node,\n",
    "    graph5_mat,\n",
    "    step_size=0.1,\n",
    "    num_steps=10,\n",
    "    dev_kwargs={\"shots\": 5},\n",
    "    qnode_kwargs=qnode_kwargs,\n",
    ")"
   ]
  },
  {
   "cell_type": "code",
   "execution_count": null,
   "metadata": {},
   "outputs": [],
   "source": []
  }
 ],
 "metadata": {
  "kernelspec": {
   "display_name": "qnetti-dev",
   "language": "python",
   "name": "python3"
  },
  "language_info": {
   "codemirror_mode": {
    "name": "ipython",
    "version": 3
   },
   "file_extension": ".py",
   "mimetype": "text/x-python",
   "name": "python",
   "nbconvert_exporter": "python",
   "pygments_lexer": "ipython3",
   "version": "3.8.16"
  },
  "orig_nbformat": 4,
  "vscode": {
   "interpreter": {
    "hash": "846536a23776736bc0845be6c32b9ee9c375f2c4c95b8defe18cef9bdc15dde6"
   }
  }
 },
 "nbformat": 4,
 "nbformat_minor": 2
}
