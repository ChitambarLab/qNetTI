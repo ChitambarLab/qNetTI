{
 "cells": [
  {
   "attachments": {},
   "cell_type": "markdown",
   "metadata": {},
   "source": [
    "# High-level Comparison Between the Network Covariance and Characteristic Matrices\n",
    "\n",
    "In this notebook, we provide a rough comparison between covariance-based and entropy-based topology inference methods.\n",
    "The goal is to test each method across a range of entangled states to get an idea of their relative performance.\n",
    "\n",
    "\n",
    "## Key Differences\n",
    "\n",
    "### Covariance Matrix Advantages\n",
    "\n",
    "There is a significant performance advantage over the characteristic matrix:\n",
    "* This can easily be observed by noting the cell execution times, especially when more qubits are considered. \n",
    "* The covariance is evaluated from one circuit evaluation $O(1)$, whereas the charcteristic matrix requires a minimum of $O(n^2)$ circuit evaluations where $n$ is the number of qubits. Given clever parallelization in quantum circuits, the characteristic matrix may be evaluated in $O(n)$.\n",
    "* Optimizing the covariance matrix seems to require significantly fewer steps than needed to successfully infer topology using the characteristic matrix. This means that fewer circuits need to be run.\n",
    "* The optimization appears to be more robust and less susceptible to local minima. We see this in the fact that the characteristic matrix often fails to infer the GHZ states with more than 3 qubits.\n",
    "\n",
    "\n",
    "### Characteristic Matrix Advantages\n",
    "\n",
    "A key difference between the covariance and characteristic matrices is that the covariance matrix seems to always have ones along the diagonal, even if the measured qubit is not correlated with any other qubits. On the contrary, the characteristic matrix measures a zero von neumann entropy if there is no correlation whatsoever."
   ]
  },
  {
   "cell_type": "code",
   "execution_count": 1,
   "metadata": {},
   "outputs": [
    {
     "name": "stdout",
     "output_type": "stream",
     "text": [
      "0.4.1\n",
      "0.28.0\n"
     ]
    }
   ],
   "source": [
    "import qnetti\n",
    "import pennylane as qml\n",
    "from pennylane import numpy as qnp\n",
    "import qnetvo\n",
    "\n",
    "print(qnetvo.__version__)\n",
    "print(qml.__version__)"
   ]
  },
  {
   "cell_type": "code",
   "execution_count": 2,
   "metadata": {},
   "outputs": [],
   "source": [
    "def decision_matrix(mat, atol=0.1):\n",
    "    return qnp.where(qnp.abs(mat) > atol, 1, 0)\n",
    "\n",
    "\n",
    "def matrix_distance(mat1, mat2):\n",
    "    return qnp.linalg.norm(qnp.array(mat1) - qnp.abs(qnp.array(mat2)))\n",
    "\n",
    "\n",
    "def characteristic_matrix_inference(prep_node, expected_mat, **kwargs):\n",
    "    char_mat = qnetti.qubit_characteristic_matrix(prep_node, **kwargs)\n",
    "    dec_mat = decision_matrix(char_mat)\n",
    "    char_dist = matrix_distance(expected_mat, char_mat)\n",
    "\n",
    "    print(\"characteristic matrix :\\n\", char_mat)\n",
    "    print(\"decision matrix :\\n\", dec_mat)\n",
    "    print(\"expected matrix :\\n\", expected_mat)\n",
    "    print(\"distance to expected : \", char_dist)\n",
    "\n",
    "\n",
    "def covariance_matrix_inference(\n",
    "    prep_node, num_qubits, expected_mat,\n",
    "    meas_wires=None, step_size=0.1, num_steps=10, verbose=False\n",
    "):\n",
    "    opt_dict = qnetvo.gradient_descent(\n",
    "        qnetti.qubit_covariance_cost_fn(prep_node, meas_wires=meas_wires),\n",
    "        qnp.random.rand(3 * num_qubits, requires_grad=True),\n",
    "        step_size=step_size,\n",
    "        num_steps=num_steps,\n",
    "        sample_width=1,\n",
    "        verbose=False,\n",
    "    )\n",
    "\n",
    "    cov_mat = qnetti.qubit_covariance_matrix_fn(prep_node, meas_wires=meas_wires)(\n",
    "        opt_dict[\"opt_settings\"]\n",
    "    )\n",
    "    dec_mat = decision_matrix(cov_mat)\n",
    "    cov_dist = matrix_distance(expected_mat, cov_mat)\n",
    "\n",
    "    print(\"covariance matrix :\\n\", cov_mat)\n",
    "    print(\"decision matrix :\\n\", dec_mat)\n",
    "    print(\"expected matrix :\\n\", expected_mat)\n",
    "    print(\"distance to expected : \", cov_dist)"
   ]
  },
  {
   "attachments": {},
   "cell_type": "markdown",
   "metadata": {},
   "source": [
    "## Two-Qubit GHZ State"
   ]
  },
  {
   "cell_type": "code",
   "execution_count": 3,
   "metadata": {},
   "outputs": [],
   "source": [
    "ghz2_mat = qnp.ones((2, 2))\n",
    "\n",
    "\n",
    "def rot_bell_state(settings, wires):\n",
    "    qnetvo.ghz_state(settings, wires)\n",
    "    qml.ArbitraryUnitary([qnp.pi / 4, 0.3, -1.5], wires=[wires[0]])\n",
    "    qml.ArbitraryUnitary([-0.7, 2.9, 1.2], wires=[wires[1]])\n",
    "\n",
    "\n",
    "bell_state_prep_node = qnetvo.PrepareNode(wires=[0, 1], ansatz_fn=rot_bell_state)"
   ]
  },
  {
   "cell_type": "code",
   "execution_count": 4,
   "metadata": {},
   "outputs": [
    {
     "name": "stdout",
     "output_type": "stream",
     "text": [
      "characteristic matrix :\n",
      " [[1.         0.81074427]\n",
      " [0.81074427 1.        ]]\n",
      "decision matrix :\n",
      " [[1 1]\n",
      " [1 1]]\n",
      "expected matrix :\n",
      " [[1. 1.]\n",
      " [1. 1.]]\n",
      "distance to expected :  0.26764802420514416\n"
     ]
    }
   ],
   "source": [
    "characteristic_matrix_inference(bell_state_prep_node, ghz2_mat, num_steps=10, step_size=0.1)"
   ]
  },
  {
   "cell_type": "code",
   "execution_count": 5,
   "metadata": {},
   "outputs": [
    {
     "name": "stdout",
     "output_type": "stream",
     "text": [
      "covariance matrix :\n",
      " [[1.         0.99999526]\n",
      " [0.99999526 1.        ]]\n",
      "decision matrix :\n",
      " [[1 1]\n",
      " [1 1]]\n",
      "expected matrix :\n",
      " [[1. 1.]\n",
      " [1. 1.]]\n",
      "distance to expected :  6.7081664685343485e-06\n"
     ]
    }
   ],
   "source": [
    "covariance_matrix_inference(\n",
    "    bell_state_prep_node,\n",
    "    2,\n",
    "    ghz2_mat,\n",
    "    step_size=0.2,\n",
    "    num_steps=6,\n",
    "    verbose=False,\n",
    ")"
   ]
  },
  {
   "attachments": {},
   "cell_type": "markdown",
   "metadata": {},
   "source": [
    "## 3-Qubit GHZ state"
   ]
  },
  {
   "cell_type": "code",
   "execution_count": 6,
   "metadata": {},
   "outputs": [],
   "source": [
    "ghz3_mat = qnp.ones((3, 3))\n",
    "\n",
    "\n",
    "def rot_ghz3_state(settings, wires):\n",
    "    qnetvo.ghz_state(settings, wires)\n",
    "    qml.ArbitraryUnitary([qnp.pi / 4, 0.3, -1.5], wires=[wires[0]])\n",
    "    qml.ArbitraryUnitary([-0.7, 2.9, 1.2], wires=[wires[1]])\n",
    "    qml.ArbitraryUnitary([-0.9, 0.9, 0.12], wires=[wires[2]])\n",
    "\n",
    "\n",
    "ghz3_state_prep_node = qnetvo.PrepareNode(wires=[0, 1, 2], ansatz_fn=rot_ghz3_state)"
   ]
  },
  {
   "cell_type": "code",
   "execution_count": 7,
   "metadata": {},
   "outputs": [
    {
     "name": "stdout",
     "output_type": "stream",
     "text": [
      "characteristic matrix :\n",
      " [[1.         0.28656711 0.01555671]\n",
      " [0.28656711 1.         0.15772751]\n",
      " [0.01555671 0.15772751 1.        ]]\n",
      "decision matrix :\n",
      " [[1 1 0]\n",
      " [1 1 1]\n",
      " [0 1 1]]\n",
      "expected matrix :\n",
      " [[1. 1. 1.]\n",
      " [1. 1. 1.]\n",
      " [1. 1. 1.]]\n",
      "distance to expected :  2.0916682418521884\n"
     ]
    }
   ],
   "source": [
    "characteristic_matrix_inference(ghz3_state_prep_node, ghz3_mat, num_steps=10, step_size=0.1)"
   ]
  },
  {
   "cell_type": "code",
   "execution_count": 8,
   "metadata": {},
   "outputs": [
    {
     "name": "stdout",
     "output_type": "stream",
     "text": [
      "covariance matrix :\n",
      " [[1.         0.96365081 0.99935153]\n",
      " [0.96365081 1.         0.96423591]\n",
      " [0.99935153 0.96423591 1.        ]]\n",
      "decision matrix :\n",
      " [[1 1 1]\n",
      " [1 1 1]\n",
      " [1 1 1]]\n",
      "expected matrix :\n",
      " [[1. 1. 1.]\n",
      " [1. 1. 1.]\n",
      " [1. 1. 1.]]\n",
      "distance to expected :  0.07212148529391496\n"
     ]
    }
   ],
   "source": [
    "covariance_matrix_inference(\n",
    "    ghz3_state_prep_node,\n",
    "    3,\n",
    "    ghz3_mat,\n",
    "    step_size=0.1,\n",
    "    num_steps=10,\n",
    "    verbose=False,\n",
    ")"
   ]
  },
  {
   "attachments": {},
   "cell_type": "markdown",
   "metadata": {},
   "source": [
    "## 4-Qubit GHZ"
   ]
  },
  {
   "cell_type": "code",
   "execution_count": 9,
   "metadata": {},
   "outputs": [],
   "source": [
    "ghz4_mat = qnp.ones((4, 4))\n",
    "\n",
    "\n",
    "def rot_ghz4_state(settings, wires):\n",
    "    qnetvo.ghz_state(settings, wires)\n",
    "    qml.ArbitraryUnitary([qnp.pi / 4, 0.3, -1.5], wires=[wires[0]])\n",
    "    qml.ArbitraryUnitary([-0.7, 2.9, 1.2], wires=[wires[1]])\n",
    "    qml.ArbitraryUnitary([-0.9, 0.9, 0.12], wires=[wires[2]])\n",
    "    qml.ArbitraryUnitary([2, 2, 2], wires=[wires[3]])\n",
    "\n",
    "\n",
    "ghz4_state_prep_node = qnetvo.PrepareNode(wires=[0, 1, 2, 3], ansatz_fn=rot_ghz4_state)"
   ]
  },
  {
   "cell_type": "code",
   "execution_count": 10,
   "metadata": {},
   "outputs": [
    {
     "name": "stdout",
     "output_type": "stream",
     "text": [
      "characteristic matrix :\n",
      " [[1.         0.12733596 0.99634087 0.95663169]\n",
      " [0.12733596 1.         0.62061772 0.9351972 ]\n",
      " [0.99634087 0.62061772 1.         0.45888047]\n",
      " [0.95663169 0.9351972  0.45888047 1.        ]]\n",
      "decision matrix :\n",
      " [[1 1 1 1]\n",
      " [1 1 1 1]\n",
      " [1 1 1 1]\n",
      " [1 1 1 1]]\n",
      "expected matrix :\n",
      " [[1. 1. 1. 1.]\n",
      " [1. 1. 1. 1.]\n",
      " [1. 1. 1. 1.]\n",
      " [1. 1. 1. 1.]]\n",
      "distance to expected :  1.552016353767203\n"
     ]
    }
   ],
   "source": [
    "characteristic_matrix_inference(ghz4_state_prep_node, ghz4_mat, num_steps=30, step_size=0.1)"
   ]
  },
  {
   "cell_type": "code",
   "execution_count": 11,
   "metadata": {},
   "outputs": [
    {
     "name": "stdout",
     "output_type": "stream",
     "text": [
      "covariance matrix :\n",
      " [[ 1.         -0.94770159  0.9753671  -0.99221991]\n",
      " [-0.94770159  1.         -0.9283968   0.94443803]\n",
      " [ 0.9753671  -0.9283968   1.         -0.97200827]\n",
      " [-0.99221991  0.94443803 -0.97200827  1.        ]]\n",
      "decision matrix :\n",
      " [[1 1 1 1]\n",
      " [1 1 1 1]\n",
      " [1 1 1 1]\n",
      " [1 1 1 1]]\n",
      "expected matrix :\n",
      " [[1. 1. 1. 1.]\n",
      " [1. 1. 1. 1.]\n",
      " [1. 1. 1. 1.]\n",
      " [1. 1. 1. 1.]]\n",
      "distance to expected :  0.15748092700989463\n"
     ]
    }
   ],
   "source": [
    "covariance_matrix_inference(\n",
    "    ghz4_state_prep_node,\n",
    "    4,\n",
    "    ghz4_mat,\n",
    "    step_size=0.2,\n",
    "    num_steps=6,\n",
    "    verbose=False,\n",
    ")"
   ]
  },
  {
   "attachments": {},
   "cell_type": "markdown",
   "metadata": {},
   "source": [
    "# 5-Qubit GHZ"
   ]
  },
  {
   "cell_type": "code",
   "execution_count": 12,
   "metadata": {},
   "outputs": [],
   "source": [
    "ghz5_mat = qnp.ones((5, 5))\n",
    "\n",
    "\n",
    "def rot_ghz5_state(settings, wires):\n",
    "    qnetvo.ghz_state(settings, wires)\n",
    "    qml.ArbitraryUnitary([qnp.pi / 4, 0.3, -1.5], wires=[wires[0]])\n",
    "    qml.ArbitraryUnitary([-0.7, 2.9, 1.2], wires=[wires[1]])\n",
    "    qml.ArbitraryUnitary([-0.9, 0.9, 0.12], wires=[wires[2]])\n",
    "    qml.ArbitraryUnitary([2, 2, 2], wires=[wires[3]])\n",
    "    qml.ArbitraryUnitary([1, 2.3, 0.4], wires=[wires[4]])\n",
    "\n",
    "\n",
    "ghz5_state_prep_node = qnetvo.PrepareNode(wires=[0, 1, 2, 3, 4], ansatz_fn=rot_ghz5_state)"
   ]
  },
  {
   "cell_type": "code",
   "execution_count": 13,
   "metadata": {},
   "outputs": [
    {
     "name": "stdout",
     "output_type": "stream",
     "text": [
      "characteristic matrix :\n",
      " [[1.         0.99994785 0.02779974 0.9998656  0.43104335]\n",
      " [0.99994785 1.         0.86284223 0.97404714 1.        ]\n",
      " [0.02779974 0.86284223 1.         0.00887094 0.12588957]\n",
      " [0.9998656  0.97404714 0.00887094 1.         0.97155213]\n",
      " [0.43104335 1.         0.12588957 0.97155213 1.        ]]\n",
      "decision matrix :\n",
      " [[1 1 0 1 1]\n",
      " [1 1 1 1 1]\n",
      " [0 1 1 0 1]\n",
      " [1 1 0 1 1]\n",
      " [1 1 1 1 1]]\n",
      "expected matrix :\n",
      " [[1. 1. 1. 1. 1.]\n",
      " [1. 1. 1. 1. 1.]\n",
      " [1. 1. 1. 1. 1.]\n",
      " [1. 1. 1. 1. 1.]\n",
      " [1. 1. 1. 1. 1.]]\n",
      "distance to expected :  2.463974830636028\n"
     ]
    }
   ],
   "source": [
    "characteristic_matrix_inference(ghz5_state_prep_node, ghz5_mat, num_steps=30, step_size=0.1)"
   ]
  },
  {
   "cell_type": "code",
   "execution_count": 15,
   "metadata": {},
   "outputs": [
    {
     "name": "stdout",
     "output_type": "stream",
     "text": [
      "covariance matrix :\n",
      " [[ 1.          0.99995968  0.99999997 -0.99999986 -0.99999999]\n",
      " [ 0.99995968  1.          0.99995967 -0.99995956 -0.99995969]\n",
      " [ 0.99999997  0.99995967  1.         -0.99999985 -0.99999998]\n",
      " [-0.99999986 -0.99995956 -0.99999985  1.          0.99999987]\n",
      " [-0.99999999 -0.99995969 -0.99999998  0.99999987  1.        ]]\n",
      "decision matrix :\n",
      " [[1 1 1 1 1]\n",
      " [1 1 1 1 1]\n",
      " [1 1 1 1 1]\n",
      " [1 1 1 1 1]\n",
      " [1 1 1 1 1]]\n",
      "expected matrix :\n",
      " [[1. 1. 1. 1. 1.]\n",
      " [1. 1. 1. 1. 1.]\n",
      " [1. 1. 1. 1. 1.]\n",
      " [1. 1. 1. 1. 1.]\n",
      " [1. 1. 1. 1. 1.]]\n",
      "distance to expected :  0.0001141291785667427\n"
     ]
    }
   ],
   "source": [
    "covariance_matrix_inference(\n",
    "    ghz5_state_prep_node, 5, ghz5_mat, step_size=0.1, num_steps=10, verbose=False\n",
    ")"
   ]
  },
  {
   "attachments": {},
   "cell_type": "markdown",
   "metadata": {},
   "source": [
    "# 8-qubit GHZ state"
   ]
  },
  {
   "cell_type": "code",
   "execution_count": 16,
   "metadata": {},
   "outputs": [],
   "source": [
    "ghz8_mat = qnp.ones((8, 8))\n",
    "\n",
    "\n",
    "def rot_ghz8_state(settings, wires):\n",
    "    qnetvo.ghz_state(settings, wires)\n",
    "    qml.ArbitraryUnitary([qnp.pi / 4, 0.3, -1.5], wires=[wires[0]])\n",
    "    qml.ArbitraryUnitary([-0.7, 2.9, 1.2], wires=[wires[1]])\n",
    "    qml.ArbitraryUnitary([-0.9, 0.9, 0.12], wires=[wires[2]])\n",
    "    qml.ArbitraryUnitary([2, 2, 2], wires=[wires[3]])\n",
    "    qml.ArbitraryUnitary([1, 2.3, 0.4], wires=[wires[4]])\n",
    "    qml.ArbitraryUnitary([-0.9, 0.9, 0.12], wires=[wires[5]])\n",
    "    qml.ArbitraryUnitary([2, 2, 2], wires=[wires[6]])\n",
    "    qml.ArbitraryUnitary([1, 2.3, 0.4], wires=[wires[7]])\n",
    "\n",
    "\n",
    "ghz8_state_prep_node = qnetvo.PrepareNode(\n",
    "    wires=[0, 1, 2, 3, 4, 5, 6, 7],\n",
    "    ansatz_fn=rot_ghz8_state,\n",
    ")"
   ]
  },
  {
   "cell_type": "code",
   "execution_count": 17,
   "metadata": {},
   "outputs": [
    {
     "name": "stdout",
     "output_type": "stream",
     "text": [
      "characteristic matrix :\n",
      " [[1.00000000e+00 9.99999998e-01 2.07680546e-03 5.26347886e-01\n",
      "  9.73173256e-01 3.31328899e-02 3.55829492e-01 1.10153174e-01]\n",
      " [9.99999998e-01 1.00000000e+00 1.00000000e+00 9.98713697e-01\n",
      "  9.99999998e-01 7.86119230e-02 9.88349376e-01 9.99999996e-01]\n",
      " [2.07680546e-03 1.00000000e+00 1.00000000e+00 5.65422042e-01\n",
      "  2.00212341e-01 4.48513594e-03 1.47067545e-03 5.05075414e-02]\n",
      " [5.26347886e-01 9.98713697e-01 5.65422042e-01 1.00000000e+00\n",
      "  4.07563223e-04 9.72553105e-01 9.42003427e-01 4.34337588e-03]\n",
      " [9.73173256e-01 9.99999998e-01 2.00212341e-01 4.07563223e-04\n",
      "  1.00000000e+00 1.51308573e-01 9.35393767e-01 8.55871639e-02]\n",
      " [3.31328899e-02 7.86119230e-02 4.48513594e-03 9.72553105e-01\n",
      "  1.51308573e-01 1.00000000e+00 9.55916290e-01 3.45274249e-01]\n",
      " [3.55829492e-01 9.88349376e-01 1.47067545e-03 9.42003427e-01\n",
      "  9.35393767e-01 9.55916290e-01 1.00000000e+00 5.72120042e-01]\n",
      " [1.10153174e-01 9.99999996e-01 5.05075414e-02 4.34337588e-03\n",
      "  8.55871639e-02 3.45274249e-01 5.72120042e-01 1.00000000e+00]]\n",
      "decision matrix :\n",
      " [[1 1 0 1 1 0 1 1]\n",
      " [1 1 1 1 1 0 1 1]\n",
      " [0 1 1 1 1 0 0 0]\n",
      " [1 1 1 1 0 1 1 0]\n",
      " [1 1 1 0 1 1 1 0]\n",
      " [0 0 0 1 1 1 1 1]\n",
      " [1 1 0 1 1 1 1 1]\n",
      " [1 1 0 0 0 1 1 1]]\n",
      "expected matrix :\n",
      " [[1. 1. 1. 1. 1. 1. 1. 1.]\n",
      " [1. 1. 1. 1. 1. 1. 1. 1.]\n",
      " [1. 1. 1. 1. 1. 1. 1. 1.]\n",
      " [1. 1. 1. 1. 1. 1. 1. 1.]\n",
      " [1. 1. 1. 1. 1. 1. 1. 1.]\n",
      " [1. 1. 1. 1. 1. 1. 1. 1.]\n",
      " [1. 1. 1. 1. 1. 1. 1. 1.]\n",
      " [1. 1. 1. 1. 1. 1. 1. 1.]]\n",
      "distance to expected :  4.919088626957968\n"
     ]
    }
   ],
   "source": [
    "characteristic_matrix_inference(ghz8_state_prep_node, ghz8_mat, num_steps=30, step_size=0.1)"
   ]
  },
  {
   "cell_type": "code",
   "execution_count": 18,
   "metadata": {},
   "outputs": [
    {
     "name": "stdout",
     "output_type": "stream",
     "text": [
      "covariance matrix :\n",
      " [[ 1.          0.86668224  0.8317666  -0.81134972 -0.81585471  0.81661026\n",
      "  -0.81637776 -0.81570523]\n",
      " [ 0.86668224  1.          0.86575385 -0.84450271 -0.84919177  0.8499782\n",
      "  -0.8497362  -0.84903619]\n",
      " [ 0.8317666   0.86575385  1.         -0.81048061 -0.81498077  0.81573551\n",
      "  -0.81550326 -0.81483146]\n",
      " [-0.81134972 -0.84450271 -0.81048061  1.          0.79497592 -0.79571214\n",
      "   0.79548559  0.79483027]\n",
      " [-0.81585471 -0.84919177 -0.81498077  0.79497592  1.         -0.8001303\n",
      "   0.79990249  0.79924354]\n",
      " [ 0.81661026  0.8499782   0.81573551 -0.79571214 -0.8001303   1.\n",
      "  -0.80064327 -0.7999837 ]\n",
      " [-0.81637776 -0.8497362  -0.81550326  0.79548559  0.79990249 -0.80064327\n",
      "   1.          0.79975594]\n",
      " [-0.81570523 -0.84903619 -0.81483146  0.79483027  0.79924354 -0.7999837\n",
      "   0.79975594  1.        ]]\n",
      "decision matrix :\n",
      " [[1 1 1 1 1 1 1 1]\n",
      " [1 1 1 1 1 1 1 1]\n",
      " [1 1 1 1 1 1 1 1]\n",
      " [1 1 1 1 1 1 1 1]\n",
      " [1 1 1 1 1 1 1 1]\n",
      " [1 1 1 1 1 1 1 1]\n",
      " [1 1 1 1 1 1 1 1]\n",
      " [1 1 1 1 1 1 1 1]]\n",
      "expected matrix :\n",
      " [[1. 1. 1. 1. 1. 1. 1. 1.]\n",
      " [1. 1. 1. 1. 1. 1. 1. 1.]\n",
      " [1. 1. 1. 1. 1. 1. 1. 1.]\n",
      " [1. 1. 1. 1. 1. 1. 1. 1.]\n",
      " [1. 1. 1. 1. 1. 1. 1. 1.]\n",
      " [1. 1. 1. 1. 1. 1. 1. 1.]\n",
      " [1. 1. 1. 1. 1. 1. 1. 1.]\n",
      " [1. 1. 1. 1. 1. 1. 1. 1.]]\n",
      "distance to expected :  1.3637921243073936\n"
     ]
    }
   ],
   "source": [
    "covariance_matrix_inference(\n",
    "    ghz8_state_prep_node,\n",
    "    8,\n",
    "    ghz8_mat,\n",
    "    step_size=0.1,\n",
    "    num_steps=10,\n",
    "    verbose=False,\n",
    ")"
   ]
  },
  {
   "attachments": {},
   "cell_type": "markdown",
   "metadata": {},
   "source": [
    "# 8 qubit graph state"
   ]
  },
  {
   "cell_type": "code",
   "execution_count": 19,
   "metadata": {},
   "outputs": [],
   "source": [
    "# This expected matrix is not known with certainty, but agrees with results\n",
    "graph8_mat = qnp.array(\n",
    "    [\n",
    "        [1, 0, 0, 1, 0, 0, 0, 0],\n",
    "        [0, 1, 1, 0, 0, 0, 0, 0],\n",
    "        [0, 1, 1, 0, 0, 0, 0, 0],\n",
    "        [1, 0, 0, 1, 0, 0, 0, 0],\n",
    "        [0, 0, 0, 0, 1, 0, 0, 0],\n",
    "        [0, 0, 0, 0, 0, 1, 0, 0],\n",
    "        [0, 0, 0, 0, 0, 0, 1, 1],\n",
    "        [0, 0, 0, 0, 0, 0, 1, 1],\n",
    "    ]\n",
    ")\n",
    "\n",
    "graph8_state_prep_node = qnetvo.PrepareNode(\n",
    "    wires=[0, 1, 2, 3, 4, 5, 6, 7],\n",
    "    ansatz_fn=qnetvo.graph_state_fn([[0, 1], [1, 2], [0, 3], [6, 7]]),\n",
    ")"
   ]
  },
  {
   "cell_type": "code",
   "execution_count": 20,
   "metadata": {},
   "outputs": [
    {
     "name": "stdout",
     "output_type": "stream",
     "text": [
      "characteristic matrix :\n",
      " [[1.00000000e+00 2.22044605e-15 2.88657986e-15 9.12678121e-01\n",
      "  2.66453526e-15 2.22044605e-15 3.10862447e-15 2.44249065e-15]\n",
      " [2.22044605e-15 1.00000000e+00 9.93458745e-01 2.88657986e-15\n",
      "  3.10862447e-15 2.88657986e-15 2.88657986e-15 4.44089210e-15]\n",
      " [2.88657986e-15 9.93458745e-01 1.00000000e+00 1.77635684e-15\n",
      "  4.44089210e-15 3.10862447e-15 4.44089210e-15 4.44089210e-15]\n",
      " [9.12678121e-01 2.88657986e-15 1.77635684e-15 1.00000000e+00\n",
      "  3.10862447e-15 2.66453526e-15 2.88657986e-15 2.22044605e-15]\n",
      " [2.66453526e-15 3.10862447e-15 4.44089210e-15 3.10862447e-15\n",
      "  4.49639799e-09 4.21884749e-15 4.66293670e-15 1.33226763e-15]\n",
      " [2.22044605e-15 2.88657986e-15 3.10862447e-15 2.66453526e-15\n",
      "  4.21884749e-15 8.46170799e-01 2.66453526e-15 2.22044605e-15]\n",
      " [3.10862447e-15 2.88657986e-15 4.44089210e-15 2.88657986e-15\n",
      "  4.66293670e-15 2.66453526e-15 1.00000000e+00 1.97551191e-03]\n",
      " [2.44249065e-15 4.44089210e-15 4.44089210e-15 2.22044605e-15\n",
      "  1.33226763e-15 2.22044605e-15 1.97551191e-03 1.00000000e+00]]\n",
      "decision matrix :\n",
      " [[1 0 0 1 0 0 0 0]\n",
      " [0 1 1 0 0 0 0 0]\n",
      " [0 1 1 0 0 0 0 0]\n",
      " [1 0 0 1 0 0 0 0]\n",
      " [0 0 0 0 0 0 0 0]\n",
      " [0 0 0 0 0 1 0 0]\n",
      " [0 0 0 0 0 0 1 0]\n",
      " [0 0 0 0 0 0 0 1]]\n",
      "expected matrix :\n",
      " [[1 0 0 1 0 0 0 0]\n",
      " [0 1 1 0 0 0 0 0]\n",
      " [0 1 1 0 0 0 0 0]\n",
      " [1 0 0 1 0 0 0 0]\n",
      " [0 0 0 0 1 0 0 0]\n",
      " [0 0 0 0 0 1 0 0]\n",
      " [0 0 0 0 0 0 1 1]\n",
      " [0 0 0 0 0 0 1 1]]\n",
      "distance to expected :  1.741006883589138\n"
     ]
    }
   ],
   "source": [
    "characteristic_matrix_inference(graph8_state_prep_node, graph8_mat, num_steps=60, step_size=0.02)"
   ]
  },
  {
   "cell_type": "code",
   "execution_count": 21,
   "metadata": {},
   "outputs": [
    {
     "name": "stdout",
     "output_type": "stream",
     "text": [
      "covariance matrix :\n",
      " [[ 1.00000000e+00 -3.33066907e-16  2.49800181e-16 -9.99994664e-01\n",
      "   2.77555756e-17  8.32667268e-17  0.00000000e+00  5.55111512e-17]\n",
      " [-3.33066907e-16  1.00000000e+00 -9.99998972e-01  1.11022302e-16\n",
      "  -1.10937023e-16  5.56379244e-17  5.55111512e-17  5.55111512e-17]\n",
      " [ 2.49800181e-16 -9.99998972e-01  1.00000000e+00 -1.11022302e-16\n",
      "   1.10937023e-16  5.53843781e-17 -5.55111512e-17 -5.55111512e-17]\n",
      " [-9.99994664e-01  1.11022302e-16 -1.11022302e-16  1.00000000e+00\n",
      "  -2.77982156e-17  5.54477647e-17  5.55111512e-17 -8.32667268e-17]\n",
      " [ 2.77555756e-17 -1.10937023e-16  1.10937023e-16 -2.77982156e-17\n",
      "   9.99999410e-01  8.84336278e-17  4.26399770e-20  5.55111512e-17]\n",
      " [ 8.32667268e-17  5.56379244e-17  5.53843781e-17  5.54477647e-17\n",
      "   8.84336278e-17  9.99998696e-01 -1.10958916e-16  5.55111512e-17]\n",
      " [ 0.00000000e+00  5.55111512e-17 -5.55111512e-17  5.55111512e-17\n",
      "   4.26399770e-20 -1.10958916e-16  1.00000000e+00 -9.99999890e-01]\n",
      " [ 5.55111512e-17  5.55111512e-17 -5.55111512e-17 -8.32667268e-17\n",
      "   5.55111512e-17  5.55111512e-17 -9.99999890e-01  1.00000000e+00]]\n",
      "decision matrix :\n",
      " [[1 0 0 1 0 0 0 0]\n",
      " [0 1 1 0 0 0 0 0]\n",
      " [0 1 1 0 0 0 0 0]\n",
      " [1 0 0 1 0 0 0 0]\n",
      " [0 0 0 0 1 0 0 0]\n",
      " [0 0 0 0 0 1 0 0]\n",
      " [0 0 0 0 0 0 1 1]\n",
      " [0 0 0 0 0 0 1 1]]\n",
      "expected matrix :\n",
      " [[1 0 0 1 0 0 0 0]\n",
      " [0 1 1 0 0 0 0 0]\n",
      " [0 1 1 0 0 0 0 0]\n",
      " [1 0 0 1 0 0 0 0]\n",
      " [0 0 0 0 1 0 0 0]\n",
      " [0 0 0 0 0 1 0 0]\n",
      " [0 0 0 0 0 0 1 1]\n",
      " [0 0 0 0 0 0 1 1]]\n",
      "distance to expected :  7.81817948013956e-06\n"
     ]
    }
   ],
   "source": [
    "covariance_matrix_inference(\n",
    "    graph8_state_prep_node,\n",
    "    8,\n",
    "    graph8_mat,\n",
    "    step_size=0.05,\n",
    "    num_steps=30,\n",
    "    verbose=False,\n",
    ")"
   ]
  },
  {
   "attachments": {},
   "cell_type": "markdown",
   "metadata": {},
   "source": [
    "## 8-Qubit Graph State with Frustrated CNOT arrangement"
   ]
  },
  {
   "cell_type": "code",
   "execution_count": 22,
   "metadata": {},
   "outputs": [],
   "source": [
    "graph8_cyclic_mat = qnp.array(\n",
    "    [\n",
    "        [1, 1, 1, 0, 0, 0, 0, 0],\n",
    "        [1, 1, 1, 0, 0, 0, 0, 0],\n",
    "        [1, 1, 1, 0, 0, 0, 0, 0],\n",
    "        [0, 0, 0, 1, 0, 0, 0, 0],\n",
    "        [0, 0, 0, 0, 1, 0, 0, 0],\n",
    "        [0, 0, 0, 0, 0, 1, 0, 0],\n",
    "        [0, 0, 0, 0, 0, 0, 1, 1],\n",
    "        [0, 0, 0, 0, 0, 0, 1, 1],\n",
    "    ]\n",
    ")\n",
    "\n",
    "graph8_cyclic_state_prep_node = qnetvo.PrepareNode(\n",
    "    wires=[0, 1, 2, 3, 4, 5, 6, 7],\n",
    "    ansatz_fn=qnetvo.graph_state_fn([[0, 1], [1, 2], [2, 0], [6, 7]]),\n",
    ")"
   ]
  },
  {
   "cell_type": "code",
   "execution_count": 23,
   "metadata": {},
   "outputs": [
    {
     "name": "stdout",
     "output_type": "stream",
     "text": [
      "characteristic matrix :\n",
      " [[1.00000000e+00 6.86737674e-01 2.56474166e-04 2.22044605e-15\n",
      "  3.10862447e-15 2.66453526e-15 3.77475828e-15 3.10862447e-15]\n",
      " [6.86737674e-01 1.00000000e+00 8.26111627e-03 2.66453526e-15\n",
      "  2.88657986e-15 3.33066907e-15 2.88657986e-15 2.88657986e-15]\n",
      " [2.56474166e-04 8.26111627e-03 1.00000000e+00 2.22044605e-15\n",
      "  2.88657986e-15 3.55271368e-15 3.55271368e-15 3.55271368e-15]\n",
      " [2.22044605e-15 2.66453526e-15 2.22044605e-15 2.60175877e-05\n",
      "  1.99840144e-15 2.55351296e-15 2.66453526e-15 3.10862447e-15]\n",
      " [3.10862447e-15 2.88657986e-15 2.88657986e-15 1.99840144e-15\n",
      "  5.70703484e-09 2.22044605e-15 3.99680289e-15 4.44089210e-15]\n",
      " [2.66453526e-15 3.33066907e-15 3.55271368e-15 2.55351296e-15\n",
      "  2.22044605e-15 7.16166655e-02 3.33066907e-15 2.66453526e-15]\n",
      " [3.77475828e-15 2.88657986e-15 3.55271368e-15 2.66453526e-15\n",
      "  3.99680289e-15 3.33066907e-15 1.00000000e+00 9.98354407e-01]\n",
      " [3.10862447e-15 2.88657986e-15 3.55271368e-15 3.10862447e-15\n",
      "  4.44089210e-15 2.66453526e-15 9.98354407e-01 1.00000000e+00]]\n",
      "decision matrix :\n",
      " [[1 1 0 0 0 0 0 0]\n",
      " [1 1 0 0 0 0 0 0]\n",
      " [0 0 1 0 0 0 0 0]\n",
      " [0 0 0 0 0 0 0 0]\n",
      " [0 0 0 0 0 0 0 0]\n",
      " [0 0 0 0 0 0 0 0]\n",
      " [0 0 0 0 0 0 1 1]\n",
      " [0 0 0 0 0 0 1 1]]\n",
      "expected matrix :\n",
      " [[1 1 1 0 0 0 0 0]\n",
      " [1 1 1 0 0 0 0 0]\n",
      " [1 1 1 0 0 0 0 0]\n",
      " [0 0 0 1 0 0 0 0]\n",
      " [0 0 0 0 1 0 0 0]\n",
      " [0 0 0 0 0 1 0 0]\n",
      " [0 0 0 0 0 0 1 1]\n",
      " [0 0 0 0 0 0 1 1]]\n",
      "distance to expected :  2.6503173051479183\n"
     ]
    }
   ],
   "source": [
    "characteristic_matrix_inference(\n",
    "    graph8_cyclic_state_prep_node, graph8_cyclic_mat, num_steps=60, step_size=0.02\n",
    ")"
   ]
  },
  {
   "cell_type": "code",
   "execution_count": 24,
   "metadata": {},
   "outputs": [
    {
     "name": "stdout",
     "output_type": "stream",
     "text": [
      "covariance matrix :\n",
      " [[ 1.00000000e+00  9.99488361e-01  9.99934385e-01  1.11563637e-16\n",
      "   2.79572630e-17  8.40862465e-17  8.32667268e-17 -5.55111512e-17]\n",
      " [ 9.99488361e-01  1.00000000e+00  9.99461170e-01  1.11671904e-16\n",
      "   2.42024850e-19 -5.45277277e-17  8.32667268e-17 -5.55111512e-17]\n",
      " [ 9.99934385e-01  9.99461170e-01  1.00000000e+00  1.67074788e-16\n",
      "  -2.75538882e-17  8.19519605e-19  8.32667268e-17 -5.55111512e-17]\n",
      " [ 1.11563637e-16  1.11671904e-16  1.67074788e-16  9.99996196e-01\n",
      "   1.16253154e-17  4.62818802e-17 -5.56194181e-17  1.08266912e-19]\n",
      " [ 2.79572630e-17  2.42024850e-19 -2.75538882e-17  1.16253154e-17\n",
      "   9.99999472e-01 -1.72296242e-16 -5.55514887e-17 -2.77152381e-17]\n",
      " [ 8.40862465e-17 -5.45277277e-17  8.19519605e-19  4.62818802e-17\n",
      "  -1.72296242e-16  9.99991282e-01  2.75916717e-17  5.56750552e-17]\n",
      " [ 8.32667268e-17  8.32667268e-17  8.32667268e-17 -5.56194181e-17\n",
      "  -5.55514887e-17  2.75916717e-17  1.00000000e+00 -9.99999878e-01]\n",
      " [-5.55111512e-17 -5.55111512e-17 -5.55111512e-17  1.08266912e-19\n",
      "  -2.77152381e-17  5.56750552e-17 -9.99999878e-01  1.00000000e+00]]\n",
      "decision matrix :\n",
      " [[1 1 1 0 0 0 0 0]\n",
      " [1 1 1 0 0 0 0 0]\n",
      " [1 1 1 0 0 0 0 0]\n",
      " [0 0 0 1 0 0 0 0]\n",
      " [0 0 0 0 1 0 0 0]\n",
      " [0 0 0 0 0 1 0 0]\n",
      " [0 0 0 0 0 0 1 1]\n",
      " [0 0 0 0 0 0 1 1]]\n",
      "expected matrix :\n",
      " [[1 1 1 0 0 0 0 0]\n",
      " [1 1 1 0 0 0 0 0]\n",
      " [1 1 1 0 0 0 0 0]\n",
      " [0 0 0 1 0 0 0 0]\n",
      " [0 0 0 0 1 0 0 0]\n",
      " [0 0 0 0 0 1 0 0]\n",
      " [0 0 0 0 0 0 1 1]\n",
      " [0 0 0 0 0 0 1 1]]\n",
      "distance to expected :  0.0010549531375692314\n"
     ]
    }
   ],
   "source": [
    "covariance_matrix_inference(\n",
    "    graph8_cyclic_state_prep_node,\n",
    "    8,\n",
    "    graph8_cyclic_mat,\n",
    "    step_size=0.05,\n",
    "    num_steps=30,\n",
    "    verbose=False,\n",
    ")"
   ]
  },
  {
   "attachments": {},
   "cell_type": "markdown",
   "metadata": {},
   "source": [
    "## 12-Qubit Graph State"
   ]
  },
  {
   "cell_type": "code",
   "execution_count": 25,
   "metadata": {},
   "outputs": [],
   "source": [
    "graph12_mat = qnp.array(\n",
    "    [\n",
    "        [1, 1, 1, 0, 0, 0, 0, 0, 0, 0, 0, 0],\n",
    "        [1, 1, 1, 0, 0, 0, 0, 0, 0, 0, 0, 0],\n",
    "        [1, 1, 1, 0, 0, 0, 0, 0, 0, 0, 0, 0],\n",
    "        [0, 0, 0, 1, 0, 0, 0, 0, 0, 0, 0, 0],\n",
    "        [0, 0, 0, 0, 1, 1, 0, 0, 0, 1, 0, 0],\n",
    "        [0, 0, 0, 0, 1, 1, 0, 0, 0, 1, 0, 0],\n",
    "        [0, 0, 0, 0, 0, 0, 1, 1, 0, 0, 0, 0],\n",
    "        [0, 0, 0, 0, 0, 0, 1, 1, 0, 0, 0, 0],\n",
    "        [0, 0, 0, 0, 0, 0, 0, 0, 1, 0, 0, 0],\n",
    "        [0, 0, 0, 0, 1, 1, 0, 0, 0, 1, 0, 0],\n",
    "        [0, 0, 0, 0, 0, 0, 0, 0, 0, 0, 1, 1],\n",
    "        [0, 0, 0, 0, 0, 0, 0, 0, 0, 0, 1, 1],\n",
    "    ]\n",
    ")\n",
    "graph12_state_prep_node = qnetvo.PrepareNode(\n",
    "    wires=[0, 1, 2, 3, 4, 5, 6, 7, 8, 9, 10, 11],\n",
    "    ansatz_fn=qnetvo.graph_state_fn([[0, 1], [1, 2], [6, 7], [4, 5], [4, 9], [4, 11], [11, 10]]),\n",
    ")"
   ]
  },
  {
   "cell_type": "code",
   "execution_count": 26,
   "metadata": {},
   "outputs": [
    {
     "name": "stdout",
     "output_type": "stream",
     "text": [
      "characteristic matrix :\n",
      " [[ 1.00000000e+00  6.63487149e-03  9.85590457e-01  4.21884749e-15\n",
      "   4.44089210e-15  4.44089210e-15  2.88657986e-15  3.10862447e-15\n",
      "   5.55111512e-15  1.77635684e-15  4.44089210e-15  1.33226763e-15]\n",
      " [ 6.63487149e-03  1.00000000e+00  2.18029429e-01  2.88657986e-15\n",
      "   2.22044605e-15  4.44089210e-15  4.44089210e-15  3.99680289e-15\n",
      "   3.99680289e-15  6.66133815e-15  6.66133815e-16  1.48769885e-14]\n",
      " [ 9.85590457e-01  2.18029429e-01  1.00000000e+00  3.33066907e-15\n",
      "   4.44089210e-15  4.88498131e-15  4.44089210e-15  3.10862447e-15\n",
      "   2.22044605e-15  2.88657986e-15  2.17603713e-14  4.66293670e-15]\n",
      " [ 4.21884749e-15  2.88657986e-15  3.33066907e-15  8.92165330e-09\n",
      "   4.21884749e-15  3.55271368e-15  3.10862447e-15  3.77475828e-15\n",
      "   5.55111512e-16  7.32747196e-15  6.43929354e-15  2.66453526e-15]\n",
      " [ 4.44089210e-15  2.22044605e-15  4.44089210e-15  4.21884749e-15\n",
      "   1.00000000e+00  4.39475833e-03  4.88498131e-15  2.66453526e-15\n",
      "   0.00000000e+00  1.45896623e-02  5.77315973e-15  1.77635684e-15]\n",
      " [ 4.44089210e-15  4.44089210e-15  4.88498131e-15  3.55271368e-15\n",
      "   4.39475833e-03  1.00000000e+00  4.44089210e-15  4.44089210e-15\n",
      "   5.55111512e-15  4.17781362e-01  5.55111512e-15  8.88178420e-16]\n",
      " [ 2.88657986e-15  4.44089210e-15  4.44089210e-15  3.10862447e-15\n",
      "   4.88498131e-15  4.44089210e-15  1.00000000e+00  9.99999992e-01\n",
      "   4.88498131e-15  6.43929354e-15  1.55431223e-15  5.77315973e-15]\n",
      " [ 3.10862447e-15  3.99680289e-15  3.10862447e-15  3.77475828e-15\n",
      "   2.66453526e-15  4.44089210e-15  9.99999992e-01  1.00000000e+00\n",
      "   5.55111512e-15  2.88657986e-15  1.55431223e-15  5.77315973e-15]\n",
      " [ 5.55111512e-15  3.99680289e-15  2.22044605e-15  5.55111512e-16\n",
      "   0.00000000e+00  5.55111512e-15  4.88498131e-15  5.55111512e-15\n",
      "   1.04494129e-03  3.33066907e-15  1.39888101e-14 -7.99360578e-15]\n",
      " [ 1.77635684e-15  6.66133815e-15  2.88657986e-15  7.32747196e-15\n",
      "   1.45896623e-02  4.17781362e-01  6.43929354e-15  2.88657986e-15\n",
      "   3.33066907e-15  1.00000000e+00  1.55431223e-15  2.04281037e-14]\n",
      " [ 4.44089210e-15  6.66133815e-16  2.17603713e-14  6.43929354e-15\n",
      "   5.77315973e-15  5.55111512e-15  1.55431223e-15  1.55431223e-15\n",
      "   1.39888101e-14  1.55431223e-15  1.00000000e+00  8.02963146e-01]\n",
      " [ 1.33226763e-15  1.48769885e-14  4.66293670e-15  2.66453526e-15\n",
      "   1.77635684e-15  8.88178420e-16  5.77315973e-15  5.77315973e-15\n",
      "  -7.99360578e-15  2.04281037e-14  8.02963146e-01  1.00000000e+00]]\n",
      "decision matrix :\n",
      " [[1 0 1 0 0 0 0 0 0 0 0 0]\n",
      " [0 1 1 0 0 0 0 0 0 0 0 0]\n",
      " [1 1 1 0 0 0 0 0 0 0 0 0]\n",
      " [0 0 0 0 0 0 0 0 0 0 0 0]\n",
      " [0 0 0 0 1 0 0 0 0 0 0 0]\n",
      " [0 0 0 0 0 1 0 0 0 1 0 0]\n",
      " [0 0 0 0 0 0 1 1 0 0 0 0]\n",
      " [0 0 0 0 0 0 1 1 0 0 0 0]\n",
      " [0 0 0 0 0 0 0 0 0 0 0 0]\n",
      " [0 0 0 0 0 1 0 0 0 1 0 0]\n",
      " [0 0 0 0 0 0 0 0 0 0 1 1]\n",
      " [0 0 0 0 0 0 0 0 0 0 1 1]]\n",
      "expected matrix :\n",
      " [[1 1 1 0 0 0 0 0 0 0 0 0]\n",
      " [1 1 1 0 0 0 0 0 0 0 0 0]\n",
      " [1 1 1 0 0 0 0 0 0 0 0 0]\n",
      " [0 0 0 1 0 0 0 0 0 0 0 0]\n",
      " [0 0 0 0 1 1 0 0 0 1 0 0]\n",
      " [0 0 0 0 1 1 0 0 0 1 0 0]\n",
      " [0 0 0 0 0 0 1 1 0 0 0 0]\n",
      " [0 0 0 0 0 0 1 1 0 0 0 0]\n",
      " [0 0 0 0 0 0 0 0 1 0 0 0]\n",
      " [0 0 0 0 1 1 0 0 0 1 0 0]\n",
      " [0 0 0 0 0 0 0 0 0 0 1 1]\n",
      " [0 0 0 0 0 0 0 0 0 0 1 1]]\n",
      "distance to expected :  3.142445187459347\n"
     ]
    }
   ],
   "source": [
    "characteristic_matrix_inference(graph12_state_prep_node, graph12_mat, num_steps=60, step_size=0.02)"
   ]
  },
  {
   "cell_type": "code",
   "execution_count": 27,
   "metadata": {},
   "outputs": [
    {
     "name": "stdout",
     "output_type": "stream",
     "text": [
      "covariance matrix :\n",
      " [[ 1.00000000e+00 -9.99999989e-01  9.99999973e-01  2.77555756e-17\n",
      "  -5.55111512e-17  5.55111512e-17  2.77555756e-17  2.77555756e-17\n",
      "   2.22044605e-16  2.77555756e-17  1.38777878e-16 -2.77555756e-17]\n",
      " [-9.99999989e-01  1.00000000e+00 -9.99999972e-01 -5.55111512e-17\n",
      "   0.00000000e+00  0.00000000e+00  5.55111512e-17  2.77555756e-17\n",
      "  -1.66533454e-16 -2.77555756e-17 -1.66533454e-16 -2.77555756e-17]\n",
      " [ 9.99999973e-01 -9.99999972e-01  1.00000000e+00  5.55111512e-17\n",
      "  -5.55111512e-17  5.55111512e-17  2.77555756e-17  2.77555756e-17\n",
      "   6.10622664e-16  2.77555756e-17  1.38777878e-16 -2.77555756e-17]\n",
      " [ 2.77555756e-17 -5.55111512e-17  5.55111512e-17  9.99076076e-01\n",
      "   3.37464724e-18 -7.82047560e-17 -5.71984749e-17 -2.26936048e-17\n",
      "  -2.65426244e-17  0.00000000e+00 -1.43839849e-16 -1.68979175e-16]\n",
      " [-5.55111512e-17  0.00000000e+00 -5.55111512e-17  3.37464724e-18\n",
      "   1.00000000e+00 -9.99997547e-01 -2.77555756e-17  8.32667268e-17\n",
      "  -1.38654557e-16 -9.99993695e-01  1.66533454e-16  4.71844785e-16]\n",
      " [ 5.55111512e-17  0.00000000e+00  5.55111512e-17 -7.82047560e-17\n",
      "  -9.99997547e-01  1.00000000e+00  5.55111512e-17 -5.55111512e-17\n",
      "   2.79405580e-17  9.99994992e-01 -3.33066907e-16  4.99600361e-16]\n",
      " [ 2.77555756e-17  5.55111512e-17  2.77555756e-17 -5.71984749e-17\n",
      "  -2.77555756e-17  5.55111512e-17  1.00000000e+00 -9.97981372e-01\n",
      "  -2.78172364e-17  5.55111512e-17  2.77555756e-17  4.62223187e-32]\n",
      " [ 2.77555756e-17  2.77555756e-17  2.77555756e-17 -2.26936048e-17\n",
      "   8.32667268e-17 -5.55111512e-17 -9.97981372e-01  1.00000000e+00\n",
      "  -5.53261689e-17 -1.11022302e-16 -2.77555756e-17  2.77555756e-17]\n",
      " [ 2.22044605e-16 -1.66533454e-16  6.10622664e-16 -2.65426244e-17\n",
      "  -1.38654557e-16  2.79405580e-17 -2.78172364e-17 -5.53261689e-17\n",
      "   9.99998766e-01  2.77555756e-17 -1.66718436e-16  5.64360630e-17]\n",
      " [ 2.77555756e-17 -2.77555756e-17  2.77555756e-17  0.00000000e+00\n",
      "  -9.99993695e-01  9.99994992e-01  5.55111512e-17 -1.11022302e-16\n",
      "   2.77555756e-17  1.00000000e+00  0.00000000e+00 -2.77555756e-16]\n",
      " [ 1.38777878e-16 -1.66533454e-16  1.38777878e-16 -1.43839849e-16\n",
      "   1.66533454e-16 -3.33066907e-16  2.77555756e-17 -2.77555756e-17\n",
      "  -1.66718436e-16  0.00000000e+00  1.00000000e+00 -9.97465230e-01]\n",
      " [-2.77555756e-17 -2.77555756e-17 -2.77555756e-17 -1.68979175e-16\n",
      "   4.71844785e-16  4.99600361e-16  4.62223187e-32  2.77555756e-17\n",
      "   5.64360630e-17 -2.77555756e-16 -9.97465230e-01  1.00000000e+00]]\n",
      "decision matrix :\n",
      " [[1 1 1 0 0 0 0 0 0 0 0 0]\n",
      " [1 1 1 0 0 0 0 0 0 0 0 0]\n",
      " [1 1 1 0 0 0 0 0 0 0 0 0]\n",
      " [0 0 0 1 0 0 0 0 0 0 0 0]\n",
      " [0 0 0 0 1 1 0 0 0 1 0 0]\n",
      " [0 0 0 0 1 1 0 0 0 1 0 0]\n",
      " [0 0 0 0 0 0 1 1 0 0 0 0]\n",
      " [0 0 0 0 0 0 1 1 0 0 0 0]\n",
      " [0 0 0 0 0 0 0 0 1 0 0 0]\n",
      " [0 0 0 0 1 1 0 0 0 1 0 0]\n",
      " [0 0 0 0 0 0 0 0 0 0 1 1]\n",
      " [0 0 0 0 0 0 0 0 0 0 1 1]]\n",
      "expected matrix :\n",
      " [[1 1 1 0 0 0 0 0 0 0 0 0]\n",
      " [1 1 1 0 0 0 0 0 0 0 0 0]\n",
      " [1 1 1 0 0 0 0 0 0 0 0 0]\n",
      " [0 0 0 1 0 0 0 0 0 0 0 0]\n",
      " [0 0 0 0 1 1 0 0 0 1 0 0]\n",
      " [0 0 0 0 1 1 0 0 0 1 0 0]\n",
      " [0 0 0 0 0 0 1 1 0 0 0 0]\n",
      " [0 0 0 0 0 0 1 1 0 0 0 0]\n",
      " [0 0 0 0 0 0 0 0 1 0 0 0]\n",
      " [0 0 0 0 1 1 0 0 0 1 0 0]\n",
      " [0 0 0 0 0 0 0 0 0 0 1 1]\n",
      " [0 0 0 0 0 0 0 0 0 0 1 1]]\n",
      "distance to expected :  0.0046747843043898904\n"
     ]
    }
   ],
   "source": [
    "covariance_matrix_inference(\n",
    "    graph12_state_prep_node,\n",
    "    12,\n",
    "    graph12_mat,\n",
    "    num_steps=20,\n",
    "    step_size=0.05,\n",
    "    verbose=False,\n",
    ")"
   ]
  },
  {
   "attachments": {},
   "cell_type": "markdown",
   "metadata": {},
   "source": [
    "## A bunch of different entangled states"
   ]
  },
  {
   "cell_type": "code",
   "execution_count": 28,
   "metadata": {},
   "outputs": [],
   "source": [
    "multi_ent_mat_full = qnp.zeros((8, 8))\n",
    "multi_ent_mat = qnp.array(\n",
    "    [\n",
    "        [1, 1, 0, 0, 0, 0, 0],\n",
    "        [1, 1, 0, 0, 0, 0, 0],\n",
    "        [0, 0, 1, 1, 0, 0, 0],\n",
    "        [0, 0, 1, 1, 0, 0, 0],\n",
    "        [0, 0, 0, 0, 1, 1, 1],\n",
    "        [0, 0, 0, 0, 1, 1, 1],\n",
    "        [0, 0, 0, 0, 1, 1, 1],\n",
    "    ]\n",
    ")\n",
    "\n",
    "\n",
    "def fn(settings, wires):\n",
    "    qnetvo.shared_coin_flip_state([qnp.pi / 3], wires=[wires[0], wires[1], wires[7]])\n",
    "    qnetvo.ghz_state([], wires=wires[2:4])\n",
    "    qnetvo.W_state([], wires=wires[4:7])\n",
    "\n",
    "\n",
    "multi_ent_prep_node = qnetvo.PrepareNode(\n",
    "    wires=[0, 1, 2, 3, 4, 5, 6, 7],\n",
    "    ansatz_fn=fn,\n",
    ")"
   ]
  },
  {
   "cell_type": "markdown",
   "metadata": {},
   "source": []
  },
  {
   "cell_type": "code",
   "execution_count": 29,
   "metadata": {},
   "outputs": [
    {
     "name": "stdout",
     "output_type": "stream",
     "text": [
      "characteristic matrix :\n",
      " [[8.21844448e-01 2.83082972e-01 1.33226763e-15 1.33226763e-15\n",
      "  1.77635684e-15 8.88178420e-16 2.44249065e-15 8.11278124e-01]\n",
      " [2.83082972e-01 9.42812328e-01 1.33226763e-15 1.33226763e-15\n",
      "  1.33226763e-15 1.11022302e-15 1.77635684e-15 8.11278125e-01]\n",
      " [1.33226763e-15 1.33226763e-15 1.00000000e+00 1.00000000e+00\n",
      "  2.88657986e-15 1.55431223e-15 1.55431223e-15 2.22044605e-15]\n",
      " [1.33226763e-15 1.33226763e-15 1.00000000e+00 1.00000000e+00\n",
      "  1.11022302e-15 1.77635684e-15 1.55431223e-15 1.99840144e-15]\n",
      " [1.77635684e-15 1.33226763e-15 2.88657986e-15 1.11022302e-15\n",
      "  9.99994355e-01 3.48930784e-01 3.30417854e-01 1.33226763e-15]\n",
      " [8.88178420e-16 1.11022302e-15 1.55431223e-15 1.77635684e-15\n",
      "  3.48930784e-01 9.92267422e-01 3.49874615e-01 1.33226763e-15]\n",
      " [2.44249065e-15 1.77635684e-15 1.55431223e-15 1.55431223e-15\n",
      "  3.30417854e-01 3.49874615e-01 9.26284791e-01 8.88178420e-16]\n",
      " [8.11278124e-01 8.11278125e-01 2.22044605e-15 1.99840144e-15\n",
      "  1.33226763e-15 1.33226763e-15 8.88178420e-16 8.11493895e-01]]\n",
      "decision matrix :\n",
      " [[1 1 0 0 0 0 0 1]\n",
      " [1 1 0 0 0 0 0 1]\n",
      " [0 0 1 1 0 0 0 0]\n",
      " [0 0 1 1 0 0 0 0]\n",
      " [0 0 0 0 1 1 1 0]\n",
      " [0 0 0 0 1 1 1 0]\n",
      " [0 0 0 0 1 1 1 0]\n",
      " [1 1 0 0 0 0 0 1]]\n",
      "expected matrix :\n",
      " [[0. 0. 0. 0. 0. 0. 0. 0.]\n",
      " [0. 0. 0. 0. 0. 0. 0. 0.]\n",
      " [0. 0. 0. 0. 0. 0. 0. 0.]\n",
      " [0. 0. 0. 0. 0. 0. 0. 0.]\n",
      " [0. 0. 0. 0. 0. 0. 0. 0.]\n",
      " [0. 0. 0. 0. 0. 0. 0. 0.]\n",
      " [0. 0. 0. 0. 0. 0. 0. 0.]\n",
      " [0. 0. 0. 0. 0. 0. 0. 0.]]\n",
      "distance to expected :  3.544724967592786\n"
     ]
    }
   ],
   "source": [
    "characteristic_matrix_inference(\n",
    "    multi_ent_prep_node, multi_ent_mat_full, num_steps=50, step_size=0.1\n",
    ")"
   ]
  },
  {
   "cell_type": "code",
   "execution_count": 31,
   "metadata": {},
   "outputs": [
    {
     "name": "stdout",
     "output_type": "stream",
     "text": [
      "covariance matrix :\n",
      " [[ 9.23814622e-01  2.02564941e-01  0.00000000e+00  0.00000000e+00\n",
      "  -1.38777878e-17 -7.28583860e-17  2.60208521e-17]\n",
      " [ 2.02564941e-01  9.40156853e-01  0.00000000e+00  0.00000000e+00\n",
      "  -1.73472348e-17 -5.89805982e-17  4.51028104e-17]\n",
      " [ 0.00000000e+00  0.00000000e+00  1.00000000e+00  9.99999979e-01\n",
      "  -1.11022302e-16 -2.77555756e-17 -1.38777878e-16]\n",
      " [ 0.00000000e+00  0.00000000e+00  9.99999979e-01  1.00000000e+00\n",
      "  -1.11022302e-16 -2.77555756e-17 -1.38777878e-16]\n",
      " [-1.38777878e-17 -1.73472348e-17 -1.11022302e-16 -1.11022302e-16\n",
      "   9.98503232e-01  6.52703407e-01  6.57352698e-01]\n",
      " [-7.28583860e-17 -5.89805982e-17 -2.77555756e-17 -2.77555756e-17\n",
      "   6.52703407e-01  9.98713890e-01  6.58621939e-01]\n",
      " [ 2.60208521e-17  4.51028104e-17 -1.38777878e-16 -1.38777878e-16\n",
      "   6.57352698e-01  6.58621939e-01  9.99658292e-01]]\n",
      "decision matrix :\n",
      " [[1 1 0 0 0 0 0]\n",
      " [1 1 0 0 0 0 0]\n",
      " [0 0 1 1 0 0 0]\n",
      " [0 0 1 1 0 0 0]\n",
      " [0 0 0 0 1 1 1]\n",
      " [0 0 0 0 1 1 1]\n",
      " [0 0 0 0 1 1 1]]\n",
      "expected matrix :\n",
      " [[1 1 0 0 0 0 0]\n",
      " [1 1 0 0 0 0 0]\n",
      " [0 0 1 1 0 0 0]\n",
      " [0 0 1 1 0 0 0]\n",
      " [0 0 0 0 1 1 1]\n",
      " [0 0 0 0 1 1 1]\n",
      " [0 0 0 0 1 1 1]]\n",
      "distance to expected :  1.410785925756913\n"
     ]
    }
   ],
   "source": [
    "covariance_matrix_inference(\n",
    "    multi_ent_prep_node,\n",
    "    7,\n",
    "    multi_ent_mat,\n",
    "    meas_wires=[0, 1, 2, 3, 4, 5, 6],\n",
    "    num_steps=20,\n",
    "    step_size=0.05,\n",
    "    verbose=False,\n",
    ")"
   ]
  },
  {
   "cell_type": "code",
   "execution_count": null,
   "metadata": {},
   "outputs": [],
   "source": []
  }
 ],
 "metadata": {
  "kernelspec": {
   "display_name": "qnetti-dev",
   "language": "python",
   "name": "python3"
  },
  "language_info": {
   "codemirror_mode": {
    "name": "ipython",
    "version": 3
   },
   "file_extension": ".py",
   "mimetype": "text/x-python",
   "name": "python",
   "nbconvert_exporter": "python",
   "pygments_lexer": "ipython3",
   "version": "3.8.16"
  },
  "orig_nbformat": 4,
  "vscode": {
   "interpreter": {
    "hash": "846536a23776736bc0845be6c32b9ee9c375f2c4c95b8defe18cef9bdc15dde6"
   }
  }
 },
 "nbformat": 4,
 "nbformat_minor": 2
}
