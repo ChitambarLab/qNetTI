{
 "cells": [
  {
   "attachments": {},
   "cell_type": "markdown",
   "metadata": {},
   "source": [
    "# High-level Comparison Between the Network Covariance and Characteristic Matrices\n",
    "\n",
    "In this notebook, we provide a rough comparison between covariance-based and entropy-based topology inference methods.\n",
    "The goal is to test each method across a range of entangled states to get an idea of their relative performance.\n",
    "\n",
    "\n",
    "## Key Differences\n",
    "\n",
    "### Covariance Matrix Advantages\n",
    "\n",
    "There is a significant performance advantage over the characteristic matrix:\n",
    "* This can easily be observed by noting the cell execution times, especially when more qubits are considered. \n",
    "* The covariance is evaluated from one circuit evaluation $O(1)$, whereas the charcteristic matrix requires a minimum of $O(n^2)$ circuit evaluations where $n$ is the number of qubits. Given clever parallelization in quantum circuits, the characteristic matrix may be evaluated in $O(n)$.\n",
    "* Optimizing the covariance matrix seems to require significantly fewer steps than needed to successfully infer topology using the characteristic matrix. This means that fewer circuits need to be run.\n",
    "* The optimization appears to be more robust and less susceptible to local minima. We see this in the fact that the characteristic matrix often fails to infer the GHZ states with more than 3 qubits.\n",
    "\n",
    "\n",
    "### Characteristic Matrix Advantages\n",
    "\n",
    "A key difference between the covariance and characteristic matrices is that the covariance matrix seems to always have ones along the diagonal, even if the measured qubit is not correlated with any other qubits. On the contrary, the characteristic matrix measures a zero von neumann entropy if there is no correlation whatsoever.\n",
    "\n",
    "The threshold of deciding if a correlation exists needs to be raised as the number of shots decreases.\n",
    "The rate at which covariance methods need to be raised seems to more than characteristic matrices.\n",
    "This may mean, that the variance of the entropic quantities in the low shot regime are improved over those of the covariance matrix."
   ]
  },
  {
   "cell_type": "code",
   "execution_count": 1,
   "metadata": {},
   "outputs": [
    {
     "name": "stdout",
     "output_type": "stream",
     "text": [
      "0.4.1\n",
      "0.28.0\n"
     ]
    }
   ],
   "source": [
    "import qnetti\n",
    "import pennylane as qml\n",
    "from pennylane import numpy as qnp\n",
    "import qnetvo\n",
    "\n",
    "print(qnetvo.__version__)\n",
    "print(qml.__version__)"
   ]
  },
  {
   "cell_type": "code",
   "execution_count": 2,
   "metadata": {},
   "outputs": [],
   "source": [
    "def decision_matrix(mat, atol=0.1):\n",
    "    return qnp.where(qnp.abs(mat) > atol, 1, 0)\n",
    "\n",
    "\n",
    "def matrix_distance(mat1, mat2):\n",
    "    return qnp.linalg.norm(qnp.array(mat1) - qnp.abs(qnp.array(mat2)))\n",
    "\n",
    "\n",
    "def characteristic_matrix_inference(prep_node, expected_mat, **kwargs):\n",
    "    char_mat = qnetti.qubit_characteristic_matrix(prep_node, **kwargs)\n",
    "    dec_mat = decision_matrix(char_mat)\n",
    "    char_dist = matrix_distance(expected_mat, char_mat)\n",
    "\n",
    "    print(\"characteristic matrix :\\n\", char_mat)\n",
    "    print(\"decision matrix :\\n\", dec_mat)\n",
    "    print(\"expected matrix :\\n\", expected_mat)\n",
    "    print(\"distance to expected : \", char_dist)\n",
    "\n",
    "\n",
    "def covariance_matrix_inference(\n",
    "    prep_node,\n",
    "    num_qubits,\n",
    "    expected_mat,\n",
    "    meas_wires=None,\n",
    "    step_size=0.1,\n",
    "    num_steps=10,\n",
    "    verbose=False,\n",
    "    shots=None,\n",
    "    qnode_kwargs={},\n",
    "    atol=0.1,\n",
    "):\n",
    "    settings = qnp.random.rand(3 * num_qubits, requires_grad=True)\n",
    "    cov_cost = qnetti.qubit_covariance_cost_fn(\n",
    "        prep_node, meas_wires=meas_wires, shots=shots, qnode_kwargs=qnode_kwargs\n",
    "    )\n",
    "\n",
    "    settings_list = [settings]\n",
    "    cost_vals = [cov_cost(settings)]\n",
    "\n",
    "    opt = qml.GradientDescentOptimizer(stepsize=step_size)\n",
    "    for i in range(num_steps):\n",
    "        settings, cost_val = opt.step_and_cost(cov_cost, settings)\n",
    "\n",
    "        cost_vals += [cost_val]\n",
    "        settings_list += [settings]\n",
    "\n",
    "    min_id = qnp.argmin(cost_vals)\n",
    "    min_cost = cost_vals[min_id]\n",
    "    opt_settings = settings_list[min_id]\n",
    "\n",
    "    cov_mat = qnetti.qubit_covariance_matrix_fn(\n",
    "        prep_node, meas_wires=meas_wires, shots=shots, qnode_kwargs=qnode_kwargs\n",
    "    )(opt_settings)\n",
    "    dec_mat = decision_matrix(cov_mat, atol=atol)\n",
    "    cov_dist = matrix_distance(expected_mat, cov_mat)\n",
    "\n",
    "    print(\"covariance matrix :\\n\", cov_mat)\n",
    "    print(\"decision matrix :\\n\", dec_mat)\n",
    "    print(\"expected matrix :\\n\", expected_mat)\n",
    "    print(\"distance to expected : \", cov_dist)"
   ]
  },
  {
   "attachments": {},
   "cell_type": "markdown",
   "metadata": {},
   "source": [
    "## Two-Qubit GHZ State"
   ]
  },
  {
   "cell_type": "code",
   "execution_count": 3,
   "metadata": {},
   "outputs": [],
   "source": [
    "ghz2_mat = qnp.ones((2, 2))\n",
    "\n",
    "\n",
    "def rot_bell_state(settings, wires):\n",
    "    qnetvo.ghz_state(settings, wires)\n",
    "    qml.ArbitraryUnitary([qnp.pi / 4, 0.3, -1.5], wires=[wires[0]])\n",
    "    qml.ArbitraryUnitary([-0.7, 2.9, 1.2], wires=[wires[1]])\n",
    "\n",
    "\n",
    "bell_state_prep_node = qnetvo.PrepareNode(wires=[0, 1], ansatz_fn=rot_bell_state)"
   ]
  },
  {
   "cell_type": "code",
   "execution_count": 4,
   "metadata": {},
   "outputs": [
    {
     "name": "stdout",
     "output_type": "stream",
     "text": [
      "characteristic matrix :\n",
      " [[1.         0.78365207]\n",
      " [0.78365207 1.        ]]\n",
      "decision matrix :\n",
      " [[1 1]\n",
      " [1 1]]\n",
      "expected matrix :\n",
      " [[1. 1.]\n",
      " [1. 1.]]\n",
      "distance to expected :  0.3059621710953783\n"
     ]
    }
   ],
   "source": [
    "characteristic_matrix_inference(bell_state_prep_node, ghz2_mat, num_steps=10, step_size=0.1)"
   ]
  },
  {
   "cell_type": "code",
   "execution_count": 5,
   "metadata": {},
   "outputs": [
    {
     "name": "stdout",
     "output_type": "stream",
     "text": [
      "covariance matrix :\n",
      " [[1.         0.99999249]\n",
      " [0.99999249 1.        ]]\n",
      "decision matrix :\n",
      " [[1 1]\n",
      " [1 1]]\n",
      "expected matrix :\n",
      " [[1. 1.]\n",
      " [1. 1.]]\n",
      "distance to expected :  1.0624792979292031e-05\n"
     ]
    }
   ],
   "source": [
    "covariance_matrix_inference(\n",
    "    bell_state_prep_node,\n",
    "    2,\n",
    "    ghz2_mat,\n",
    "    step_size=0.2,\n",
    "    num_steps=6,\n",
    "    verbose=False,\n",
    ")"
   ]
  },
  {
   "attachments": {},
   "cell_type": "markdown",
   "metadata": {},
   "source": [
    "## 3-Qubit GHZ state"
   ]
  },
  {
   "cell_type": "code",
   "execution_count": 6,
   "metadata": {},
   "outputs": [],
   "source": [
    "ghz3_mat = qnp.ones((3, 3))\n",
    "\n",
    "\n",
    "def rot_ghz3_state(settings, wires):\n",
    "    qnetvo.ghz_state(settings, wires)\n",
    "    qml.ArbitraryUnitary([qnp.pi / 4, 0.3, -1.5], wires=[wires[0]])\n",
    "    qml.ArbitraryUnitary([-0.7, 2.9, 1.2], wires=[wires[1]])\n",
    "    qml.ArbitraryUnitary([-0.9, 0.9, 0.12], wires=[wires[2]])\n",
    "\n",
    "\n",
    "ghz3_state_prep_node = qnetvo.PrepareNode(wires=[0, 1, 2], ansatz_fn=rot_ghz3_state)"
   ]
  },
  {
   "cell_type": "code",
   "execution_count": 7,
   "metadata": {},
   "outputs": [
    {
     "name": "stdout",
     "output_type": "stream",
     "text": [
      "characteristic matrix :\n",
      " [[1.         0.39974909 0.07939856]\n",
      " [0.39974909 1.         0.025727  ]\n",
      " [0.07939856 0.025727   1.        ]]\n",
      "decision matrix :\n",
      " [[1 1 0]\n",
      " [1 1 0]\n",
      " [0 0 1]]\n",
      "expected matrix :\n",
      " [[1. 1. 1.]\n",
      " [1. 1. 1.]\n",
      " [1. 1. 1.]]\n",
      "distance to expected :  2.0770248184914895\n"
     ]
    }
   ],
   "source": [
    "characteristic_matrix_inference(ghz3_state_prep_node, ghz3_mat, num_steps=10, step_size=0.1)"
   ]
  },
  {
   "cell_type": "code",
   "execution_count": 8,
   "metadata": {},
   "outputs": [
    {
     "name": "stdout",
     "output_type": "stream",
     "text": [
      "covariance matrix :\n",
      " [[ 1.         -0.99903341  0.99904189]\n",
      " [-0.99903341  1.         -0.99999144]\n",
      " [ 0.99904189 -0.99999144  1.        ]]\n",
      "decision matrix :\n",
      " [[1 1 1]\n",
      " [1 1 1]\n",
      " [1 1 1]]\n",
      "expected matrix :\n",
      " [[1. 1. 1.]\n",
      " [1. 1. 1.]\n",
      " [1. 1. 1.]]\n",
      "distance to expected :  0.0019247481672651323\n"
     ]
    }
   ],
   "source": [
    "covariance_matrix_inference(\n",
    "    ghz3_state_prep_node,\n",
    "    3,\n",
    "    ghz3_mat,\n",
    "    step_size=0.1,\n",
    "    num_steps=10,\n",
    "    verbose=False,\n",
    ")"
   ]
  },
  {
   "attachments": {},
   "cell_type": "markdown",
   "metadata": {},
   "source": [
    "## 4-Qubit GHZ"
   ]
  },
  {
   "cell_type": "code",
   "execution_count": 9,
   "metadata": {},
   "outputs": [],
   "source": [
    "ghz4_mat = qnp.ones((4, 4))\n",
    "\n",
    "\n",
    "def rot_ghz4_state(settings, wires):\n",
    "    qnetvo.ghz_state(settings, wires)\n",
    "    qml.ArbitraryUnitary([qnp.pi / 4, 0.3, -1.5], wires=[wires[0]])\n",
    "    qml.ArbitraryUnitary([-0.7, 2.9, 1.2], wires=[wires[1]])\n",
    "    qml.ArbitraryUnitary([-0.9, 0.9, 0.12], wires=[wires[2]])\n",
    "    qml.ArbitraryUnitary([2, 2, 2], wires=[wires[3]])\n",
    "\n",
    "\n",
    "ghz4_state_prep_node = qnetvo.PrepareNode(wires=[0, 1, 2, 3], ansatz_fn=rot_ghz4_state)"
   ]
  },
  {
   "cell_type": "code",
   "execution_count": 10,
   "metadata": {},
   "outputs": [
    {
     "name": "stdout",
     "output_type": "stream",
     "text": [
      "characteristic matrix :\n",
      " [[1.         0.56472518 0.15404376 0.59222568]\n",
      " [0.56472518 1.         0.40370309 0.33911379]\n",
      " [0.15404376 0.40370309 1.         0.95743003]\n",
      " [0.59222568 0.33911379 0.95743003 1.        ]]\n",
      "decision matrix :\n",
      " [[1 1 1 1]\n",
      " [1 1 1 1]\n",
      " [1 1 1 1]\n",
      " [1 1 1 1]]\n",
      "expected matrix :\n",
      " [[1. 1. 1. 1.]\n",
      " [1. 1. 1. 1.]\n",
      " [1. 1. 1. 1.]\n",
      " [1. 1. 1. 1.]]\n",
      "distance to expected :  1.9315997552287274\n"
     ]
    }
   ],
   "source": [
    "characteristic_matrix_inference(ghz4_state_prep_node, ghz4_mat, num_steps=30, step_size=0.1)"
   ]
  },
  {
   "cell_type": "code",
   "execution_count": 11,
   "metadata": {},
   "outputs": [
    {
     "name": "stdout",
     "output_type": "stream",
     "text": [
      "covariance matrix :\n",
      " [[ 1.         -0.99554295  0.99349685 -0.89565097]\n",
      " [-0.99554295  1.         -0.9946274   0.89667017]\n",
      " [ 0.99349685 -0.9946274   1.         -0.89482729]\n",
      " [-0.89565097  0.89667017 -0.89482729  1.        ]]\n",
      "decision matrix :\n",
      " [[1 1 1 1]\n",
      " [1 1 1 1]\n",
      " [1 1 1 1]\n",
      " [1 1 1 1]]\n",
      "expected matrix :\n",
      " [[1. 1. 1. 1.]\n",
      " [1. 1. 1. 1.]\n",
      " [1. 1. 1. 1.]\n",
      " [1. 1. 1. 1.]]\n",
      "distance to expected :  0.2558049809093404\n"
     ]
    }
   ],
   "source": [
    "covariance_matrix_inference(\n",
    "    ghz4_state_prep_node,\n",
    "    4,\n",
    "    ghz4_mat,\n",
    "    step_size=0.2,\n",
    "    num_steps=6,\n",
    "    verbose=False,\n",
    ")"
   ]
  },
  {
   "attachments": {},
   "cell_type": "markdown",
   "metadata": {},
   "source": [
    "# 5-Qubit GHZ"
   ]
  },
  {
   "cell_type": "code",
   "execution_count": 12,
   "metadata": {},
   "outputs": [],
   "source": [
    "ghz5_mat = qnp.ones((5, 5))\n",
    "\n",
    "\n",
    "def rot_ghz5_state(settings, wires):\n",
    "    qnetvo.ghz_state(settings, wires)\n",
    "    qml.ArbitraryUnitary([qnp.pi / 4, 0.3, -1.5], wires=[wires[0]])\n",
    "    qml.ArbitraryUnitary([-0.7, 2.9, 1.2], wires=[wires[1]])\n",
    "    qml.ArbitraryUnitary([-0.9, 0.9, 0.12], wires=[wires[2]])\n",
    "    qml.ArbitraryUnitary([2, 2, 2], wires=[wires[3]])\n",
    "    qml.ArbitraryUnitary([1, 2.3, 0.4], wires=[wires[4]])\n",
    "\n",
    "\n",
    "ghz5_state_prep_node = qnetvo.PrepareNode(wires=[0, 1, 2, 3, 4], ansatz_fn=rot_ghz5_state)"
   ]
  },
  {
   "cell_type": "code",
   "execution_count": 13,
   "metadata": {},
   "outputs": [
    {
     "name": "stdout",
     "output_type": "stream",
     "text": [
      "characteristic matrix :\n",
      " [[1.00000000e+00 3.25660236e-03 4.05698139e-04 9.38272283e-01\n",
      "  9.99669349e-01]\n",
      " [3.25660236e-03 1.00000000e+00 6.29563962e-01 4.06433674e-01\n",
      "  2.90222067e-01]\n",
      " [4.05698139e-04 6.29563962e-01 1.00000000e+00 9.81897892e-01\n",
      "  9.95862592e-01]\n",
      " [9.38272283e-01 4.06433674e-01 9.81897892e-01 1.00000000e+00\n",
      "  9.23585631e-01]\n",
      " [9.99669349e-01 2.90222067e-01 9.95862592e-01 9.23585631e-01\n",
      "  1.00000000e+00]]\n",
      "decision matrix :\n",
      " [[1 0 0 1 1]\n",
      " [0 1 1 1 1]\n",
      " [0 1 1 1 1]\n",
      " [1 1 1 1 1]\n",
      " [1 1 1 1 1]]\n",
      "expected matrix :\n",
      " [[1. 1. 1. 1. 1.]\n",
      " [1. 1. 1. 1. 1.]\n",
      " [1. 1. 1. 1. 1.]\n",
      " [1. 1. 1. 1. 1.]\n",
      " [1. 1. 1. 1. 1.]]\n",
      "distance to expected :  2.447859924862354\n"
     ]
    }
   ],
   "source": [
    "characteristic_matrix_inference(ghz5_state_prep_node, ghz5_mat, num_steps=30, step_size=0.1)"
   ]
  },
  {
   "cell_type": "code",
   "execution_count": 14,
   "metadata": {},
   "outputs": [
    {
     "name": "stdout",
     "output_type": "stream",
     "text": [
      "covariance matrix :\n",
      " [[ 1.          0.53899521  0.9999711  -0.99131748 -0.99996745]\n",
      " [ 0.53899521  1.          0.53901079 -0.53434626 -0.53900882]\n",
      " [ 0.9999711   0.53901079  1.         -0.99134613 -0.99999635]\n",
      " [-0.99131748 -0.53434626 -0.99134613  1.          0.99134252]\n",
      " [-0.99996745 -0.53900882 -0.99999635  0.99134252  1.        ]]\n",
      "decision matrix :\n",
      " [[1 1 1 1 1]\n",
      " [1 1 1 1 1]\n",
      " [1 1 1 1 1]\n",
      " [1 1 1 1 1]\n",
      " [1 1 1 1 1]]\n",
      "expected matrix :\n",
      " [[1. 1. 1. 1. 1.]\n",
      " [1. 1. 1. 1. 1.]\n",
      " [1. 1. 1. 1. 1.]\n",
      " [1. 1. 1. 1. 1.]\n",
      " [1. 1. 1. 1. 1.]]\n",
      "distance to expected :  1.3073698562073244\n"
     ]
    }
   ],
   "source": [
    "covariance_matrix_inference(\n",
    "    ghz5_state_prep_node, 5, ghz5_mat, step_size=0.1, num_steps=10, verbose=False\n",
    ")"
   ]
  },
  {
   "attachments": {},
   "cell_type": "markdown",
   "metadata": {},
   "source": [
    "# 8-qubit GHZ state"
   ]
  },
  {
   "cell_type": "code",
   "execution_count": 15,
   "metadata": {},
   "outputs": [],
   "source": [
    "ghz8_mat = qnp.ones((8, 8))\n",
    "\n",
    "\n",
    "def rot_ghz8_state(settings, wires):\n",
    "    qnetvo.ghz_state(settings, wires)\n",
    "    qml.ArbitraryUnitary([qnp.pi / 4, 0.3, -1.5], wires=[wires[0]])\n",
    "    qml.ArbitraryUnitary([-0.7, 2.9, 1.2], wires=[wires[1]])\n",
    "    qml.ArbitraryUnitary([-0.9, 0.9, 0.12], wires=[wires[2]])\n",
    "    qml.ArbitraryUnitary([2, 2, 2], wires=[wires[3]])\n",
    "    qml.ArbitraryUnitary([1, 2.3, 0.4], wires=[wires[4]])\n",
    "    qml.ArbitraryUnitary([-0.9, 0.9, 0.12], wires=[wires[5]])\n",
    "    qml.ArbitraryUnitary([2, 2, 2], wires=[wires[6]])\n",
    "    qml.ArbitraryUnitary([1, 2.3, 0.4], wires=[wires[7]])\n",
    "\n",
    "\n",
    "ghz8_state_prep_node = qnetvo.PrepareNode(\n",
    "    wires=[0, 1, 2, 3, 4, 5, 6, 7],\n",
    "    ansatz_fn=rot_ghz8_state,\n",
    ")"
   ]
  },
  {
   "cell_type": "code",
   "execution_count": 16,
   "metadata": {},
   "outputs": [
    {
     "name": "stdout",
     "output_type": "stream",
     "text": [
      "characteristic matrix :\n",
      " [[1.         1.         0.39801406 0.53690655 0.99999999 0.23410821\n",
      "  0.9419895  1.        ]\n",
      " [1.         1.         1.         0.99958445 0.99929754 0.87873912\n",
      "  0.90108223 0.00279393]\n",
      " [0.39801406 1.         1.         0.02193399 0.94614372 0.95539924\n",
      "  0.02311805 0.00307238]\n",
      " [0.53690655 0.99958445 0.02193399 1.         0.52315375 0.97566352\n",
      "  0.89143051 0.93771627]\n",
      " [0.99999999 0.99929754 0.94614372 0.52315375 1.         1.\n",
      "  0.90386864 0.76105892]\n",
      " [0.23410821 0.87873912 0.95539924 0.97566352 1.         1.\n",
      "  0.93392805 1.        ]\n",
      " [0.9419895  0.90108223 0.02311805 0.89143051 0.90386864 0.93392805\n",
      "  1.         0.68314503]\n",
      " [1.         0.00279393 0.00307238 0.93771627 0.76105892 1.\n",
      "  0.68314503 1.        ]]\n",
      "decision matrix :\n",
      " [[1 1 1 1 1 1 1 1]\n",
      " [1 1 1 1 1 1 1 0]\n",
      " [1 1 1 0 1 1 0 0]\n",
      " [1 1 0 1 1 1 1 1]\n",
      " [1 1 1 1 1 1 1 1]\n",
      " [1 1 1 1 1 1 1 1]\n",
      " [1 1 0 1 1 1 1 1]\n",
      " [1 0 0 1 1 1 1 1]]\n",
      "expected matrix :\n",
      " [[1. 1. 1. 1. 1. 1. 1. 1.]\n",
      " [1. 1. 1. 1. 1. 1. 1. 1.]\n",
      " [1. 1. 1. 1. 1. 1. 1. 1.]\n",
      " [1. 1. 1. 1. 1. 1. 1. 1.]\n",
      " [1. 1. 1. 1. 1. 1. 1. 1.]\n",
      " [1. 1. 1. 1. 1. 1. 1. 1.]\n",
      " [1. 1. 1. 1. 1. 1. 1. 1.]\n",
      " [1. 1. 1. 1. 1. 1. 1. 1.]]\n",
      "distance to expected :  3.31967207270674\n"
     ]
    }
   ],
   "source": [
    "characteristic_matrix_inference(ghz8_state_prep_node, ghz8_mat, num_steps=30, step_size=0.1)"
   ]
  },
  {
   "cell_type": "code",
   "execution_count": 17,
   "metadata": {},
   "outputs": [
    {
     "name": "stdout",
     "output_type": "stream",
     "text": [
      "covariance matrix :\n",
      " [[ 1.          0.93545218  0.91636829 -0.91293008 -0.897829    0.89101795\n",
      "  -0.79674341 -0.92193694]\n",
      " [ 0.93545218  1.          0.94658663 -0.94303505 -0.92743599  0.92040033\n",
      "  -0.82301699 -0.95233891]\n",
      " [ 0.91636829  0.94658663  1.         -0.92379646 -0.90851563  0.90162351\n",
      "  -0.80622685 -0.93291052]\n",
      " [-0.91293008 -0.94303505 -0.92379646  1.          0.90510689 -0.89824062\n",
      "   0.80320189  0.92941025]\n",
      " [-0.897829   -0.92743599 -0.90851563  0.90510689  1.         -0.88338253\n",
      "   0.78991586  0.91403656]\n",
      " [ 0.89101795  0.92040033  0.90162351 -0.89824062 -0.88338253  1.\n",
      "  -0.78392346 -0.90710256]\n",
      " [-0.79674341 -0.82301699 -0.80622685  0.80320189  0.78991586 -0.78392346\n",
      "   1.          0.81112619]\n",
      " [-0.92193694 -0.95233891 -0.93291052  0.92941025  0.91403656 -0.90710256\n",
      "   0.81112619  1.        ]]\n",
      "decision matrix :\n",
      " [[1 1 1 1 1 1 1 1]\n",
      " [1 1 1 1 1 1 1 1]\n",
      " [1 1 1 1 1 1 1 1]\n",
      " [1 1 1 1 1 1 1 1]\n",
      " [1 1 1 1 1 1 1 1]\n",
      " [1 1 1 1 1 1 1 1]\n",
      " [1 1 1 1 1 1 1 1]\n",
      " [1 1 1 1 1 1 1 1]]\n",
      "expected matrix :\n",
      " [[1. 1. 1. 1. 1. 1. 1. 1.]\n",
      " [1. 1. 1. 1. 1. 1. 1. 1.]\n",
      " [1. 1. 1. 1. 1. 1. 1. 1.]\n",
      " [1. 1. 1. 1. 1. 1. 1. 1.]\n",
      " [1. 1. 1. 1. 1. 1. 1. 1.]\n",
      " [1. 1. 1. 1. 1. 1. 1. 1.]\n",
      " [1. 1. 1. 1. 1. 1. 1. 1.]\n",
      " [1. 1. 1. 1. 1. 1. 1. 1.]]\n",
      "distance to expected :  0.9217934425198816\n"
     ]
    }
   ],
   "source": [
    "covariance_matrix_inference(\n",
    "    ghz8_state_prep_node,\n",
    "    8,\n",
    "    ghz8_mat,\n",
    "    step_size=0.1,\n",
    "    num_steps=10,\n",
    "    verbose=False,\n",
    ")"
   ]
  },
  {
   "attachments": {},
   "cell_type": "markdown",
   "metadata": {},
   "source": [
    "# 8 qubit graph state"
   ]
  },
  {
   "cell_type": "code",
   "execution_count": 18,
   "metadata": {},
   "outputs": [],
   "source": [
    "# This expected matrix is not known with certainty, but agrees with results\n",
    "graph8_mat = qnp.array(\n",
    "    [\n",
    "        [1, 0, 0, 1, 0, 0, 0, 0],\n",
    "        [0, 1, 1, 0, 0, 0, 0, 0],\n",
    "        [0, 1, 1, 0, 0, 0, 0, 0],\n",
    "        [1, 0, 0, 1, 0, 0, 0, 0],\n",
    "        [0, 0, 0, 0, 1, 0, 0, 0],\n",
    "        [0, 0, 0, 0, 0, 1, 0, 0],\n",
    "        [0, 0, 0, 0, 0, 0, 1, 1],\n",
    "        [0, 0, 0, 0, 0, 0, 1, 1],\n",
    "    ]\n",
    ")\n",
    "\n",
    "graph8_state_prep_node = qnetvo.PrepareNode(\n",
    "    wires=[0, 1, 2, 3, 4, 5, 6, 7],\n",
    "    ansatz_fn=qnetvo.graph_state_fn([[0, 1], [1, 2], [0, 3], [6, 7]]),\n",
    ")"
   ]
  },
  {
   "cell_type": "code",
   "execution_count": 19,
   "metadata": {},
   "outputs": [
    {
     "name": "stdout",
     "output_type": "stream",
     "text": [
      "characteristic matrix :\n",
      " [[1.00000000e+00 2.66453526e-15 3.55271368e-15 7.87658324e-01\n",
      "  2.66453526e-15 3.99680289e-15 3.10862447e-15 1.55431223e-15]\n",
      " [2.66453526e-15 1.00000000e+00 4.21544863e-01 3.10862447e-15\n",
      "  2.66453526e-15 2.88657986e-15 2.66453526e-15 2.66453526e-15]\n",
      " [3.55271368e-15 4.21544863e-01 1.00000000e+00 2.88657986e-15\n",
      "  2.66453526e-15 3.10862447e-15 2.66453526e-15 3.10862447e-15]\n",
      " [7.87658324e-01 3.10862447e-15 2.88657986e-15 1.00000000e+00\n",
      "  2.66453526e-15 3.33066907e-15 2.88657986e-15 1.55431223e-15]\n",
      " [2.66453526e-15 2.66453526e-15 2.66453526e-15 2.66453526e-15\n",
      "  1.42757031e-05 3.99680289e-15 3.55271368e-15 8.88178420e-16]\n",
      " [3.99680289e-15 2.88657986e-15 3.10862447e-15 3.33066907e-15\n",
      "  3.99680289e-15 8.02966106e-05 2.66453526e-15 3.77475828e-15]\n",
      " [3.10862447e-15 2.66453526e-15 2.66453526e-15 2.88657986e-15\n",
      "  3.55271368e-15 2.66453526e-15 1.00000000e+00 6.02599659e-01]\n",
      " [1.55431223e-15 2.66453526e-15 3.10862447e-15 1.55431223e-15\n",
      "  8.88178420e-16 3.77475828e-15 6.02599659e-01 1.00000000e+00]]\n",
      "decision matrix :\n",
      " [[1 0 0 1 0 0 0 0]\n",
      " [0 1 1 0 0 0 0 0]\n",
      " [0 1 1 0 0 0 0 0]\n",
      " [1 0 0 1 0 0 0 0]\n",
      " [0 0 0 0 0 0 0 0]\n",
      " [0 0 0 0 0 0 0 0]\n",
      " [0 0 0 0 0 0 1 1]\n",
      " [0 0 0 0 0 0 1 1]]\n",
      "expected matrix :\n",
      " [[1 0 0 1 0 0 0 0]\n",
      " [0 1 1 0 0 0 0 0]\n",
      " [0 1 1 0 0 0 0 0]\n",
      " [1 0 0 1 0 0 0 0]\n",
      " [0 0 0 0 1 0 0 0]\n",
      " [0 0 0 0 0 1 0 0]\n",
      " [0 0 0 0 0 0 1 1]\n",
      " [0 0 0 0 0 0 1 1]]\n",
      "distance to expected :  1.7535859230508235\n"
     ]
    }
   ],
   "source": [
    "characteristic_matrix_inference(graph8_state_prep_node, graph8_mat, num_steps=60, step_size=0.02)"
   ]
  },
  {
   "cell_type": "code",
   "execution_count": 20,
   "metadata": {},
   "outputs": [
    {
     "name": "stdout",
     "output_type": "stream",
     "text": [
      "covariance matrix :\n",
      " [[ 1.00000000e+00 -8.32667268e-17 -2.46519033e-32 -9.63371307e-01\n",
      "  -2.67599372e-17  8.33048101e-17 -2.77555756e-17 -5.55111512e-17]\n",
      " [-8.32667268e-17  1.00000000e+00 -9.99997414e-01  2.77555756e-17\n",
      "  -1.40271336e-16 -5.55682762e-17  1.84889275e-32 -8.32667268e-17]\n",
      " [-2.46519033e-32 -9.99997414e-01  1.00000000e+00 -5.55111512e-17\n",
      "   2.97468524e-17  5.55873178e-17 -2.46519033e-32  2.77555756e-17]\n",
      " [-9.63371307e-01  2.77555756e-17 -5.55111512e-17  1.00000000e+00\n",
      "  -2.92490332e-17 -5.55682762e-17  5.55111512e-17 -2.77555756e-17]\n",
      " [-2.67599372e-17 -1.40271336e-16  2.97468524e-17 -2.92490332e-17\n",
      "   9.99919577e-01  1.48176556e-16 -2.67599372e-17 -1.49345759e-18]\n",
      " [ 8.33048101e-17 -5.55682762e-17  5.55873178e-17 -5.55682762e-17\n",
      "   1.48176556e-16  9.99999882e-01  5.55492345e-17 -5.55682762e-17]\n",
      " [-2.77555756e-17  1.84889275e-32 -2.46519033e-32  5.55111512e-17\n",
      "  -2.67599372e-17  5.55492345e-17  1.00000000e+00 -9.99999405e-01]\n",
      " [-5.55111512e-17 -8.32667268e-17  2.77555756e-17 -2.77555756e-17\n",
      "  -1.49345759e-18 -5.55682762e-17 -9.99999405e-01  1.00000000e+00]]\n",
      "decision matrix :\n",
      " [[1 0 0 1 0 0 0 0]\n",
      " [0 1 1 0 0 0 0 0]\n",
      " [0 1 1 0 0 0 0 0]\n",
      " [1 0 0 1 0 0 0 0]\n",
      " [0 0 0 0 1 0 0 0]\n",
      " [0 0 0 0 0 1 0 0]\n",
      " [0 0 0 0 0 0 1 1]\n",
      " [0 0 0 0 0 0 1 1]]\n",
      "expected matrix :\n",
      " [[1 0 0 1 0 0 0 0]\n",
      " [0 1 1 0 0 0 0 0]\n",
      " [0 1 1 0 0 0 0 0]\n",
      " [1 0 0 1 0 0 0 0]\n",
      " [0 0 0 0 1 0 0 0]\n",
      " [0 0 0 0 0 1 0 0]\n",
      " [0 0 0 0 0 0 1 1]\n",
      " [0 0 0 0 0 0 1 1]]\n",
      "distance to expected :  0.05180085652669114\n"
     ]
    }
   ],
   "source": [
    "covariance_matrix_inference(\n",
    "    graph8_state_prep_node,\n",
    "    8,\n",
    "    graph8_mat,\n",
    "    step_size=0.05,\n",
    "    num_steps=30,\n",
    "    verbose=False,\n",
    ")"
   ]
  },
  {
   "attachments": {},
   "cell_type": "markdown",
   "metadata": {},
   "source": [
    "## 8-Qubit Graph State with Frustrated CNOT arrangement"
   ]
  },
  {
   "cell_type": "code",
   "execution_count": 21,
   "metadata": {},
   "outputs": [],
   "source": [
    "graph8_cyclic_mat = qnp.array(\n",
    "    [\n",
    "        [1, 1, 1, 0, 0, 0, 0, 0],\n",
    "        [1, 1, 1, 0, 0, 0, 0, 0],\n",
    "        [1, 1, 1, 0, 0, 0, 0, 0],\n",
    "        [0, 0, 0, 1, 0, 0, 0, 0],\n",
    "        [0, 0, 0, 0, 1, 0, 0, 0],\n",
    "        [0, 0, 0, 0, 0, 1, 0, 0],\n",
    "        [0, 0, 0, 0, 0, 0, 1, 1],\n",
    "        [0, 0, 0, 0, 0, 0, 1, 1],\n",
    "    ]\n",
    ")\n",
    "\n",
    "graph8_cyclic_state_prep_node = qnetvo.PrepareNode(\n",
    "    wires=[0, 1, 2, 3, 4, 5, 6, 7],\n",
    "    ansatz_fn=qnetvo.graph_state_fn([[0, 1], [1, 2], [2, 0], [6, 7]]),\n",
    ")"
   ]
  },
  {
   "cell_type": "code",
   "execution_count": 22,
   "metadata": {},
   "outputs": [
    {
     "name": "stdout",
     "output_type": "stream",
     "text": [
      "characteristic matrix :\n",
      " [[1.00000000e+00 9.89314418e-01 2.08457690e-02 3.10862447e-15\n",
      "  1.77635684e-15 3.55271368e-15 4.44089210e-15 2.88657986e-15]\n",
      " [9.89314418e-01 1.00000000e+00 2.59852705e-03 3.55271368e-15\n",
      "  2.88657986e-15 2.44249065e-15 4.44089210e-15 4.44089210e-15]\n",
      " [2.08457690e-02 2.59852705e-03 1.00000000e+00 3.10862447e-15\n",
      "  3.77475828e-15 3.10862447e-15 2.88657986e-15 3.10862447e-15]\n",
      " [3.10862447e-15 3.55271368e-15 3.10862447e-15 6.60970837e-07\n",
      "  2.44249065e-15 2.88657986e-15 3.33066907e-15 1.11022302e-15]\n",
      " [1.77635684e-15 2.88657986e-15 3.77475828e-15 2.44249065e-15\n",
      "  9.31404262e-09 1.90125693e-15 2.22044605e-15 2.44249065e-15]\n",
      " [3.55271368e-15 2.44249065e-15 3.10862447e-15 2.88657986e-15\n",
      "  1.90125693e-15 9.57368532e-05 2.88657986e-15 2.44249065e-15]\n",
      " [4.44089210e-15 4.44089210e-15 2.88657986e-15 3.33066907e-15\n",
      "  2.22044605e-15 2.88657986e-15 1.00000000e+00 9.99999995e-01]\n",
      " [2.88657986e-15 4.44089210e-15 3.10862447e-15 1.11022302e-15\n",
      "  2.44249065e-15 2.44249065e-15 9.99999995e-01 1.00000000e+00]]\n",
      "decision matrix :\n",
      " [[1 1 0 0 0 0 0 0]\n",
      " [1 1 0 0 0 0 0 0]\n",
      " [0 0 1 0 0 0 0 0]\n",
      " [0 0 0 0 0 0 0 0]\n",
      " [0 0 0 0 0 0 0 0]\n",
      " [0 0 0 0 0 0 0 0]\n",
      " [0 0 0 0 0 0 1 1]\n",
      " [0 0 0 0 0 0 1 1]]\n",
      "expected matrix :\n",
      " [[1 1 1 0 0 0 0 0]\n",
      " [1 1 1 0 0 0 0 0]\n",
      " [1 1 1 0 0 0 0 0]\n",
      " [0 0 0 1 0 0 0 0]\n",
      " [0 0 0 0 1 0 0 0]\n",
      " [0 0 0 0 0 1 0 0]\n",
      " [0 0 0 0 0 0 1 1]\n",
      " [0 0 0 0 0 0 1 1]]\n",
      "distance to expected :  2.6281440163949914\n"
     ]
    }
   ],
   "source": [
    "characteristic_matrix_inference(\n",
    "    graph8_cyclic_state_prep_node, graph8_cyclic_mat, num_steps=60, step_size=0.02\n",
    ")"
   ]
  },
  {
   "cell_type": "code",
   "execution_count": 23,
   "metadata": {},
   "outputs": [
    {
     "name": "stdout",
     "output_type": "stream",
     "text": [
      "covariance matrix :\n",
      " [[ 1.00000000e+00  9.99999999e-01  9.99999998e-01  2.77458591e-17\n",
      "  -2.77618030e-17 -1.39065887e-16 -3.08148791e-33 -2.77555756e-17]\n",
      " [ 9.99999999e-01  1.00000000e+00  9.99999998e-01  8.32667268e-17\n",
      "   2.77555756e-17 -1.66533454e-16  0.00000000e+00 -2.77555756e-17]\n",
      " [ 9.99999998e-01  9.99999998e-01  1.00000000e+00  2.77652921e-17\n",
      "  -2.77493482e-17 -1.94001021e-16  3.08148791e-33 -2.77555756e-17]\n",
      " [ 2.77458591e-17  8.32667268e-17  2.77652921e-17  9.99999969e-01\n",
      "  -2.05073261e-17 -1.43254447e-19 -5.55208678e-17  2.77750087e-17]\n",
      " [-2.77618030e-17  2.77555756e-17 -2.77493482e-17 -2.05073261e-17\n",
      "   9.99999987e-01  5.55391033e-17  5.55049239e-17 -1.11009848e-16]\n",
      " [-1.39065887e-16 -1.66533454e-16 -1.94001021e-16 -1.43254447e-19\n",
      "   5.55391033e-17  9.99973082e-01 -8.35547356e-17  1.39353896e-16]\n",
      " [-3.08148791e-33  0.00000000e+00  3.08148791e-33 -5.55208678e-17\n",
      "   5.55049239e-17 -8.35547356e-17  1.00000000e+00 -9.99999241e-01]\n",
      " [-2.77555756e-17 -2.77555756e-17 -2.77555756e-17  2.77750087e-17\n",
      "  -1.11009848e-16  1.39353896e-16 -9.99999241e-01  1.00000000e+00]]\n",
      "decision matrix :\n",
      " [[1 1 1 0 0 0 0 0]\n",
      " [1 1 1 0 0 0 0 0]\n",
      " [1 1 1 0 0 0 0 0]\n",
      " [0 0 0 1 0 0 0 0]\n",
      " [0 0 0 0 1 0 0 0]\n",
      " [0 0 0 0 0 1 0 0]\n",
      " [0 0 0 0 0 0 1 1]\n",
      " [0 0 0 0 0 0 1 1]]\n",
      "expected matrix :\n",
      " [[1 1 1 0 0 0 0 0]\n",
      " [1 1 1 0 0 0 0 0]\n",
      " [1 1 1 0 0 0 0 0]\n",
      " [0 0 0 1 0 0 0 0]\n",
      " [0 0 0 0 1 0 0 0]\n",
      " [0 0 0 0 0 1 0 0]\n",
      " [0 0 0 0 0 0 1 1]\n",
      " [0 0 0 0 0 0 1 1]]\n",
      "distance to expected :  2.6939914555782143e-05\n"
     ]
    }
   ],
   "source": [
    "covariance_matrix_inference(\n",
    "    graph8_cyclic_state_prep_node,\n",
    "    8,\n",
    "    graph8_cyclic_mat,\n",
    "    step_size=0.05,\n",
    "    num_steps=30,\n",
    "    verbose=False,\n",
    ")"
   ]
  },
  {
   "attachments": {},
   "cell_type": "markdown",
   "metadata": {},
   "source": [
    "## 12-Qubit Graph State"
   ]
  },
  {
   "cell_type": "code",
   "execution_count": 24,
   "metadata": {},
   "outputs": [],
   "source": [
    "graph12_mat = qnp.array(\n",
    "    [\n",
    "        [1, 1, 1, 0, 0, 0, 0, 0, 0, 0, 0, 0],\n",
    "        [1, 1, 1, 0, 0, 0, 0, 0, 0, 0, 0, 0],\n",
    "        [1, 1, 1, 0, 0, 0, 0, 0, 0, 0, 0, 0],\n",
    "        [0, 0, 0, 1, 0, 0, 0, 0, 0, 0, 0, 0],\n",
    "        [0, 0, 0, 0, 1, 1, 0, 0, 0, 1, 0, 0],\n",
    "        [0, 0, 0, 0, 1, 1, 0, 0, 0, 1, 0, 0],\n",
    "        [0, 0, 0, 0, 0, 0, 1, 1, 0, 0, 0, 0],\n",
    "        [0, 0, 0, 0, 0, 0, 1, 1, 0, 0, 0, 0],\n",
    "        [0, 0, 0, 0, 0, 0, 0, 0, 1, 0, 0, 0],\n",
    "        [0, 0, 0, 0, 1, 1, 0, 0, 0, 1, 0, 0],\n",
    "        [0, 0, 0, 0, 0, 0, 0, 0, 0, 0, 1, 1],\n",
    "        [0, 0, 0, 0, 0, 0, 0, 0, 0, 0, 1, 1],\n",
    "    ]\n",
    ")\n",
    "graph12_state_prep_node = qnetvo.PrepareNode(\n",
    "    wires=[0, 1, 2, 3, 4, 5, 6, 7, 8, 9, 10, 11],\n",
    "    ansatz_fn=qnetvo.graph_state_fn([[0, 1], [1, 2], [6, 7], [4, 5], [4, 9], [4, 11], [11, 10]]),\n",
    ")"
   ]
  },
  {
   "cell_type": "code",
   "execution_count": 25,
   "metadata": {},
   "outputs": [
    {
     "name": "stdout",
     "output_type": "stream",
     "text": [
      "characteristic matrix :\n",
      " [[ 1.00000000e+00  1.03688023e-03  5.19980043e-01  3.77475828e-15\n",
      "   3.99680289e-15  4.44089210e-15  4.44089210e-15  4.44089210e-15\n",
      "   3.55271368e-15  2.88657986e-15  1.33226763e-15  2.22044605e-16]\n",
      " [ 1.03688023e-03  1.00000000e+00  3.72356509e-01  4.44089210e-15\n",
      "   4.21884749e-15  3.10862447e-15  3.33066907e-15  4.44089210e-15\n",
      "   4.44089210e-15  7.54951657e-15  6.21724894e-15 -3.77475828e-15]\n",
      " [ 5.19980043e-01  3.72356509e-01  1.00000000e+00  3.77475828e-15\n",
      "   2.88657986e-15  5.77315973e-15  2.44249065e-15  2.88657986e-15\n",
      "   4.21884749e-15  1.33226763e-15  1.33226763e-15  2.22044605e-16]\n",
      " [ 3.77475828e-15  4.44089210e-15  3.77475828e-15  5.58374350e-03\n",
      "   4.21884749e-15  3.55271368e-15  4.21884749e-15  4.21884749e-15\n",
      "   2.22044605e-15  8.43769499e-15  6.66133815e-16  1.59872116e-14]\n",
      " [ 3.99680289e-15  4.21884749e-15  2.88657986e-15  4.21884749e-15\n",
      "   1.00000000e+00  2.75514555e-03  4.88498131e-15  4.44089210e-15\n",
      "   7.10542736e-15  1.04659354e-02  5.77315973e-15  3.77475828e-15]\n",
      " [ 4.44089210e-15  3.10862447e-15  5.77315973e-15  3.55271368e-15\n",
      "   2.75514555e-03  1.00000000e+00  4.44089210e-15  1.99840144e-15\n",
      "   5.55111512e-15  1.26438724e-02  1.55431223e-15  5.77315973e-15]\n",
      " [ 4.44089210e-15  3.33066907e-15  2.44249065e-15  4.21884749e-15\n",
      "   4.88498131e-15  4.44089210e-15  1.00000000e+00  9.99999995e-01\n",
      "   1.99840144e-15  7.10542736e-15  8.88178420e-16  0.00000000e+00]\n",
      " [ 4.44089210e-15  4.44089210e-15  2.88657986e-15  4.21884749e-15\n",
      "   4.44089210e-15  1.99840144e-15  9.99999995e-01  1.00000000e+00\n",
      "   3.55271368e-15  6.66133815e-16  8.88178420e-16  2.22044605e-16]\n",
      " [ 3.55271368e-15  4.44089210e-15  4.21884749e-15  2.22044605e-15\n",
      "   7.10542736e-15  5.55111512e-15  1.99840144e-15  3.55271368e-15\n",
      "   7.47574415e-09  1.55431223e-15  1.62092562e-14  3.15303339e-14]\n",
      " [ 2.88657986e-15  7.54951657e-15  1.33226763e-15  8.43769499e-15\n",
      "   1.04659354e-02  1.26438724e-02  7.10542736e-15  6.66133815e-16\n",
      "   1.55431223e-15  1.00000000e+00  6.66133815e-16  5.77315973e-15]\n",
      " [ 1.33226763e-15  6.21724894e-15  1.33226763e-15  6.66133815e-16\n",
      "   5.77315973e-15  1.55431223e-15  8.88178420e-16  8.88178420e-16\n",
      "   1.62092562e-14  6.66133815e-16  1.00000000e+00  6.21052108e-01]\n",
      " [ 2.22044605e-16 -3.77475828e-15  2.22044605e-16  1.59872116e-14\n",
      "   3.77475828e-15  5.77315973e-15  0.00000000e+00  2.22044605e-16\n",
      "   3.15303339e-14  5.77315973e-15  6.21052108e-01  1.00000000e+00]]\n",
      "decision matrix :\n",
      " [[1 0 1 0 0 0 0 0 0 0 0 0]\n",
      " [0 1 1 0 0 0 0 0 0 0 0 0]\n",
      " [1 1 1 0 0 0 0 0 0 0 0 0]\n",
      " [0 0 0 0 0 0 0 0 0 0 0 0]\n",
      " [0 0 0 0 1 0 0 0 0 0 0 0]\n",
      " [0 0 0 0 0 1 0 0 0 0 0 0]\n",
      " [0 0 0 0 0 0 1 1 0 0 0 0]\n",
      " [0 0 0 0 0 0 1 1 0 0 0 0]\n",
      " [0 0 0 0 0 0 0 0 0 0 0 0]\n",
      " [0 0 0 0 0 0 0 0 0 1 0 0]\n",
      " [0 0 0 0 0 0 0 0 0 0 1 1]\n",
      " [0 0 0 0 0 0 0 0 0 0 1 1]]\n",
      "expected matrix :\n",
      " [[1 1 1 0 0 0 0 0 0 0 0 0]\n",
      " [1 1 1 0 0 0 0 0 0 0 0 0]\n",
      " [1 1 1 0 0 0 0 0 0 0 0 0]\n",
      " [0 0 0 1 0 0 0 0 0 0 0 0]\n",
      " [0 0 0 0 1 1 0 0 0 1 0 0]\n",
      " [0 0 0 0 1 1 0 0 0 1 0 0]\n",
      " [0 0 0 0 0 0 1 1 0 0 0 0]\n",
      " [0 0 0 0 0 0 1 1 0 0 0 0]\n",
      " [0 0 0 0 0 0 0 0 1 0 0 0]\n",
      " [0 0 0 0 1 1 0 0 0 1 0 0]\n",
      " [0 0 0 0 0 0 0 0 0 0 1 1]\n",
      " [0 0 0 0 0 0 0 0 0 0 1 1]]\n",
      "distance to expected :  3.379012653236412\n"
     ]
    }
   ],
   "source": [
    "characteristic_matrix_inference(graph12_state_prep_node, graph12_mat, num_steps=60, step_size=0.02)"
   ]
  },
  {
   "cell_type": "code",
   "execution_count": 26,
   "metadata": {},
   "outputs": [
    {
     "name": "stdout",
     "output_type": "stream",
     "text": [
      "covariance matrix :\n",
      " [[ 1.00000000e+00 -9.99997992e-01  9.99902348e-01 -2.76980114e-17\n",
      "  -2.77555756e-16  2.22044605e-16  2.77555756e-17 -8.32667268e-17\n",
      "   4.17070853e-16  1.66533454e-16  2.77555756e-17 -1.11022302e-16]\n",
      " [-9.99997992e-01  1.00000000e+00 -9.99902702e-01  2.76980114e-17\n",
      "   2.49800181e-16 -2.49800181e-16 -5.55111512e-17  8.32667268e-17\n",
      "  -4.17070853e-16 -1.38777878e-16  2.77555756e-17  8.32667268e-17]\n",
      " [ 9.99902348e-01 -9.99902702e-01  1.00000000e+00  1.11137431e-16\n",
      "  -2.77555756e-16  2.49800181e-16  2.77555756e-17 -5.55111512e-17\n",
      "  -1.09547864e-16  1.66533454e-16  8.32667268e-17 -1.38777878e-16]\n",
      " [-2.76980114e-17  2.76980114e-17  1.11137431e-16  9.99998925e-01\n",
      "   2.22044605e-16 -1.94289029e-16 -2.76404473e-17  2.77555756e-17\n",
      "  -7.06222190e-17 -5.55687154e-17  1.94404158e-16 -1.66418325e-16]\n",
      " [-2.77555756e-16  2.49800181e-16 -2.77555756e-16  2.22044605e-16\n",
      "   1.00000000e+00 -9.99999966e-01 -8.32667268e-17  1.38777878e-16\n",
      "   5.55111512e-17 -9.99999928e-01  5.55111512e-17  3.33066907e-16]\n",
      " [ 2.22044605e-16 -2.49800181e-16  2.49800181e-16 -1.94289029e-16\n",
      "  -9.99999966e-01  1.00000000e+00  8.32667268e-17 -5.55111512e-17\n",
      "  -5.55111512e-17  9.99999905e-01 -1.11022302e-16 -1.66533454e-16]\n",
      " [ 2.77555756e-17 -5.55111512e-17  2.77555756e-17 -2.76404473e-17\n",
      "  -8.32667268e-17  8.32667268e-17  1.00000000e+00 -9.99974387e-01\n",
      "  -1.09547864e-16  8.32667268e-17  5.55111512e-17 -1.23259516e-32]\n",
      " [-8.32667268e-17  8.32667268e-17 -5.55111512e-17  2.77555756e-17\n",
      "   1.38777878e-16 -5.55111512e-17 -9.99974387e-01  1.00000000e+00\n",
      "   8.32667268e-17 -1.38777878e-16  0.00000000e+00 -2.77555756e-17]\n",
      " [ 4.17070853e-16 -4.17070853e-16 -1.09547864e-16 -7.06222190e-17\n",
      "   5.55111512e-17 -5.55111512e-17 -1.09547864e-16  8.32667268e-17\n",
      "   9.99823627e-01  1.38040659e-16 -8.17922886e-17  5.69855895e-17]\n",
      " [ 1.66533454e-16 -1.38777878e-16  1.66533454e-16 -5.55687154e-17\n",
      "  -9.99999928e-01  9.99999905e-01  8.32667268e-17 -1.38777878e-16\n",
      "   1.38040659e-16  1.00000000e+00  3.33066907e-16 -1.66533454e-16]\n",
      " [ 2.77555756e-17  2.77555756e-17  8.32667268e-17  1.94404158e-16\n",
      "   5.55111512e-17 -1.11022302e-16  5.55111512e-17  0.00000000e+00\n",
      "  -8.17922886e-17  3.33066907e-16  1.00000000e+00 -2.71518764e-01]\n",
      " [-1.11022302e-16  8.32667268e-17 -1.38777878e-16 -1.66418325e-16\n",
      "   3.33066907e-16 -1.66533454e-16 -1.23259516e-32 -2.77555756e-17\n",
      "   5.69855895e-17 -1.66533454e-16 -2.71518764e-01  1.00000000e+00]]\n",
      "decision matrix :\n",
      " [[1 1 1 0 0 0 0 0 0 0 0 0]\n",
      " [1 1 1 0 0 0 0 0 0 0 0 0]\n",
      " [1 1 1 0 0 0 0 0 0 0 0 0]\n",
      " [0 0 0 1 0 0 0 0 0 0 0 0]\n",
      " [0 0 0 0 1 1 0 0 0 1 0 0]\n",
      " [0 0 0 0 1 1 0 0 0 1 0 0]\n",
      " [0 0 0 0 0 0 1 1 0 0 0 0]\n",
      " [0 0 0 0 0 0 1 1 0 0 0 0]\n",
      " [0 0 0 0 0 0 0 0 1 0 0 0]\n",
      " [0 0 0 0 1 1 0 0 0 1 0 0]\n",
      " [0 0 0 0 0 0 0 0 0 0 1 1]\n",
      " [0 0 0 0 0 0 0 0 0 0 1 1]]\n",
      "expected matrix :\n",
      " [[1 1 1 0 0 0 0 0 0 0 0 0]\n",
      " [1 1 1 0 0 0 0 0 0 0 0 0]\n",
      " [1 1 1 0 0 0 0 0 0 0 0 0]\n",
      " [0 0 0 1 0 0 0 0 0 0 0 0]\n",
      " [0 0 0 0 1 1 0 0 0 1 0 0]\n",
      " [0 0 0 0 1 1 0 0 0 1 0 0]\n",
      " [0 0 0 0 0 0 1 1 0 0 0 0]\n",
      " [0 0 0 0 0 0 1 1 0 0 0 0]\n",
      " [0 0 0 0 0 0 0 0 1 0 0 0]\n",
      " [0 0 0 0 1 1 0 0 0 1 0 0]\n",
      " [0 0 0 0 0 0 0 0 0 0 1 1]\n",
      " [0 0 0 0 0 0 0 0 0 0 1 1]]\n",
      "distance to expected :  1.0302280779152404\n"
     ]
    }
   ],
   "source": [
    "covariance_matrix_inference(\n",
    "    graph12_state_prep_node,\n",
    "    12,\n",
    "    graph12_mat,\n",
    "    num_steps=20,\n",
    "    step_size=0.05,\n",
    "    verbose=False,\n",
    ")"
   ]
  },
  {
   "attachments": {},
   "cell_type": "markdown",
   "metadata": {},
   "source": [
    "## A bunch of different entangled states"
   ]
  },
  {
   "cell_type": "code",
   "execution_count": 27,
   "metadata": {},
   "outputs": [],
   "source": [
    "multi_ent_mat_full = qnp.zeros((8, 8))\n",
    "multi_ent_mat = qnp.array(\n",
    "    [\n",
    "        [1, 1, 0, 0, 0, 0, 0],\n",
    "        [1, 1, 0, 0, 0, 0, 0],\n",
    "        [0, 0, 1, 1, 0, 0, 0],\n",
    "        [0, 0, 1, 1, 0, 0, 0],\n",
    "        [0, 0, 0, 0, 1, 1, 1],\n",
    "        [0, 0, 0, 0, 1, 1, 1],\n",
    "        [0, 0, 0, 0, 1, 1, 1],\n",
    "    ]\n",
    ")\n",
    "\n",
    "\n",
    "def fn(settings, wires):\n",
    "    qnetvo.shared_coin_flip_state([qnp.pi / 3], wires=[wires[0], wires[1], wires[7]])\n",
    "    qnetvo.ghz_state([], wires=wires[2:4])\n",
    "    qnetvo.W_state([], wires=wires[4:7])\n",
    "\n",
    "\n",
    "multi_ent_prep_node = qnetvo.PrepareNode(\n",
    "    wires=[0, 1, 2, 3, 4, 5, 6, 7],\n",
    "    ansatz_fn=fn,\n",
    ")"
   ]
  },
  {
   "cell_type": "markdown",
   "metadata": {},
   "source": []
  },
  {
   "cell_type": "code",
   "execution_count": 28,
   "metadata": {},
   "outputs": [
    {
     "name": "stdout",
     "output_type": "stream",
     "text": [
      "characteristic matrix :\n",
      " [[9.84364138e-01 6.62297934e-04 2.22044605e-15 1.77635684e-15\n",
      "  1.55431223e-15 1.33226763e-15 8.88178420e-16 7.87931532e-01]\n",
      " [6.62297934e-04 8.25519491e-01 6.66133815e-16 1.99840144e-15\n",
      "  1.33226763e-15 1.99840144e-15 1.55431223e-15 1.34583775e-01]\n",
      " [2.22044605e-15 6.66133815e-16 1.00000000e+00 9.99999994e-01\n",
      "  1.99840144e-15 1.77635684e-15 2.22044605e-15 2.44249065e-15]\n",
      " [1.77635684e-15 1.99840144e-15 9.99999994e-01 1.00000000e+00\n",
      "  1.55431223e-15 1.77635684e-15 1.99840144e-15 8.88178420e-16]\n",
      " [1.55431223e-15 1.33226763e-15 1.99840144e-15 1.55431223e-15\n",
      "  9.47078313e-01 3.47499237e-01 3.49796881e-01 1.33226763e-15]\n",
      " [1.33226763e-15 1.99840144e-15 1.77635684e-15 1.77635684e-15\n",
      "  3.47499237e-01 9.49612526e-01 3.26599830e-01 1.55431223e-15]\n",
      " [8.88178420e-16 1.55431223e-15 2.22044605e-15 1.99840144e-15\n",
      "  3.49796881e-01 3.26599830e-01 9.23548542e-01 1.99840144e-15]\n",
      " [7.87931532e-01 1.34583775e-01 2.44249065e-15 8.88178420e-16\n",
      "  1.33226763e-15 1.55431223e-15 1.99840144e-15 9.98985607e-01]]\n",
      "decision matrix :\n",
      " [[1 0 0 0 0 0 0 1]\n",
      " [0 1 0 0 0 0 0 1]\n",
      " [0 0 1 1 0 0 0 0]\n",
      " [0 0 1 1 0 0 0 0]\n",
      " [0 0 0 0 1 1 1 0]\n",
      " [0 0 0 0 1 1 1 0]\n",
      " [0 0 0 0 1 1 1 0]\n",
      " [1 1 0 0 0 0 0 1]]\n",
      "expected matrix :\n",
      " [[0. 0. 0. 0. 0. 0. 0. 0.]\n",
      " [0. 0. 0. 0. 0. 0. 0. 0.]\n",
      " [0. 0. 0. 0. 0. 0. 0. 0.]\n",
      " [0. 0. 0. 0. 0. 0. 0. 0.]\n",
      " [0. 0. 0. 0. 0. 0. 0. 0.]\n",
      " [0. 0. 0. 0. 0. 0. 0. 0.]\n",
      " [0. 0. 0. 0. 0. 0. 0. 0.]\n",
      " [0. 0. 0. 0. 0. 0. 0. 0.]]\n",
      "distance to expected :  3.3582065612549936\n"
     ]
    }
   ],
   "source": [
    "characteristic_matrix_inference(\n",
    "    multi_ent_prep_node, multi_ent_mat_full, num_steps=50, step_size=0.1\n",
    ")"
   ]
  },
  {
   "cell_type": "code",
   "execution_count": 29,
   "metadata": {},
   "outputs": [
    {
     "name": "stdout",
     "output_type": "stream",
     "text": [
      "covariance matrix :\n",
      " [[ 8.87899182e-01  3.78280336e-01  6.46807828e-17  2.77555756e-17\n",
      "  -3.25260652e-17 -1.22298005e-16 -5.72458747e-17]\n",
      " [ 3.78280336e-01  8.58167342e-01 -2.09058753e-17 -2.77555756e-17\n",
      "  -1.62196645e-16 -2.12503626e-17 -2.11636264e-16]\n",
      " [ 6.46807828e-17 -2.09058753e-17  1.00000000e+00  9.99996938e-01\n",
      "  -1.52721659e-19  5.50655718e-17  2.69218382e-17]\n",
      " [ 2.77555756e-17 -2.77555756e-17  9.99996938e-01  1.00000000e+00\n",
      "   0.00000000e+00  5.55111512e-17  2.77555756e-17]\n",
      " [-3.25260652e-17 -1.62196645e-16 -1.52721659e-19  0.00000000e+00\n",
      "   9.99992431e-01  6.66274752e-01  6.65659853e-01]\n",
      " [-1.22298005e-16 -2.12503626e-17  5.50655718e-17  5.55111512e-17\n",
      "   6.66274752e-01  9.99935570e-01  6.65307720e-01]\n",
      " [-5.72458747e-17 -2.11636264e-16  2.69218382e-17  2.77555756e-17\n",
      "   6.65659853e-01  6.65307720e-01  9.99774421e-01]]\n",
      "decision matrix :\n",
      " [[1 1 0 0 0 0 0]\n",
      " [1 1 0 0 0 0 0]\n",
      " [0 0 1 1 0 0 0]\n",
      " [0 0 1 1 0 0 0]\n",
      " [0 0 0 0 1 1 1]\n",
      " [0 0 0 0 1 1 1]\n",
      " [0 0 0 0 1 1 1]]\n",
      "expected matrix :\n",
      " [[1 1 0 0 0 0 0]\n",
      " [1 1 0 0 0 0 0]\n",
      " [0 0 1 1 0 0 0]\n",
      " [0 0 1 1 0 0 0]\n",
      " [0 0 0 0 1 1 1]\n",
      " [0 0 0 0 1 1 1]\n",
      " [0 0 0 0 1 1 1]]\n",
      "distance to expected :  1.2149499689452299\n"
     ]
    }
   ],
   "source": [
    "covariance_matrix_inference(\n",
    "    multi_ent_prep_node,\n",
    "    7,\n",
    "    multi_ent_mat,\n",
    "    meas_wires=[0, 1, 2, 3, 4, 5, 6],\n",
    "    num_steps=20,\n",
    "    step_size=0.05,\n",
    "    verbose=False,\n",
    ")"
   ]
  },
  {
   "attachments": {},
   "cell_type": "markdown",
   "metadata": {},
   "source": [
    "## Finite Shot Examples"
   ]
  },
  {
   "cell_type": "code",
   "execution_count": 3,
   "metadata": {},
   "outputs": [],
   "source": [
    "graph5_mat = qnp.array(\n",
    "    [\n",
    "        [1, 1, 1, 0, 0],\n",
    "        [1, 1, 1, 0, 0],\n",
    "        [1, 1, 1, 0, 0],\n",
    "        [0, 0, 0, 1, 1],\n",
    "        [0, 0, 0, 1, 1],\n",
    "    ]\n",
    ")\n",
    "\n",
    "qnode_kwargs = {\n",
    "    \"diff_method\": \"parameter-shift\",\n",
    "}\n",
    "\n",
    "graph5_state_prep_node = qnetvo.PrepareNode(\n",
    "    wires=[0, 1, 2, 3, 4],\n",
    "    ansatz_fn=qnetvo.graph_state_fn([[0, 1], [1, 2], [2, 0], [3, 4]]),\n",
    ")"
   ]
  },
  {
   "attachments": {},
   "cell_type": "markdown",
   "metadata": {},
   "source": [
    "## 1000 Shots"
   ]
  },
  {
   "cell_type": "code",
   "execution_count": 4,
   "metadata": {},
   "outputs": [
    {
     "name": "stdout",
     "output_type": "stream",
     "text": [
      "characteristic matrix :\n",
      " [[0.99604629 0.00443187 0.99833738 0.00464129 0.003807  ]\n",
      " [0.00443187 0.99490417 0.00462623 0.00256056 0.00810105]\n",
      " [0.99833738 0.00462623 0.99560686 0.00436574 0.00524864]\n",
      " [0.00464129 0.00256056 0.00436574 0.99490417 0.67619065]\n",
      " [0.003807   0.00810105 0.00524864 0.67619065 0.99685552]]\n",
      "decision matrix :\n",
      " [[1 0 1 0 0]\n",
      " [0 1 0 0 0]\n",
      " [1 0 1 0 0]\n",
      " [0 0 0 1 1]\n",
      " [0 0 0 1 1]]\n",
      "expected matrix :\n",
      " [[1 1 1 0 0]\n",
      " [1 1 1 0 0]\n",
      " [1 1 1 0 0]\n",
      " [0 0 0 1 1]\n",
      " [0 0 0 1 1]]\n",
      "distance to expected :  2.0430287835643504\n"
     ]
    }
   ],
   "source": [
    "characteristic_matrix_inference(\n",
    "    graph5_state_prep_node,\n",
    "    graph5_mat,\n",
    "    num_steps=60,\n",
    "    step_size=0.02,\n",
    "    shots=1000,\n",
    "    qnode_kwargs=qnode_kwargs,\n",
    ")"
   ]
  },
  {
   "cell_type": "code",
   "execution_count": 5,
   "metadata": {},
   "outputs": [
    {
     "name": "stdout",
     "output_type": "stream",
     "text": [
      "covariance matrix :\n",
      " [[ 9.98704e-01  9.88632e-01  9.94848e-01  1.44000e-03 -1.44000e-03]\n",
      " [ 9.88632e-01  9.98556e-01  9.88784e-01 -4.80000e-04  4.80000e-04]\n",
      " [ 9.94848e-01  9.88784e-01  9.98976e-01  1.28000e-03 -1.28000e-03]\n",
      " [ 1.44000e-03 -4.80000e-04  1.28000e-03  9.98400e-01 -9.98400e-01]\n",
      " [-1.44000e-03  4.80000e-04 -1.28000e-03 -9.98400e-01  9.98400e-01]]\n",
      "decision matrix :\n",
      " [[1 1 1 0 0]\n",
      " [1 1 1 0 0]\n",
      " [1 1 1 0 0]\n",
      " [0 0 0 1 1]\n",
      " [0 0 0 1 1]]\n",
      "expected matrix :\n",
      " [[1 1 1 0 0]\n",
      " [1 1 1 0 0]\n",
      " [1 1 1 0 0]\n",
      " [0 0 0 1 1]\n",
      " [0 0 0 1 1]]\n",
      "distance to expected :  0.024371485305577978\n"
     ]
    }
   ],
   "source": [
    "covariance_matrix_inference(\n",
    "    graph5_state_prep_node,\n",
    "    5,\n",
    "    graph5_mat,\n",
    "    step_size=0.2,\n",
    "    num_steps=6,\n",
    "    shots=1000,\n",
    "    qnode_kwargs=qnode_kwargs,\n",
    ")"
   ]
  },
  {
   "attachments": {},
   "cell_type": "markdown",
   "metadata": {},
   "source": [
    "## 500 Shots"
   ]
  },
  {
   "cell_type": "code",
   "execution_count": 6,
   "metadata": {},
   "outputs": [
    {
     "name": "stdout",
     "output_type": "stream",
     "text": [
      "characteristic matrix :\n",
      " [[0.99334181 0.00831194 0.99989612 0.00664245 0.00833094]\n",
      " [0.00831194 0.98958752 0.01929609 0.00911956 0.01120093]\n",
      " [0.99989612 0.01929609 0.99334181 0.00685853 0.00624924]\n",
      " [0.00664245 0.00911956 0.00685853 0.99156977 1.        ]\n",
      " [0.00833094 0.01120093 0.00624924 1.         0.99218378]]\n",
      "decision matrix :\n",
      " [[1 0 1 0 0]\n",
      " [0 1 0 0 0]\n",
      " [1 0 1 0 0]\n",
      " [0 0 0 1 1]\n",
      " [0 0 0 1 1]]\n",
      "expected matrix :\n",
      " [[1 1 1 0 0]\n",
      " [1 1 1 0 0]\n",
      " [1 1 1 0 0]\n",
      " [0 0 0 1 1]\n",
      " [0 0 0 1 1]]\n",
      "distance to expected :  1.9727129747696193\n"
     ]
    }
   ],
   "source": [
    "characteristic_matrix_inference(\n",
    "    graph5_state_prep_node,\n",
    "    graph5_mat,\n",
    "    num_steps=40,\n",
    "    step_size=0.1,\n",
    "    shots=500,\n",
    "    qnode_kwargs=qnode_kwargs,\n",
    ")"
   ]
  },
  {
   "cell_type": "code",
   "execution_count": 7,
   "metadata": {},
   "outputs": [
    {
     "name": "stdout",
     "output_type": "stream",
     "text": [
      "covariance matrix :\n",
      " [[ 0.998976  0.986848  0.979104  0.035872 -0.035872]\n",
      " [ 0.986848  0.998704  0.990992  0.031856 -0.031856]\n",
      " [ 0.979104  0.990992  0.999216  0.023888 -0.023888]\n",
      " [ 0.035872  0.031856  0.023888  0.999984 -0.999984]\n",
      " [-0.035872 -0.031856 -0.023888 -0.999984  0.999984]]\n",
      "decision matrix :\n",
      " [[1 1 1 0 0]\n",
      " [1 1 1 0 0]\n",
      " [1 1 1 0 0]\n",
      " [0 0 0 1 1]\n",
      " [0 0 0 1 1]]\n",
      "expected matrix :\n",
      " [[1 1 1 0 0]\n",
      " [1 1 1 0 0]\n",
      " [1 1 1 0 0]\n",
      " [0 0 0 1 1]\n",
      " [0 0 0 1 1]]\n",
      "distance to expected :  0.11346292123861436\n"
     ]
    }
   ],
   "source": [
    "covariance_matrix_inference(\n",
    "    graph5_state_prep_node,\n",
    "    5,\n",
    "    graph5_mat,\n",
    "    step_size=0.2,\n",
    "    num_steps=10,\n",
    "    shots=500,\n",
    "    qnode_kwargs=qnode_kwargs,\n",
    ")"
   ]
  },
  {
   "attachments": {},
   "cell_type": "markdown",
   "metadata": {},
   "source": [
    "## 100 Shots"
   ]
  },
  {
   "cell_type": "code",
   "execution_count": 8,
   "metadata": {},
   "outputs": [
    {
     "name": "stdout",
     "output_type": "stream",
     "text": [
      "characteristic matrix :\n",
      " [[0.97095059 0.80448638 0.03036928 0.01962822 0.05983848]\n",
      " [0.80448638 0.95804202 0.09677215 0.02398292 0.04986686]\n",
      " [0.03036928 0.09677215 0.97095059 0.04350992 0.04181393]\n",
      " [0.01962822 0.02398292 0.04350992 0.95067209 1.        ]\n",
      " [0.05983848 0.04986686 0.04181393 1.         0.95067209]]\n",
      "decision matrix :\n",
      " [[1 1 0 0 0]\n",
      " [1 1 0 0 0]\n",
      " [0 0 1 0 0]\n",
      " [0 0 0 1 1]\n",
      " [0 0 0 1 1]]\n",
      "expected matrix :\n",
      " [[1 1 1 0 0]\n",
      " [1 1 1 0 0]\n",
      " [1 1 1 0 0]\n",
      " [0 0 0 1 1]\n",
      " [0 0 0 1 1]]\n",
      "distance to expected :  1.9021338163046722\n"
     ]
    }
   ],
   "source": [
    "characteristic_matrix_inference(\n",
    "    graph5_state_prep_node,\n",
    "    graph5_mat,\n",
    "    num_steps=40,\n",
    "    step_size=0.1,\n",
    "    shots=100,\n",
    "    qnode_kwargs=qnode_kwargs,\n",
    ")"
   ]
  },
  {
   "cell_type": "code",
   "execution_count": 10,
   "metadata": {},
   "outputs": [
    {
     "name": "stdout",
     "output_type": "stream",
     "text": [
      "covariance matrix :\n",
      " [[1.     0.98   0.98   0.14   0.14  ]\n",
      " [0.98   0.9996 0.9996 0.1212 0.1212]\n",
      " [0.98   0.9996 0.9996 0.1212 0.1212]\n",
      " [0.14   0.1212 0.1212 0.9964 0.9964]\n",
      " [0.14   0.1212 0.1212 0.9964 0.9964]]\n",
      "decision matrix :\n",
      " [[1 1 1 0 0]\n",
      " [1 1 1 0 0]\n",
      " [1 1 1 0 0]\n",
      " [0 0 0 1 1]\n",
      " [0 0 0 1 1]]\n",
      "expected matrix :\n",
      " [[1 1 1 0 0]\n",
      " [1 1 1 0 0]\n",
      " [1 1 1 0 0]\n",
      " [0 0 0 1 1]\n",
      " [0 0 0 1 1]]\n",
      "distance to expected :  0.44448622025885115\n"
     ]
    }
   ],
   "source": [
    "covariance_matrix_inference(\n",
    "    graph5_state_prep_node,\n",
    "    5,\n",
    "    graph5_mat,\n",
    "    step_size=0.1,\n",
    "    num_steps=10,\n",
    "    shots=100,\n",
    "    qnode_kwargs=qnode_kwargs,\n",
    "    atol=0.3,\n",
    ")"
   ]
  },
  {
   "attachments": {},
   "cell_type": "markdown",
   "metadata": {},
   "source": [
    "## 50 Shots"
   ]
  },
  {
   "cell_type": "code",
   "execution_count": 11,
   "metadata": {},
   "outputs": [
    {
     "name": "stdout",
     "output_type": "stream",
     "text": [
      "characteristic matrix :\n",
      " [[0.94268319 0.99537844 0.12878805 0.13494474 0.08095388]\n",
      " [0.99537844 0.94268319 0.11104761 0.06100533 0.11497788]\n",
      " [0.12878805 0.11104761 0.90438146 0.11806366 0.07531321]\n",
      " [0.13494474 0.06100533 0.11806366 0.9248187  1.        ]\n",
      " [0.08095388 0.11497788 0.07531321 1.         0.90438146]]\n",
      "decision matrix :\n",
      " [[1 1 1 1 0]\n",
      " [1 1 1 0 1]\n",
      " [1 1 1 1 0]\n",
      " [1 0 1 1 1]\n",
      " [0 1 0 1 1]]\n",
      "expected matrix :\n",
      " [[1 1 1 0 0]\n",
      " [1 1 1 0 0]\n",
      " [1 1 1 0 0]\n",
      " [0 0 0 1 1]\n",
      " [0 0 0 1 1]]\n",
      "distance to expected :  1.8032406839943667\n"
     ]
    }
   ],
   "source": [
    "characteristic_matrix_inference(\n",
    "    graph5_state_prep_node,\n",
    "    graph5_mat,\n",
    "    num_steps=40,\n",
    "    step_size=0.1,\n",
    "    shots=50,\n",
    "    qnode_kwargs=qnode_kwargs,\n",
    ")"
   ]
  },
  {
   "cell_type": "code",
   "execution_count": 13,
   "metadata": {},
   "outputs": [
    {
     "name": "stdout",
     "output_type": "stream",
     "text": [
      "covariance matrix :\n",
      " [[ 1.      1.      1.     -0.08    0.08  ]\n",
      " [ 1.      1.      1.     -0.08    0.08  ]\n",
      " [ 1.      1.      1.     -0.08    0.08  ]\n",
      " [-0.08   -0.08   -0.08    0.9856 -0.9856]\n",
      " [ 0.08    0.08    0.08   -0.9856  0.9856]]\n",
      "decision matrix :\n",
      " [[1 1 1 0 0]\n",
      " [1 1 1 0 0]\n",
      " [1 1 1 0 0]\n",
      " [0 0 0 1 1]\n",
      " [0 0 0 1 1]]\n",
      "expected matrix :\n",
      " [[1 1 1 0 0]\n",
      " [1 1 1 0 0]\n",
      " [1 1 1 0 0]\n",
      " [0 0 0 1 1]\n",
      " [0 0 0 1 1]]\n",
      "distance to expected :  0.2786206022533149\n"
     ]
    }
   ],
   "source": [
    "covariance_matrix_inference(\n",
    "    graph5_state_prep_node,\n",
    "    5,\n",
    "    graph5_mat,\n",
    "    step_size=0.1,\n",
    "    num_steps=10,\n",
    "    shots=50,\n",
    "    qnode_kwargs=qnode_kwargs,\n",
    "    atol=0.4,\n",
    ")"
   ]
  },
  {
   "attachments": {},
   "cell_type": "markdown",
   "metadata": {},
   "source": [
    "## 10 Shots"
   ]
  },
  {
   "cell_type": "code",
   "execution_count": 14,
   "metadata": {},
   "outputs": [
    {
     "name": "stdout",
     "output_type": "stream",
     "text": [
      "characteristic matrix :\n",
      " [[0.72192809 0.3958156  0.97095059 0.3958156  0.55677965]\n",
      " [0.3958156  0.46899559 0.97095059 0.55677965 0.3958156 ]\n",
      " [0.97095059 0.97095059 0.46899559 0.41997309 0.41997309]\n",
      " [0.3958156  0.55677965 0.41997309 0.46899559 1.        ]\n",
      " [0.55677965 0.3958156  0.41997309 1.         0.72192809]]\n",
      "decision matrix :\n",
      " [[1 1 1 1 1]\n",
      " [1 1 1 1 1]\n",
      " [1 1 1 1 1]\n",
      " [1 1 1 1 1]\n",
      " [1 1 1 1 1]]\n",
      "expected matrix :\n",
      " [[1 1 1 0 0]\n",
      " [1 1 1 0 0]\n",
      " [1 1 1 0 0]\n",
      " [0 0 0 1 1]\n",
      " [0 0 0 1 1]]\n",
      "distance to expected :  2.0751390139564574\n"
     ]
    }
   ],
   "source": [
    "characteristic_matrix_inference(\n",
    "    graph5_state_prep_node,\n",
    "    graph5_mat,\n",
    "    num_steps=40,\n",
    "    step_size=0.1,\n",
    "    shots=10,\n",
    "    qnode_kwargs=qnode_kwargs,\n",
    ")"
   ]
  },
  {
   "cell_type": "code",
   "execution_count": 15,
   "metadata": {},
   "outputs": [
    {
     "name": "stdout",
     "output_type": "stream",
     "text": [
      "covariance matrix :\n",
      " [[ 0.96  0.08 -0.24 -0.24  0.24]\n",
      " [ 0.08  0.64  0.08  0.08 -0.08]\n",
      " [-0.24  0.08  0.96  0.56 -0.56]\n",
      " [-0.24  0.08  0.56  0.96 -0.96]\n",
      " [ 0.24 -0.08 -0.56 -0.96  0.96]]\n",
      "decision matrix :\n",
      " [[1 0 0 0 0]\n",
      " [0 1 0 0 0]\n",
      " [0 0 1 1 1]\n",
      " [0 0 1 1 1]\n",
      " [0 0 1 1 1]]\n",
      "expected matrix :\n",
      " [[1 1 1 0 0]\n",
      " [1 1 1 0 0]\n",
      " [1 1 1 0 0]\n",
      " [0 0 0 1 1]\n",
      " [0 0 0 1 1]]\n",
      "distance to expected :  2.4880514464134382\n"
     ]
    }
   ],
   "source": [
    "covariance_matrix_inference(\n",
    "    graph5_state_prep_node,\n",
    "    5,\n",
    "    graph5_mat,\n",
    "    step_size=0.1,\n",
    "    num_steps=10,\n",
    "    shots=10,\n",
    "    qnode_kwargs=qnode_kwargs,\n",
    "    atol=0.3,\n",
    ")"
   ]
  },
  {
   "attachments": {},
   "cell_type": "markdown",
   "metadata": {},
   "source": [
    "## 5 Shots\n"
   ]
  },
  {
   "cell_type": "code",
   "execution_count": 16,
   "metadata": {},
   "outputs": [
    {
     "name": "stdout",
     "output_type": "stream",
     "text": [
      "characteristic matrix :\n",
      " [[-0.          0.97095059  0.72192809  0.97095059  0.72192809]\n",
      " [ 0.97095059 -0.          0.97095059  0.97095059  0.97095059]\n",
      " [ 0.72192809  0.97095059 -0.          0.97095059  0.97095059]\n",
      " [ 0.97095059  0.97095059  0.97095059 -0.          0.97095059]\n",
      " [ 0.72192809  0.97095059  0.97095059  0.97095059 -0.        ]]\n",
      "decision matrix :\n",
      " [[0 1 1 1 1]\n",
      " [1 0 1 1 1]\n",
      " [1 1 0 1 1]\n",
      " [1 1 1 0 1]\n",
      " [1 1 1 1 0]]\n",
      "expected matrix :\n",
      " [[1 1 1 0 0]\n",
      " [1 1 1 0 0]\n",
      " [1 1 1 0 0]\n",
      " [0 0 0 1 1]\n",
      " [0 0 0 1 1]]\n",
      "distance to expected :  3.9534190384647188\n"
     ]
    }
   ],
   "source": [
    "characteristic_matrix_inference(\n",
    "    graph5_state_prep_node,\n",
    "    graph5_mat,\n",
    "    num_steps=40,\n",
    "    step_size=0.1,\n",
    "    shots=5,\n",
    "    qnode_kwargs=qnode_kwargs,\n",
    ")"
   ]
  },
  {
   "cell_type": "code",
   "execution_count": 17,
   "metadata": {},
   "outputs": [
    {
     "name": "stdout",
     "output_type": "stream",
     "text": [
      "covariance matrix :\n",
      " [[ 0.96  0.16  0.96 -0.16 -0.48]\n",
      " [ 0.16  0.96  0.16 -0.96 -0.48]\n",
      " [ 0.96  0.16  0.96 -0.16 -0.48]\n",
      " [-0.16 -0.96 -0.16  0.96  0.48]\n",
      " [-0.48 -0.48 -0.48  0.48  0.64]]\n",
      "decision matrix :\n",
      " [[1 0 1 0 0]\n",
      " [0 1 0 1 0]\n",
      " [1 0 1 0 0]\n",
      " [0 1 0 1 0]\n",
      " [0 0 0 0 1]]\n",
      "expected matrix :\n",
      " [[1 1 1 0 0]\n",
      " [1 1 1 0 0]\n",
      " [1 1 1 0 0]\n",
      " [0 0 0 1 1]\n",
      " [0 0 0 1 1]]\n",
      "distance to expected :  2.6135033958271414\n"
     ]
    }
   ],
   "source": [
    "covariance_matrix_inference(\n",
    "    graph5_state_prep_node,\n",
    "    5,\n",
    "    graph5_mat,\n",
    "    step_size=0.1,\n",
    "    num_steps=10,\n",
    "    shots=5,\n",
    "    qnode_kwargs=qnode_kwargs,\n",
    "    atol=0.5,\n",
    ")"
   ]
  },
  {
   "cell_type": "code",
   "execution_count": null,
   "metadata": {},
   "outputs": [],
   "source": []
  }
 ],
 "metadata": {
  "kernelspec": {
   "display_name": "qnetti-dev",
   "language": "python",
   "name": "python3"
  },
  "language_info": {
   "codemirror_mode": {
    "name": "ipython",
    "version": 3
   },
   "file_extension": ".py",
   "mimetype": "text/x-python",
   "name": "python",
   "nbconvert_exporter": "python",
   "pygments_lexer": "ipython3",
   "version": "3.8.16"
  },
  "orig_nbformat": 4,
  "vscode": {
   "interpreter": {
    "hash": "846536a23776736bc0845be6c32b9ee9c375f2c4c95b8defe18cef9bdc15dde6"
   }
  }
 },
 "nbformat": 4,
 "nbformat_minor": 2
}
