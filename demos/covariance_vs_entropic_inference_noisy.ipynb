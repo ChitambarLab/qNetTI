{
 "cells": [
  {
   "cell_type": "markdown",
   "id": "859f258d",
   "metadata": {},
   "source": [
    "# Network inference under noisy channels\n",
    "\n",
    "Under noiseless hardware, it seems that covariance methods reign supreme over entropic quantities by both computational complexity and performance. We hope to find regimes for which studying entropic quantities are advantageous. \n",
    "\n",
    "The intuition for examining noisy quantum channels is as follows. Covariance is a linear operator. It captures the linear relationship between two random variables. Mutual information also quantifies the amount of correlation between random quantities, but it assumes no linearity. Thus, I suspect when the linear formalism of quantum mechanics break down, the performance of covariance-based inference will decline, and perhaps more so than entropy-based methods."
   ]
  },
  {
   "cell_type": "code",
   "execution_count": 18,
   "id": "c72117fb",
   "metadata": {},
   "outputs": [
    {
     "name": "stdout",
     "output_type": "stream",
     "text": [
      "0.4.1\n",
      "0.28.0\n"
     ]
    }
   ],
   "source": [
    "import qnetti\n",
    "import pennylane as qml\n",
    "from pennylane import numpy as qnp\n",
    "import qnetvo\n",
    "\n",
    "print(qnetvo.__version__)\n",
    "print(qml.__version__)"
   ]
  },
  {
   "cell_type": "code",
   "execution_count": 19,
   "id": "793a4153",
   "metadata": {},
   "outputs": [],
   "source": [
    "def decision_matrix(mat, atol=0.1):\n",
    "    return qnp.where(qnp.abs(mat) > atol, 1, 0)\n",
    "\n",
    "\n",
    "def matrix_distance(mat1, mat2):\n",
    "    return qnp.linalg.norm(qnp.array(mat1) - qnp.abs(qnp.array(mat2)))\n",
    "\n",
    "\n",
    "def characteristic_matrix_inference(prep_node, expected_mat, **kwargs):\n",
    "    char_mat = qnetti.qubit_characteristic_matrix(prep_node, **kwargs)\n",
    "    dec_mat = decision_matrix(char_mat)\n",
    "    char_dist = matrix_distance(expected_mat, char_mat)\n",
    "\n",
    "    print(\"characteristic matrix :\\n\", char_mat)\n",
    "    print(\"decision matrix :\\n\", dec_mat)\n",
    "    print(\"expected matrix :\\n\", expected_mat)\n",
    "    print(\"distance to expected : \", char_dist)\n",
    "\n",
    "\n",
    "def covariance_matrix_inference(\n",
    "    prep_node,\n",
    "    num_qubits,\n",
    "    expected_mat,\n",
    "    meas_wires=None,\n",
    "    step_size=0.1,\n",
    "    num_steps=10,\n",
    "    verbose=False,\n",
    "    shots=None,\n",
    "    qnode_kwargs={},\n",
    "    atol=0.1,\n",
    "):\n",
    "    settings = qnp.random.rand(3 * num_qubits, requires_grad=True)\n",
    "    cov_cost = qnetti.qubit_covariance_cost_fn(\n",
    "        prep_node, meas_wires=meas_wires, shots=shots, qnode_kwargs=qnode_kwargs\n",
    "    )\n",
    "\n",
    "    settings_list = [settings]\n",
    "    cost_vals = [cov_cost(settings)]\n",
    "\n",
    "    opt = qml.GradientDescentOptimizer(stepsize=step_size)\n",
    "    for i in range(num_steps):\n",
    "        settings, cost_val = opt.step_and_cost(cov_cost, settings)\n",
    "\n",
    "        cost_vals += [cost_val]\n",
    "        settings_list += [settings]\n",
    "\n",
    "    min_id = qnp.argmin(cost_vals)\n",
    "    min_cost = cost_vals[min_id]\n",
    "    opt_settings = settings_list[min_id]\n",
    "\n",
    "    cov_mat = qnetti.qubit_covariance_matrix_fn(\n",
    "        prep_node, meas_wires=meas_wires, shots=shots, qnode_kwargs=qnode_kwargs\n",
    "    )(opt_settings)\n",
    "    dec_mat = decision_matrix(cov_mat, atol=atol)\n",
    "    cov_dist = matrix_distance(expected_mat, cov_mat)\n",
    "\n",
    "    print(\"covariance matrix :\\n\", cov_mat)\n",
    "    print(\"decision matrix :\\n\", dec_mat)\n",
    "    print(\"expected matrix :\\n\", expected_mat)\n",
    "    print(\"distance to expected : \", cov_dist)"
   ]
  },
  {
   "cell_type": "markdown",
   "id": "a413a3b6",
   "metadata": {},
   "source": [
    "## 2-qubit"
   ]
  },
  {
   "cell_type": "code",
   "execution_count": 38,
   "id": "ffb6dc8f",
   "metadata": {},
   "outputs": [],
   "source": [
    "ghz2_mat = qnp.ones((2, 2))\n",
    "\n",
    "qnp.random.seed(100)\n",
    "def rot_bell_state(settings, wires):\n",
    "    qml.ArbitraryUnitary(qnp.random.normal(scale=0.1, size=(15,)), wires=wires)\n",
    "\n",
    "\n",
    "bell_state_prep_node = qnetvo.PrepareNode(wires=[0, 1], ansatz_fn=rot_bell_state)"
   ]
  },
  {
   "cell_type": "code",
   "execution_count": 39,
   "id": "286fa778",
   "metadata": {},
   "outputs": [
    {
     "name": "stdout",
     "output_type": "stream",
     "text": [
      "characteristic matrix :\n",
      " [[0.06788139 0.0593137 ]\n",
      " [0.0593137  0.83918277]]\n",
      "decision matrix :\n",
      " [[0 0]\n",
      " [0 1]]\n",
      "expected matrix :\n",
      " [[1. 1.]\n",
      " [1. 1.]]\n",
      "distance to expected :  1.632326165101115\n"
     ]
    }
   ],
   "source": [
    "characteristic_matrix_inference(bell_state_prep_node, ghz2_mat, num_steps=20, step_size=0.1,qnode_kwargs={})"
   ]
  },
  {
   "cell_type": "code",
   "execution_count": 40,
   "id": "0066c659",
   "metadata": {},
   "outputs": [
    {
     "name": "stdout",
     "output_type": "stream",
     "text": [
      "covariance matrix :\n",
      " [[0.99235104 0.17600161]\n",
      " [0.17600161 0.98785177]]\n",
      "decision matrix :\n",
      " [[1 1]\n",
      " [1 1]]\n",
      "expected matrix :\n",
      " [[1. 1.]\n",
      " [1. 1.]]\n",
      "distance to expected :  1.165398117348909\n"
     ]
    }
   ],
   "source": [
    "covariance_matrix_inference(\n",
    "    bell_state_prep_node,\n",
    "    2,\n",
    "    ghz2_mat,\n",
    "    step_size=0.2,\n",
    "    num_steps=20,\n",
    "    verbose=False,\n",
    ")"
   ]
  },
  {
   "cell_type": "markdown",
   "id": "29a3075c",
   "metadata": {},
   "source": [
    "## 5-qubit"
   ]
  },
  {
   "cell_type": "code",
   "execution_count": 45,
   "id": "c141e128",
   "metadata": {},
   "outputs": [],
   "source": [
    "ghz5_mat = qnp.ones((5, 5))\n",
    "\n",
    "qnp.random.seed(100)\n",
    "def rot_ghz5_state(settings, wires):\n",
    "    qml.ArbitraryUnitary(qnp.random.normal(scale=0.5,size=(4**5-1)), wires=wires)\n",
    "\n",
    "\n",
    "ghz5_state_prep_node = qnetvo.PrepareNode(wires=[0, 1, 2, 3, 4], ansatz_fn=rot_ghz5_state)"
   ]
  },
  {
   "cell_type": "code",
   "execution_count": 49,
   "id": "6d4d3f66",
   "metadata": {},
   "outputs": [
    {
     "name": "stdout",
     "output_type": "stream",
     "text": [
      "characteristic matrix :\n",
      " [[0.83628743 0.11851519 0.04924075 0.15437617 0.12037577]\n",
      " [0.11851519 0.86893442 0.06252241 0.10531382 0.0849201 ]\n",
      " [0.04924075 0.06252241 0.94775039 0.12110324 0.13229768]\n",
      " [0.15437617 0.10531382 0.12110324 0.88077946 0.09034042]\n",
      " [0.12037577 0.0849201  0.13229768 0.09034042 0.88863827]]\n",
      "decision matrix :\n",
      " [[1 1 0 1 1]\n",
      " [1 1 0 1 0]\n",
      " [0 0 1 1 1]\n",
      " [1 1 1 1 0]\n",
      " [1 0 1 0 1]]\n",
      "expected matrix :\n",
      " [[1. 1. 1. 1. 1.]\n",
      " [1. 1. 1. 1. 1.]\n",
      " [1. 1. 1. 1. 1.]\n",
      " [1. 1. 1. 1. 1.]\n",
      " [1. 1. 1. 1. 1.]]\n",
      "distance to expected :  4.018951550218008\n"
     ]
    }
   ],
   "source": [
    "characteristic_matrix_inference(ghz5_state_prep_node, ghz5_mat, num_steps=30, step_size=0.1)"
   ]
  },
  {
   "cell_type": "code",
   "execution_count": 48,
   "id": "7de43398",
   "metadata": {},
   "outputs": [
    {
     "name": "stdout",
     "output_type": "stream",
     "text": [
      "covariance matrix :\n",
      " [[ 0.99225657 -0.15597477  0.08848139 -0.01979018 -0.13554809]\n",
      " [-0.15597477  0.99599216  0.19995416 -0.07729274 -0.04936062]\n",
      " [ 0.08848139  0.19995416  0.99556714  0.23532129 -0.02855872]\n",
      " [-0.01979018 -0.07729274  0.23532129  0.99814727  0.07977523]\n",
      " [-0.13554809 -0.04936062 -0.02855872  0.07977523  0.99995769]]\n",
      "decision matrix :\n",
      " [[1 1 0 0 1]\n",
      " [1 1 1 0 0]\n",
      " [0 1 1 1 0]\n",
      " [0 0 1 1 0]\n",
      " [1 0 0 0 1]]\n",
      "expected matrix :\n",
      " [[1. 1. 1. 1. 1.]\n",
      " [1. 1. 1. 1. 1.]\n",
      " [1. 1. 1. 1. 1.]\n",
      " [1. 1. 1. 1. 1.]\n",
      " [1. 1. 1. 1. 1.]]\n",
      "distance to expected :  4.005447614608562\n"
     ]
    }
   ],
   "source": [
    "covariance_matrix_inference(\n",
    "    ghz5_state_prep_node, 5, ghz5_mat, step_size=0.1, num_steps=10, verbose=False\n",
    ")"
   ]
  },
  {
   "cell_type": "code",
   "execution_count": null,
   "id": "51b87e0d",
   "metadata": {},
   "outputs": [],
   "source": []
  }
 ],
 "metadata": {
  "kernelspec": {
   "display_name": "Python 3 (ipykernel)",
   "language": "python",
   "name": "python3"
  },
  "language_info": {
   "codemirror_mode": {
    "name": "ipython",
    "version": 3
   },
   "file_extension": ".py",
   "mimetype": "text/x-python",
   "name": "python",
   "nbconvert_exporter": "python",
   "pygments_lexer": "ipython3",
   "version": "3.8.15"
  }
 },
 "nbformat": 4,
 "nbformat_minor": 5
}
